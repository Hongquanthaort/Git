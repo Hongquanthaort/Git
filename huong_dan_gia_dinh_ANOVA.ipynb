{
  "cells": [
    {
      "cell_type": "markdown",
      "metadata": {
        "id": "view-in-github",
        "colab_type": "text"
      },
      "source": [
        "<a href=\"https://colab.research.google.com/github/Hongquanthaort/Git/blob/main/huong_dan_gia_dinh_ANOVA.ipynb\" target=\"_parent\"><img src=\"https://colab.research.google.com/assets/colab-badge.svg\" alt=\"Open In Colab\"/></a>"
      ]
    },
    {
      "cell_type": "markdown",
      "metadata": {
        "id": "TxMbxU8UHwhO"
      },
      "source": [
        "PHÂN TÍCH ANOVA MỘT CHIỀU\n",
        "\n",
        "Phân tích ANOVA chấp nhận các giả định sau:\n",
        "\n",
        "(1) Tất cả các nhóm đều độc lập với nhau\n",
        "\n",
        "(2) Dữ liệu của mỗi nhóm đều tuân theo phân phối chuẩn. Tính chất này có thể được kiểm định bằng phương pháp Shapiro-Wilks.\n",
        "\n",
        "(3) Phương sai (variance) của các nhóm bằng nhau. Tính chất này có thể được kiểm định bằng phương pháp kiểm định Bartlett hay Levene.\n",
        "\n",
        "Nếu dữ liệu hiện có thỏa mãn các tính chất trên thì chúng ta mới tiến hành kiểm định ANOVA. Do vậy trước khi tiến hành kiểm định ANOVA, chúng ta cần thực hiện kiểm tra tập dữ liệu cần thỏa mãn 3 tính chất trên.\n",
        "    "
      ]
    },
    {
      "cell_type": "code",
      "execution_count": 13,
      "metadata": {
        "id": "YYfs9a-HHwhS",
        "outputId": "32dd2dcb-63df-427e-dbfa-9ef3083ce165",
        "colab": {
          "base_uri": "https://localhost:8080/"
        }
      },
      "outputs": [
        {
          "output_type": "stream",
          "name": "stdout",
          "text": [
            "[ 6 15 66 42 59 89 18 57 47 90 27 35  7 63 56  0 77 94 64 52 70 68 17 76\n",
            " 33  9 87 25 91 30 11 22 88 38 34 24 78 50 86  4 93 45 84 12 51 75 43 71\n",
            " 65 85 82 54 46 67 95 53 74 49 21 32 62 16 20 80 81  5 99 26 58 92 98 40\n",
            " 39 83  2 60 10 14 41 19 37  1 72  8 29 61 13 55 23 28 96 44 73 31 79 69\n",
            " 48 97  3 36]\n"
          ]
        }
      ],
      "source": [
        "#Bước 1: Hãy tạo một tập dữ liệu mẫu sample_1 với kích thước 100 tuân theo phân phối chuẩn\n",
        "import numpy as np\n",
        "sample_1= np.random.choice(np.arange(0, 100), 100, replace=False)\n",
        "print(sample_1)"
      ]
    },
    {
      "cell_type": "code",
      "execution_count": 26,
      "metadata": {
        "id": "nOB68Rl6HwhV",
        "outputId": "c657da32-9d5d-42c6-8345-83bcd6eac846",
        "colab": {
          "base_uri": "https://localhost:8080/"
        }
      },
      "outputs": [
        {
          "output_type": "stream",
          "name": "stdout",
          "text": [
            "[ 4  5  1  3  7 10  6  3  6  3  7  5 10  2  3  5  6  1  5  2  5  4  2  8\n",
            "  4  4  6  2  2  5  4  4  7  6  4  3  2  6  3  8  6  5  5  5  2  4  3  4\n",
            "  4  5  5  4  8  3  2  7  6  3  1  3  5  4  2  9  5  6  7  3  6  4  2  5\n",
            "  1  5  5  1  6  1  2  9  4  4  4  8  7  2  0  2  7  4  3  2  1  3  2  9\n",
            "  9  3  9  9]\n"
          ]
        }
      ],
      "source": [
        "#Bước 2: hãy tạo tập dữ liệu mẫu sample_2 với kích thước 100 tuân theo phân phối Poisson\n",
        "import numpy as np\n",
        "sample_2 = np.random.poisson(5, 100)\n",
        "print(sample_2)"
      ]
    },
    {
      "cell_type": "markdown",
      "metadata": {
        "id": "uPgR-92hHwhW"
      },
      "source": [
        "Hãy tham khảo các hướng dẫn sau để kiểm định tính chất thứ 2 bằng phương pháp Shapiro-Wilks đối với sample_1 và sample_2\n",
        "\n",
        "(1) [Tài liệu tham khảo scipy](https://docs.scipy.org/doc/scipy/reference/generated/scipy.stats.shapiro.html)\n",
        "\n",
        "(2) [Hướng dẫn cụ thể của statology](https://www.statology.org/shapiro-wilk-test-python/)"
      ]
    },
    {
      "cell_type": "code",
      "execution_count": 30,
      "metadata": {
        "id": "HdUPDU1QHwhX",
        "outputId": "9204b9b1-9017-4aeb-9e8a-8905279be683",
        "colab": {
          "base_uri": "https://localhost:8080/"
        }
      },
      "outputs": [
        {
          "output_type": "stream",
          "name": "stdout",
          "text": [
            "(0.9567474126815796, 0.0023735538125038147)\n"
          ]
        }
      ],
      "source": [
        "#Code kiểm định tính chất thứ 2 của sample_1 và sample_2\n",
        "shapiro_test1 = stats.shapiro(sample_1)\n",
        "shapiro_test1\n"
      ]
    },
    {
      "cell_type": "code",
      "source": [
        "shapiro_test2 = stats.shapiro(sample_2)\n",
        "shapiro_test2"
      ],
      "metadata": {
        "id": "mOz5sQFGNzTS",
        "outputId": "07982cbf-5800-46d9-9378-cc681938769d",
        "colab": {
          "base_uri": "https://localhost:8080/"
        }
      },
      "execution_count": 32,
      "outputs": [
        {
          "output_type": "execute_result",
          "data": {
            "text/plain": [
              "(0.9567474126815796, 0.0023735538125038147)"
            ]
          },
          "metadata": {},
          "execution_count": 32
        }
      ]
    },
    {
      "cell_type": "markdown",
      "metadata": {
        "id": "lug12lvtHwhX"
      },
      "source": [
        "Hãy tham khảo các hướng dẫn sau để kiểm định tính chất thứ 3 bằng kiểm định Bartlett hoặc kiểm định Levene\n",
        "\n",
        "(1) [Hướng dẫn tổng quát](https://www.marsja.se/levenes-bartletts-test-of-equality-homogeneity-of-variance-in-python/)\n",
        "\n",
        "(2) [Hướng dẫn ở stackoverflow](https://stackoverflow.com/questions/36141254/how-to-test-for-homoscedasticity-having-the-same-population-variance-in-python)\n",
        "\n",
        "(3) Sử dụng bài giảng về kiểm định Bartlett và Levene ở buổi trước"
      ]
    },
    {
      "cell_type": "code",
      "execution_count": null,
      "metadata": {
        "id": "gT0XJDMpHwhY"
      },
      "outputs": [],
      "source": [
        "#Code kiểm định tính đồng nhất về phương sai của các nhóm"
      ]
    },
    {
      "cell_type": "code",
      "execution_count": 37,
      "metadata": {
        "id": "0ky1GT6KHwhY",
        "outputId": "b37197ba-ad3e-44db-aadf-53a87988d779",
        "colab": {
          "base_uri": "https://localhost:8080/"
        }
      },
      "outputs": [
        {
          "output_type": "stream",
          "name": "stdout",
          "text": [
            "361.25430657781624 1.5012866159073335e-80\n"
          ]
        }
      ],
      "source": [
        "from scipy.stats import bartlett\n",
        "stat, p = bartlett(sample_1,sample_2)\n",
        "print(stat, p)"
      ]
    }
  ],
  "metadata": {
    "kernelspec": {
      "display_name": "Python 3",
      "language": "python",
      "name": "python3"
    },
    "language_info": {
      "codemirror_mode": {
        "name": "ipython",
        "version": 3
      },
      "file_extension": ".py",
      "mimetype": "text/x-python",
      "name": "python",
      "nbconvert_exporter": "python",
      "pygments_lexer": "ipython3",
      "version": "3.7.3"
    },
    "colab": {
      "name": "huong-dan-gia-dinh-ANOVA.ipynb",
      "provenance": [],
      "include_colab_link": true
    }
  },
  "nbformat": 4,
  "nbformat_minor": 0
}