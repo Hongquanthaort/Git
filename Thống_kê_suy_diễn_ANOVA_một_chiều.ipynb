{
  "nbformat": 4,
  "nbformat_minor": 0,
  "metadata": {
    "colab": {
      "name": "Thống kê suy diễn - ANOVA một chiều.ipynb",
      "provenance": [],
      "collapsed_sections": [],
      "authorship_tag": "ABX9TyOdmkIT7WcuQ+FmZh5UGXYT",
      "include_colab_link": true
    },
    "kernelspec": {
      "name": "python3",
      "display_name": "Python 3"
    },
    "language_info": {
      "name": "python"
    }
  },
  "cells": [
    {
      "cell_type": "markdown",
      "metadata": {
        "id": "view-in-github",
        "colab_type": "text"
      },
      "source": [
        "<a href=\"https://colab.research.google.com/github/Hongquanthaort/Git/blob/main/Th%E1%BB%91ng_k%C3%AA_suy_di%E1%BB%85n_ANOVA_m%E1%BB%99t_chi%E1%BB%81u.ipynb\" target=\"_parent\"><img src=\"https://colab.research.google.com/assets/colab-badge.svg\" alt=\"Open In Colab\"/></a>"
      ]
    },
    {
      "cell_type": "markdown",
      "source": [
        "#***Thống kê suy diễn - ANOVA một chiều***"
      ],
      "metadata": {
        "id": "TGI6dvXEmU7u"
      }
    },
    {
      "cell_type": "markdown",
      "source": [
        "Các thư viện cần sử dụng"
      ],
      "metadata": {
        "id": "W3umQv5skLUq"
      }
    },
    {
      "cell_type": "code",
      "execution_count": 1,
      "metadata": {
        "id": "NFel1NrPzHEs"
      },
      "outputs": [],
      "source": [
        "import pandas as pd\n",
        "import numpy as np\n",
        "import scipy.stats as st\n",
        "from scipy.stats import f_oneway"
      ]
    },
    {
      "cell_type": "markdown",
      "source": [
        "Nhập tập dữ liệu cho thống kê suy diễn"
      ],
      "metadata": {
        "id": "OJWoS3DjkRSp"
      }
    },
    {
      "cell_type": "code",
      "source": [
        "data = pd.read_csv(\"Diet_R.csv\")\n",
        "data.head(10)"
      ],
      "metadata": {
        "colab": {
          "base_uri": "https://localhost:8080/",
          "height": 363
        },
        "id": "1U2s9B2uzcXf",
        "outputId": "b58c5cd7-6aef-4588-fd5c-19d60c494d03"
      },
      "execution_count": 2,
      "outputs": [
        {
          "output_type": "execute_result",
          "data": {
            "text/plain": [
              "   Person gender  Age  Height  pre.weight  Diet  weight6weeks\n",
              "0      25          41     171          60     2          60.0\n",
              "1      26          32     174         103     2         103.0\n",
              "2       1      0   22     159          58     1          54.2\n",
              "3       2      0   46     192          60     1          54.0\n",
              "4       3      0   55     170          64     1          63.3\n",
              "5       4      0   33     171          64     1          61.1\n",
              "6       5      0   50     170          65     1          62.2\n",
              "7       6      0   50     201          66     1          64.0\n",
              "8       7      0   37     174          67     1          65.0\n",
              "9       8      0   28     176          69     1          60.5"
            ],
            "text/html": [
              "\n",
              "  <div id=\"df-5143389b-e944-472e-bd4d-d26d615a3e7a\">\n",
              "    <div class=\"colab-df-container\">\n",
              "      <div>\n",
              "<style scoped>\n",
              "    .dataframe tbody tr th:only-of-type {\n",
              "        vertical-align: middle;\n",
              "    }\n",
              "\n",
              "    .dataframe tbody tr th {\n",
              "        vertical-align: top;\n",
              "    }\n",
              "\n",
              "    .dataframe thead th {\n",
              "        text-align: right;\n",
              "    }\n",
              "</style>\n",
              "<table border=\"1\" class=\"dataframe\">\n",
              "  <thead>\n",
              "    <tr style=\"text-align: right;\">\n",
              "      <th></th>\n",
              "      <th>Person</th>\n",
              "      <th>gender</th>\n",
              "      <th>Age</th>\n",
              "      <th>Height</th>\n",
              "      <th>pre.weight</th>\n",
              "      <th>Diet</th>\n",
              "      <th>weight6weeks</th>\n",
              "    </tr>\n",
              "  </thead>\n",
              "  <tbody>\n",
              "    <tr>\n",
              "      <th>0</th>\n",
              "      <td>25</td>\n",
              "      <td></td>\n",
              "      <td>41</td>\n",
              "      <td>171</td>\n",
              "      <td>60</td>\n",
              "      <td>2</td>\n",
              "      <td>60.0</td>\n",
              "    </tr>\n",
              "    <tr>\n",
              "      <th>1</th>\n",
              "      <td>26</td>\n",
              "      <td></td>\n",
              "      <td>32</td>\n",
              "      <td>174</td>\n",
              "      <td>103</td>\n",
              "      <td>2</td>\n",
              "      <td>103.0</td>\n",
              "    </tr>\n",
              "    <tr>\n",
              "      <th>2</th>\n",
              "      <td>1</td>\n",
              "      <td>0</td>\n",
              "      <td>22</td>\n",
              "      <td>159</td>\n",
              "      <td>58</td>\n",
              "      <td>1</td>\n",
              "      <td>54.2</td>\n",
              "    </tr>\n",
              "    <tr>\n",
              "      <th>3</th>\n",
              "      <td>2</td>\n",
              "      <td>0</td>\n",
              "      <td>46</td>\n",
              "      <td>192</td>\n",
              "      <td>60</td>\n",
              "      <td>1</td>\n",
              "      <td>54.0</td>\n",
              "    </tr>\n",
              "    <tr>\n",
              "      <th>4</th>\n",
              "      <td>3</td>\n",
              "      <td>0</td>\n",
              "      <td>55</td>\n",
              "      <td>170</td>\n",
              "      <td>64</td>\n",
              "      <td>1</td>\n",
              "      <td>63.3</td>\n",
              "    </tr>\n",
              "    <tr>\n",
              "      <th>5</th>\n",
              "      <td>4</td>\n",
              "      <td>0</td>\n",
              "      <td>33</td>\n",
              "      <td>171</td>\n",
              "      <td>64</td>\n",
              "      <td>1</td>\n",
              "      <td>61.1</td>\n",
              "    </tr>\n",
              "    <tr>\n",
              "      <th>6</th>\n",
              "      <td>5</td>\n",
              "      <td>0</td>\n",
              "      <td>50</td>\n",
              "      <td>170</td>\n",
              "      <td>65</td>\n",
              "      <td>1</td>\n",
              "      <td>62.2</td>\n",
              "    </tr>\n",
              "    <tr>\n",
              "      <th>7</th>\n",
              "      <td>6</td>\n",
              "      <td>0</td>\n",
              "      <td>50</td>\n",
              "      <td>201</td>\n",
              "      <td>66</td>\n",
              "      <td>1</td>\n",
              "      <td>64.0</td>\n",
              "    </tr>\n",
              "    <tr>\n",
              "      <th>8</th>\n",
              "      <td>7</td>\n",
              "      <td>0</td>\n",
              "      <td>37</td>\n",
              "      <td>174</td>\n",
              "      <td>67</td>\n",
              "      <td>1</td>\n",
              "      <td>65.0</td>\n",
              "    </tr>\n",
              "    <tr>\n",
              "      <th>9</th>\n",
              "      <td>8</td>\n",
              "      <td>0</td>\n",
              "      <td>28</td>\n",
              "      <td>176</td>\n",
              "      <td>69</td>\n",
              "      <td>1</td>\n",
              "      <td>60.5</td>\n",
              "    </tr>\n",
              "  </tbody>\n",
              "</table>\n",
              "</div>\n",
              "      <button class=\"colab-df-convert\" onclick=\"convertToInteractive('df-5143389b-e944-472e-bd4d-d26d615a3e7a')\"\n",
              "              title=\"Convert this dataframe to an interactive table.\"\n",
              "              style=\"display:none;\">\n",
              "        \n",
              "  <svg xmlns=\"http://www.w3.org/2000/svg\" height=\"24px\"viewBox=\"0 0 24 24\"\n",
              "       width=\"24px\">\n",
              "    <path d=\"M0 0h24v24H0V0z\" fill=\"none\"/>\n",
              "    <path d=\"M18.56 5.44l.94 2.06.94-2.06 2.06-.94-2.06-.94-.94-2.06-.94 2.06-2.06.94zm-11 1L8.5 8.5l.94-2.06 2.06-.94-2.06-.94L8.5 2.5l-.94 2.06-2.06.94zm10 10l.94 2.06.94-2.06 2.06-.94-2.06-.94-.94-2.06-.94 2.06-2.06.94z\"/><path d=\"M17.41 7.96l-1.37-1.37c-.4-.4-.92-.59-1.43-.59-.52 0-1.04.2-1.43.59L10.3 9.45l-7.72 7.72c-.78.78-.78 2.05 0 2.83L4 21.41c.39.39.9.59 1.41.59.51 0 1.02-.2 1.41-.59l7.78-7.78 2.81-2.81c.8-.78.8-2.07 0-2.86zM5.41 20L4 18.59l7.72-7.72 1.47 1.35L5.41 20z\"/>\n",
              "  </svg>\n",
              "      </button>\n",
              "      \n",
              "  <style>\n",
              "    .colab-df-container {\n",
              "      display:flex;\n",
              "      flex-wrap:wrap;\n",
              "      gap: 12px;\n",
              "    }\n",
              "\n",
              "    .colab-df-convert {\n",
              "      background-color: #E8F0FE;\n",
              "      border: none;\n",
              "      border-radius: 50%;\n",
              "      cursor: pointer;\n",
              "      display: none;\n",
              "      fill: #1967D2;\n",
              "      height: 32px;\n",
              "      padding: 0 0 0 0;\n",
              "      width: 32px;\n",
              "    }\n",
              "\n",
              "    .colab-df-convert:hover {\n",
              "      background-color: #E2EBFA;\n",
              "      box-shadow: 0px 1px 2px rgba(60, 64, 67, 0.3), 0px 1px 3px 1px rgba(60, 64, 67, 0.15);\n",
              "      fill: #174EA6;\n",
              "    }\n",
              "\n",
              "    [theme=dark] .colab-df-convert {\n",
              "      background-color: #3B4455;\n",
              "      fill: #D2E3FC;\n",
              "    }\n",
              "\n",
              "    [theme=dark] .colab-df-convert:hover {\n",
              "      background-color: #434B5C;\n",
              "      box-shadow: 0px 1px 3px 1px rgba(0, 0, 0, 0.15);\n",
              "      filter: drop-shadow(0px 1px 2px rgba(0, 0, 0, 0.3));\n",
              "      fill: #FFFFFF;\n",
              "    }\n",
              "  </style>\n",
              "\n",
              "      <script>\n",
              "        const buttonEl =\n",
              "          document.querySelector('#df-5143389b-e944-472e-bd4d-d26d615a3e7a button.colab-df-convert');\n",
              "        buttonEl.style.display =\n",
              "          google.colab.kernel.accessAllowed ? 'block' : 'none';\n",
              "\n",
              "        async function convertToInteractive(key) {\n",
              "          const element = document.querySelector('#df-5143389b-e944-472e-bd4d-d26d615a3e7a');\n",
              "          const dataTable =\n",
              "            await google.colab.kernel.invokeFunction('convertToInteractive',\n",
              "                                                     [key], {});\n",
              "          if (!dataTable) return;\n",
              "\n",
              "          const docLinkHtml = 'Like what you see? Visit the ' +\n",
              "            '<a target=\"_blank\" href=https://colab.research.google.com/notebooks/data_table.ipynb>data table notebook</a>'\n",
              "            + ' to learn more about interactive tables.';\n",
              "          element.innerHTML = '';\n",
              "          dataTable['output_type'] = 'display_data';\n",
              "          await google.colab.output.renderOutput(dataTable, element);\n",
              "          const docLink = document.createElement('div');\n",
              "          docLink.innerHTML = docLinkHtml;\n",
              "          element.appendChild(docLink);\n",
              "        }\n",
              "      </script>\n",
              "    </div>\n",
              "  </div>\n",
              "  "
            ]
          },
          "metadata": {},
          "execution_count": 2
        }
      ]
    },
    {
      "cell_type": "markdown",
      "source": [
        "Lọc dữ liệu số lượng người trong nhóm có chế độ ăn kiêng khác nhau"
      ],
      "metadata": {
        "id": "00fnZAA2kX4J"
      }
    },
    {
      "cell_type": "code",
      "source": [
        "data.groupby(\"Diet\").Person.count()"
      ],
      "metadata": {
        "colab": {
          "base_uri": "https://localhost:8080/"
        },
        "id": "dtpGNgNb6xq7",
        "outputId": "8c93f059-6ec7-49fc-a740-6ee0c74af55d"
      },
      "execution_count": 3,
      "outputs": [
        {
          "output_type": "execute_result",
          "data": {
            "text/plain": [
              "Diet\n",
              "1    24\n",
              "2    27\n",
              "3    27\n",
              "Name: Person, dtype: int64"
            ]
          },
          "metadata": {},
          "execution_count": 3
        }
      ]
    },
    {
      "cell_type": "markdown",
      "source": [
        "Để so sánh chế độ giảm cân thì không thể phụ thuộc vào trọng lượng ban đầu được, vì vậy nên chỉ có thể so sánh bằng chỉ số khối cơ thể tính đến chiều cao của 1 người. Trước và sau khi giảm cân\n",
        "\n",
        "BMI = cân nặng(kilo)/ chiều cao^2(mét)\n"
      ],
      "metadata": {
        "id": "o4w_NKZnjcvp"
      }
    },
    {
      "cell_type": "code",
      "source": [
        "data ['BMI_start'] = data [\"pre.weight\"] / (data [\"Height\"] / 100)**2\n",
        "data [\"BMI_end\"] = data [\"weight6weeks\"] / (data [\"Height\"] / 100)**2\n",
        "data [\"BMI_change\"] = data ['BMI_start'] - data [\"BMI_end\"]\n",
        "data"
      ],
      "metadata": {
        "id": "zrO6iEWlK1xZ",
        "outputId": "116e2a55-1b9c-4e46-baa6-757722658526",
        "colab": {
          "base_uri": "https://localhost:8080/",
          "height": 468
        }
      },
      "execution_count": 4,
      "outputs": [
        {
          "output_type": "execute_result",
          "data": {
            "text/plain": [
              "    Person gender  Age  Height  pre.weight  Diet  weight6weeks  BMI_start  \\\n",
              "0       25          41     171          60     2          60.0  20.519134   \n",
              "1       26          32     174         103     2         103.0  34.020346   \n",
              "2        1      0   22     159          58     1          54.2  22.942130   \n",
              "3        2      0   46     192          60     1          54.0  16.276042   \n",
              "4        3      0   55     170          64     1          63.3  22.145329   \n",
              "..     ...    ...  ...     ...         ...   ...           ...        ...   \n",
              "73      74      1   35     183          83     3          80.2  24.784258   \n",
              "74      75      1   49     177          84     3          79.9  26.812219   \n",
              "75      76      1   28     164          85     3          79.7  31.603212   \n",
              "76      77      1   40     167          87     3          77.8  31.195095   \n",
              "77      78      1   51     175          88     3          81.9  28.734694   \n",
              "\n",
              "      BMI_end  BMI_change  \n",
              "0   20.519134    0.000000  \n",
              "1   34.020346    0.000000  \n",
              "2   21.439025    1.503105  \n",
              "3   14.648438    1.627604  \n",
              "4   21.903114    0.242215  \n",
              "..        ...         ...  \n",
              "73  23.948162    0.836095  \n",
              "74  25.503527    1.308692  \n",
              "75  29.632659    1.970553  \n",
              "76  27.896303    3.298792  \n",
              "77  26.742857    1.991837  \n",
              "\n",
              "[78 rows x 10 columns]"
            ],
            "text/html": [
              "\n",
              "  <div id=\"df-d8d4c4b9-fd60-4277-b977-99cf4cbb8220\">\n",
              "    <div class=\"colab-df-container\">\n",
              "      <div>\n",
              "<style scoped>\n",
              "    .dataframe tbody tr th:only-of-type {\n",
              "        vertical-align: middle;\n",
              "    }\n",
              "\n",
              "    .dataframe tbody tr th {\n",
              "        vertical-align: top;\n",
              "    }\n",
              "\n",
              "    .dataframe thead th {\n",
              "        text-align: right;\n",
              "    }\n",
              "</style>\n",
              "<table border=\"1\" class=\"dataframe\">\n",
              "  <thead>\n",
              "    <tr style=\"text-align: right;\">\n",
              "      <th></th>\n",
              "      <th>Person</th>\n",
              "      <th>gender</th>\n",
              "      <th>Age</th>\n",
              "      <th>Height</th>\n",
              "      <th>pre.weight</th>\n",
              "      <th>Diet</th>\n",
              "      <th>weight6weeks</th>\n",
              "      <th>BMI_start</th>\n",
              "      <th>BMI_end</th>\n",
              "      <th>BMI_change</th>\n",
              "    </tr>\n",
              "  </thead>\n",
              "  <tbody>\n",
              "    <tr>\n",
              "      <th>0</th>\n",
              "      <td>25</td>\n",
              "      <td></td>\n",
              "      <td>41</td>\n",
              "      <td>171</td>\n",
              "      <td>60</td>\n",
              "      <td>2</td>\n",
              "      <td>60.0</td>\n",
              "      <td>20.519134</td>\n",
              "      <td>20.519134</td>\n",
              "      <td>0.000000</td>\n",
              "    </tr>\n",
              "    <tr>\n",
              "      <th>1</th>\n",
              "      <td>26</td>\n",
              "      <td></td>\n",
              "      <td>32</td>\n",
              "      <td>174</td>\n",
              "      <td>103</td>\n",
              "      <td>2</td>\n",
              "      <td>103.0</td>\n",
              "      <td>34.020346</td>\n",
              "      <td>34.020346</td>\n",
              "      <td>0.000000</td>\n",
              "    </tr>\n",
              "    <tr>\n",
              "      <th>2</th>\n",
              "      <td>1</td>\n",
              "      <td>0</td>\n",
              "      <td>22</td>\n",
              "      <td>159</td>\n",
              "      <td>58</td>\n",
              "      <td>1</td>\n",
              "      <td>54.2</td>\n",
              "      <td>22.942130</td>\n",
              "      <td>21.439025</td>\n",
              "      <td>1.503105</td>\n",
              "    </tr>\n",
              "    <tr>\n",
              "      <th>3</th>\n",
              "      <td>2</td>\n",
              "      <td>0</td>\n",
              "      <td>46</td>\n",
              "      <td>192</td>\n",
              "      <td>60</td>\n",
              "      <td>1</td>\n",
              "      <td>54.0</td>\n",
              "      <td>16.276042</td>\n",
              "      <td>14.648438</td>\n",
              "      <td>1.627604</td>\n",
              "    </tr>\n",
              "    <tr>\n",
              "      <th>4</th>\n",
              "      <td>3</td>\n",
              "      <td>0</td>\n",
              "      <td>55</td>\n",
              "      <td>170</td>\n",
              "      <td>64</td>\n",
              "      <td>1</td>\n",
              "      <td>63.3</td>\n",
              "      <td>22.145329</td>\n",
              "      <td>21.903114</td>\n",
              "      <td>0.242215</td>\n",
              "    </tr>\n",
              "    <tr>\n",
              "      <th>...</th>\n",
              "      <td>...</td>\n",
              "      <td>...</td>\n",
              "      <td>...</td>\n",
              "      <td>...</td>\n",
              "      <td>...</td>\n",
              "      <td>...</td>\n",
              "      <td>...</td>\n",
              "      <td>...</td>\n",
              "      <td>...</td>\n",
              "      <td>...</td>\n",
              "    </tr>\n",
              "    <tr>\n",
              "      <th>73</th>\n",
              "      <td>74</td>\n",
              "      <td>1</td>\n",
              "      <td>35</td>\n",
              "      <td>183</td>\n",
              "      <td>83</td>\n",
              "      <td>3</td>\n",
              "      <td>80.2</td>\n",
              "      <td>24.784258</td>\n",
              "      <td>23.948162</td>\n",
              "      <td>0.836095</td>\n",
              "    </tr>\n",
              "    <tr>\n",
              "      <th>74</th>\n",
              "      <td>75</td>\n",
              "      <td>1</td>\n",
              "      <td>49</td>\n",
              "      <td>177</td>\n",
              "      <td>84</td>\n",
              "      <td>3</td>\n",
              "      <td>79.9</td>\n",
              "      <td>26.812219</td>\n",
              "      <td>25.503527</td>\n",
              "      <td>1.308692</td>\n",
              "    </tr>\n",
              "    <tr>\n",
              "      <th>75</th>\n",
              "      <td>76</td>\n",
              "      <td>1</td>\n",
              "      <td>28</td>\n",
              "      <td>164</td>\n",
              "      <td>85</td>\n",
              "      <td>3</td>\n",
              "      <td>79.7</td>\n",
              "      <td>31.603212</td>\n",
              "      <td>29.632659</td>\n",
              "      <td>1.970553</td>\n",
              "    </tr>\n",
              "    <tr>\n",
              "      <th>76</th>\n",
              "      <td>77</td>\n",
              "      <td>1</td>\n",
              "      <td>40</td>\n",
              "      <td>167</td>\n",
              "      <td>87</td>\n",
              "      <td>3</td>\n",
              "      <td>77.8</td>\n",
              "      <td>31.195095</td>\n",
              "      <td>27.896303</td>\n",
              "      <td>3.298792</td>\n",
              "    </tr>\n",
              "    <tr>\n",
              "      <th>77</th>\n",
              "      <td>78</td>\n",
              "      <td>1</td>\n",
              "      <td>51</td>\n",
              "      <td>175</td>\n",
              "      <td>88</td>\n",
              "      <td>3</td>\n",
              "      <td>81.9</td>\n",
              "      <td>28.734694</td>\n",
              "      <td>26.742857</td>\n",
              "      <td>1.991837</td>\n",
              "    </tr>\n",
              "  </tbody>\n",
              "</table>\n",
              "<p>78 rows × 10 columns</p>\n",
              "</div>\n",
              "      <button class=\"colab-df-convert\" onclick=\"convertToInteractive('df-d8d4c4b9-fd60-4277-b977-99cf4cbb8220')\"\n",
              "              title=\"Convert this dataframe to an interactive table.\"\n",
              "              style=\"display:none;\">\n",
              "        \n",
              "  <svg xmlns=\"http://www.w3.org/2000/svg\" height=\"24px\"viewBox=\"0 0 24 24\"\n",
              "       width=\"24px\">\n",
              "    <path d=\"M0 0h24v24H0V0z\" fill=\"none\"/>\n",
              "    <path d=\"M18.56 5.44l.94 2.06.94-2.06 2.06-.94-2.06-.94-.94-2.06-.94 2.06-2.06.94zm-11 1L8.5 8.5l.94-2.06 2.06-.94-2.06-.94L8.5 2.5l-.94 2.06-2.06.94zm10 10l.94 2.06.94-2.06 2.06-.94-2.06-.94-.94-2.06-.94 2.06-2.06.94z\"/><path d=\"M17.41 7.96l-1.37-1.37c-.4-.4-.92-.59-1.43-.59-.52 0-1.04.2-1.43.59L10.3 9.45l-7.72 7.72c-.78.78-.78 2.05 0 2.83L4 21.41c.39.39.9.59 1.41.59.51 0 1.02-.2 1.41-.59l7.78-7.78 2.81-2.81c.8-.78.8-2.07 0-2.86zM5.41 20L4 18.59l7.72-7.72 1.47 1.35L5.41 20z\"/>\n",
              "  </svg>\n",
              "      </button>\n",
              "      \n",
              "  <style>\n",
              "    .colab-df-container {\n",
              "      display:flex;\n",
              "      flex-wrap:wrap;\n",
              "      gap: 12px;\n",
              "    }\n",
              "\n",
              "    .colab-df-convert {\n",
              "      background-color: #E8F0FE;\n",
              "      border: none;\n",
              "      border-radius: 50%;\n",
              "      cursor: pointer;\n",
              "      display: none;\n",
              "      fill: #1967D2;\n",
              "      height: 32px;\n",
              "      padding: 0 0 0 0;\n",
              "      width: 32px;\n",
              "    }\n",
              "\n",
              "    .colab-df-convert:hover {\n",
              "      background-color: #E2EBFA;\n",
              "      box-shadow: 0px 1px 2px rgba(60, 64, 67, 0.3), 0px 1px 3px 1px rgba(60, 64, 67, 0.15);\n",
              "      fill: #174EA6;\n",
              "    }\n",
              "\n",
              "    [theme=dark] .colab-df-convert {\n",
              "      background-color: #3B4455;\n",
              "      fill: #D2E3FC;\n",
              "    }\n",
              "\n",
              "    [theme=dark] .colab-df-convert:hover {\n",
              "      background-color: #434B5C;\n",
              "      box-shadow: 0px 1px 3px 1px rgba(0, 0, 0, 0.15);\n",
              "      filter: drop-shadow(0px 1px 2px rgba(0, 0, 0, 0.3));\n",
              "      fill: #FFFFFF;\n",
              "    }\n",
              "  </style>\n",
              "\n",
              "      <script>\n",
              "        const buttonEl =\n",
              "          document.querySelector('#df-d8d4c4b9-fd60-4277-b977-99cf4cbb8220 button.colab-df-convert');\n",
              "        buttonEl.style.display =\n",
              "          google.colab.kernel.accessAllowed ? 'block' : 'none';\n",
              "\n",
              "        async function convertToInteractive(key) {\n",
              "          const element = document.querySelector('#df-d8d4c4b9-fd60-4277-b977-99cf4cbb8220');\n",
              "          const dataTable =\n",
              "            await google.colab.kernel.invokeFunction('convertToInteractive',\n",
              "                                                     [key], {});\n",
              "          if (!dataTable) return;\n",
              "\n",
              "          const docLinkHtml = 'Like what you see? Visit the ' +\n",
              "            '<a target=\"_blank\" href=https://colab.research.google.com/notebooks/data_table.ipynb>data table notebook</a>'\n",
              "            + ' to learn more about interactive tables.';\n",
              "          element.innerHTML = '';\n",
              "          dataTable['output_type'] = 'display_data';\n",
              "          await google.colab.output.renderOutput(dataTable, element);\n",
              "          const docLink = document.createElement('div');\n",
              "          docLink.innerHTML = docLinkHtml;\n",
              "          element.appendChild(docLink);\n",
              "        }\n",
              "      </script>\n",
              "    </div>\n",
              "  </div>\n",
              "  "
            ]
          },
          "metadata": {},
          "execution_count": 4
        }
      ]
    },
    {
      "cell_type": "markdown",
      "source": [
        "Tạo mảng với các thay đổi BMI trong các biến khác nhau cho mọi chế độ ăn uống"
      ],
      "metadata": {
        "id": "Xm0OS1IukqQ5"
      }
    },
    {
      "cell_type": "code",
      "source": [
        "diet_1 = data [data[\"Diet\"] == 1][\"BMI_change\"].to_list()\n",
        "diet_2 = data [data[\"Diet\"] == 2][\"BMI_change\"].to_list()\n",
        "diet_3 = data [data[\"Diet\"] == 3][\"BMI_change\"].to_list()\n"
      ],
      "metadata": {
        "id": "1p50fki6CXgp"
      },
      "execution_count": 7,
      "outputs": []
    },
    {
      "cell_type": "markdown",
      "source": [
        "Kiểm tra phân phối chuẩn\n"
      ],
      "metadata": {
        "id": "QDpCMyAJLR7d"
      }
    },
    {
      "cell_type": "code",
      "source": [
        "from scipy.stats import shapiro\n",
        "_,p1=shapiro(diet_1)\n",
        "print(\"p1:\",p1)\n",
        "_,p2=shapiro(diet_2)\n",
        "print(\"p2:\",p2)\n",
        "_,p3=shapiro(diet_1)\n",
        "print(\"p3:\",p3)"
      ],
      "metadata": {
        "colab": {
          "base_uri": "https://localhost:8080/"
        },
        "id": "qeMk26YDLXQk",
        "outputId": "70a13597-cc9a-4f53-92d2-1d71f1ed6c43"
      },
      "execution_count": 8,
      "outputs": [
        {
          "output_type": "stream",
          "name": "stdout",
          "text": [
            "p1: 0.06736458837985992\n",
            "p2: 0.7722797989845276\n",
            "p3: 0.06736458837985992\n"
          ]
        }
      ]
    },
    {
      "cell_type": "code",
      "source": [
        "if p1> 0.05:\n",
        "  print('Với dữ liệu ta vừa thu thập để phân tích có thể thấy được các mẫu có cùng phân phối chuẩn')\n",
        "else:\n",
        "  print('Với dữ liệu ta vừa thu thập để phân tích có thể thấy được các mẫu không có cùng phân phối chuẩn')\n",
        "if p2> 0.05:\n",
        "  print('Với dữ liệu ta vừa thu thập để phân tích có thể thấy được các mẫu có cùng phân phối chuẩn')\n",
        "else:\n",
        "  print('Với dữ liệu ta vừa thu thập để phân tích có thể thấy được các mẫu không có cùng phân phối chuẩn')\n",
        "if p3> 0.05:\n",
        "  print('Với dữ liệu ta vừa thu thập để phân tích có thể thấy được các mẫu có cùng phân phối chuẩn')\n",
        "else:\n",
        "  print('Với dữ liệu ta vừa thu thập để phân tích có thể thấy được các mẫu không có cùng phân phối chuẩn')"
      ],
      "metadata": {
        "colab": {
          "base_uri": "https://localhost:8080/"
        },
        "id": "0VbaNkxSMkfU",
        "outputId": "7b856305-93a8-4b03-edbc-ff179b4e46ce"
      },
      "execution_count": 9,
      "outputs": [
        {
          "output_type": "stream",
          "name": "stdout",
          "text": [
            "Với dữ liệu ta vừa thu thập để phân tích có thể thấy được các mẫu có cùng phân phối chuẩn\n",
            "Với dữ liệu ta vừa thu thập để phân tích có thể thấy được các mẫu có cùng phân phối chuẩn\n",
            "Với dữ liệu ta vừa thu thập để phân tích có thể thấy được các mẫu có cùng phân phối chuẩn\n"
          ]
        }
      ]
    },
    {
      "cell_type": "markdown",
      "source": [
        "Kiểm tra phương sai\n"
      ],
      "metadata": {
        "id": "H-Go-j1MeBV5"
      }
    },
    {
      "cell_type": "code",
      "source": [
        "from scipy.stats import levene\n",
        "_,p=levene(diet_1,diet_2,diet_3)\n",
        "print(\"p=\" ,p)"
      ],
      "metadata": {
        "colab": {
          "base_uri": "https://localhost:8080/"
        },
        "id": "3FoL6c7MY6xk",
        "outputId": "c27bc6fb-1a31-4cf8-f94f-0012e28e286f"
      },
      "execution_count": 10,
      "outputs": [
        {
          "output_type": "stream",
          "name": "stdout",
          "text": [
            "p= 0.37117119715835095\n"
          ]
        }
      ]
    },
    {
      "cell_type": "code",
      "source": [
        "if p>0.05:\n",
        "  print(\"Với dữ liệu ta vừa thu thập để phân tích có thể thấy được các mẫu có cùng phương sai\")\n",
        "else:\n",
        "  print(\"Với dữ liệu ta vừa thu thập để phân tích có thể thấy được các mẫu không có cùng phương sai\")"
      ],
      "metadata": {
        "colab": {
          "base_uri": "https://localhost:8080/"
        },
        "id": "0y1yBBykZqwX",
        "outputId": "9934cf64-56a4-4fb7-9c5d-7420253f66d1"
      },
      "execution_count": 11,
      "outputs": [
        {
          "output_type": "stream",
          "name": "stdout",
          "text": [
            "Với dữ liệu ta vừa thu thập để phân tích có thể thấy được các mẫu có cùng phương sai\n"
          ]
        }
      ]
    },
    {
      "cell_type": "markdown",
      "source": [
        "Tiến hành Anova oneway\n"
      ],
      "metadata": {
        "id": "eve4lk8teE7l"
      }
    },
    {
      "cell_type": "code",
      "source": [
        "from scipy.stats import f_oneway\n",
        "stats, p_value= f_oneway(diet_1, diet_2, diet_3)\n",
        "print(\"p_value:\",p_value)"
      ],
      "metadata": {
        "colab": {
          "base_uri": "https://localhost:8080/"
        },
        "id": "tJ-LjjrlChUf",
        "outputId": "0cfd186b-f3bc-4069-8127-3f1589e11301"
      },
      "execution_count": 19,
      "outputs": [
        {
          "output_type": "stream",
          "name": "stdout",
          "text": [
            "p_value: 0.0005345120426406237\n"
          ]
        }
      ]
    },
    {
      "cell_type": "code",
      "source": [
        "if p_value < 0.05:\n",
        "  print(\"Có bằng chứng bác bỏ giả thuyết H0\")\n",
        "else:\n",
        "  print(\"Không có bằng chứng bác bỏ giả thuyết H0\")"
      ],
      "metadata": {
        "colab": {
          "base_uri": "https://localhost:8080/"
        },
        "id": "utSDNbIHkKpI",
        "outputId": "62ddf3b5-ddea-4314-c0c4-afb492a8ef5c"
      },
      "execution_count": 20,
      "outputs": [
        {
          "output_type": "stream",
          "name": "stdout",
          "text": [
            "Có bằng chứng bác bỏ giả thuyết H0\n"
          ]
        }
      ]
    },
    {
      "cell_type": "markdown",
      "source": [
        "p-value, tức là xác suất mà theo giả thuyết không đúng, thống kê F không nhỏ hơn 11,49 là 0,0000372 hoặc 0,0037%. Vì giá trị này không vượt quá mức ý nghĩa α = 5% nên giả thuyết vô hiệu bị bác bỏ."
      ],
      "metadata": {
        "id": "atR1ujEknjXg"
      }
    }
  ]
}