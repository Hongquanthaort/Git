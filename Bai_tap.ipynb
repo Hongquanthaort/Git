{
  "nbformat": 4,
  "nbformat_minor": 0,
  "metadata": {
    "colab": {
      "name": "Bai tap.ipynb",
      "provenance": [],
      "authorship_tag": "ABX9TyPZbixNPrHFh7KTZcozmmOz",
      "include_colab_link": true
    },
    "kernelspec": {
      "name": "python3",
      "display_name": "Python 3"
    },
    "language_info": {
      "name": "python"
    }
  },
  "cells": [
    {
      "cell_type": "markdown",
      "metadata": {
        "id": "view-in-github",
        "colab_type": "text"
      },
      "source": [
        "<a href=\"https://colab.research.google.com/github/Hongquanthaort/Git/blob/main/Bai_tap.ipynb\" target=\"_parent\"><img src=\"https://colab.research.google.com/assets/colab-badge.svg\" alt=\"Open In Colab\"/></a>"
      ]
    },
    {
      "cell_type": "code",
      "metadata": {
        "id": "0Wtg8Clj6rUR",
        "colab": {
          "base_uri": "https://localhost:8080/"
        },
        "outputId": "731fb729-8178-4036-dc67-133eae6e47e5"
      },
      "source": [
        "print(\"Hello Github & Colab\")"
      ],
      "execution_count": null,
      "outputs": [
        {
          "output_type": "stream",
          "name": "stdout",
          "text": [
            "Hello Github & Colab\n"
          ]
        }
      ]
    }
  ]
}