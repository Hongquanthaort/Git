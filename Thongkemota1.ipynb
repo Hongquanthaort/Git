{
  "nbformat": 4,
  "nbformat_minor": 0,
  "metadata": {
    "colab": {
      "name": "Thongkemota1.ipynb",
      "provenance": [],
      "authorship_tag": "ABX9TyPPJh9bTiEw4N2G9InwZAt5",
      "include_colab_link": true
    },
    "kernelspec": {
      "name": "python3",
      "display_name": "Python 3"
    },
    "language_info": {
      "name": "python"
    }
  },
  "cells": [
    {
      "cell_type": "markdown",
      "metadata": {
        "id": "view-in-github",
        "colab_type": "text"
      },
      "source": [
        "<a href=\"https://colab.research.google.com/github/Hongquanthaort/Git/blob/main/Thongkemota1.ipynb\" target=\"_parent\"><img src=\"https://colab.research.google.com/assets/colab-badge.svg\" alt=\"Open In Colab\"/></a>"
      ]
    },
    {
      "cell_type": "markdown",
      "source": [
        "Dùng pandas đọc tập tin trên vào 1 dataframe."
      ],
      "metadata": {
        "id": "LQx_8QFTvgig"
      }
    },
    {
      "cell_type": "code",
      "source": [
        "import pandas as pd\n",
        "\n",
        "df = pd.read_csv(\"1000SalesRecords.csv\")\n",
        "df.head()"
      ],
      "metadata": {
        "colab": {
          "base_uri": "https://localhost:8080/",
          "height": 206
        },
        "id": "xnVsuEyfvOST",
        "outputId": "4da2f81e-9533-4bf7-d396-79e218f3ad30"
      },
      "execution_count": null,
      "outputs": [
        {
          "output_type": "execute_result",
          "data": {
            "text/plain": [
              "                         Region Country   Item Type Sales Channel  \\\n",
              "0  Middle East and North Africa   Libya   Cosmetics       Offline   \n",
              "1                 North America  Canada  Vegetables        Online   \n",
              "2  Middle East and North Africa   Libya   Baby Food       Offline   \n",
              "3                          Asia   Japan      Cereal       Offline   \n",
              "4            Sub-Saharan Africa    Chad      Fruits       Offline   \n",
              "\n",
              "  Order Priority  Order Date   Order ID   Ship Date  Units Sold  Unit Price  \\\n",
              "0              M  10/18/2014  686800706  10/31/2014        8446      437.20   \n",
              "1              M   11/7/2011  185941302   12/8/2011        3018      154.06   \n",
              "2              C  10/31/2016  246222341   12/9/2016        1517      255.28   \n",
              "3              C   4/10/2010  161442649   5/12/2010        3322      205.70   \n",
              "4              H   8/16/2011  645713555   8/31/2011        9845        9.33   \n",
              "\n",
              "   Unit Cost  Total Revenue  Total Cost  Total Profit  \n",
              "0     263.33     3692591.20  2224085.18    1468506.02  \n",
              "1      90.93      464953.08   274426.74     190526.34  \n",
              "2     159.42      387259.76   241840.14     145419.62  \n",
              "3     117.11      683335.40   389039.42     294295.98  \n",
              "4       6.92       91853.85    68127.40      23726.45  "
            ],
            "text/html": [
              "\n",
              "  <div id=\"df-a650c187-c402-4cc9-8378-b8d190d4663c\">\n",
              "    <div class=\"colab-df-container\">\n",
              "      <div>\n",
              "<style scoped>\n",
              "    .dataframe tbody tr th:only-of-type {\n",
              "        vertical-align: middle;\n",
              "    }\n",
              "\n",
              "    .dataframe tbody tr th {\n",
              "        vertical-align: top;\n",
              "    }\n",
              "\n",
              "    .dataframe thead th {\n",
              "        text-align: right;\n",
              "    }\n",
              "</style>\n",
              "<table border=\"1\" class=\"dataframe\">\n",
              "  <thead>\n",
              "    <tr style=\"text-align: right;\">\n",
              "      <th></th>\n",
              "      <th>Region</th>\n",
              "      <th>Country</th>\n",
              "      <th>Item Type</th>\n",
              "      <th>Sales Channel</th>\n",
              "      <th>Order Priority</th>\n",
              "      <th>Order Date</th>\n",
              "      <th>Order ID</th>\n",
              "      <th>Ship Date</th>\n",
              "      <th>Units Sold</th>\n",
              "      <th>Unit Price</th>\n",
              "      <th>Unit Cost</th>\n",
              "      <th>Total Revenue</th>\n",
              "      <th>Total Cost</th>\n",
              "      <th>Total Profit</th>\n",
              "    </tr>\n",
              "  </thead>\n",
              "  <tbody>\n",
              "    <tr>\n",
              "      <th>0</th>\n",
              "      <td>Middle East and North Africa</td>\n",
              "      <td>Libya</td>\n",
              "      <td>Cosmetics</td>\n",
              "      <td>Offline</td>\n",
              "      <td>M</td>\n",
              "      <td>10/18/2014</td>\n",
              "      <td>686800706</td>\n",
              "      <td>10/31/2014</td>\n",
              "      <td>8446</td>\n",
              "      <td>437.20</td>\n",
              "      <td>263.33</td>\n",
              "      <td>3692591.20</td>\n",
              "      <td>2224085.18</td>\n",
              "      <td>1468506.02</td>\n",
              "    </tr>\n",
              "    <tr>\n",
              "      <th>1</th>\n",
              "      <td>North America</td>\n",
              "      <td>Canada</td>\n",
              "      <td>Vegetables</td>\n",
              "      <td>Online</td>\n",
              "      <td>M</td>\n",
              "      <td>11/7/2011</td>\n",
              "      <td>185941302</td>\n",
              "      <td>12/8/2011</td>\n",
              "      <td>3018</td>\n",
              "      <td>154.06</td>\n",
              "      <td>90.93</td>\n",
              "      <td>464953.08</td>\n",
              "      <td>274426.74</td>\n",
              "      <td>190526.34</td>\n",
              "    </tr>\n",
              "    <tr>\n",
              "      <th>2</th>\n",
              "      <td>Middle East and North Africa</td>\n",
              "      <td>Libya</td>\n",
              "      <td>Baby Food</td>\n",
              "      <td>Offline</td>\n",
              "      <td>C</td>\n",
              "      <td>10/31/2016</td>\n",
              "      <td>246222341</td>\n",
              "      <td>12/9/2016</td>\n",
              "      <td>1517</td>\n",
              "      <td>255.28</td>\n",
              "      <td>159.42</td>\n",
              "      <td>387259.76</td>\n",
              "      <td>241840.14</td>\n",
              "      <td>145419.62</td>\n",
              "    </tr>\n",
              "    <tr>\n",
              "      <th>3</th>\n",
              "      <td>Asia</td>\n",
              "      <td>Japan</td>\n",
              "      <td>Cereal</td>\n",
              "      <td>Offline</td>\n",
              "      <td>C</td>\n",
              "      <td>4/10/2010</td>\n",
              "      <td>161442649</td>\n",
              "      <td>5/12/2010</td>\n",
              "      <td>3322</td>\n",
              "      <td>205.70</td>\n",
              "      <td>117.11</td>\n",
              "      <td>683335.40</td>\n",
              "      <td>389039.42</td>\n",
              "      <td>294295.98</td>\n",
              "    </tr>\n",
              "    <tr>\n",
              "      <th>4</th>\n",
              "      <td>Sub-Saharan Africa</td>\n",
              "      <td>Chad</td>\n",
              "      <td>Fruits</td>\n",
              "      <td>Offline</td>\n",
              "      <td>H</td>\n",
              "      <td>8/16/2011</td>\n",
              "      <td>645713555</td>\n",
              "      <td>8/31/2011</td>\n",
              "      <td>9845</td>\n",
              "      <td>9.33</td>\n",
              "      <td>6.92</td>\n",
              "      <td>91853.85</td>\n",
              "      <td>68127.40</td>\n",
              "      <td>23726.45</td>\n",
              "    </tr>\n",
              "  </tbody>\n",
              "</table>\n",
              "</div>\n",
              "      <button class=\"colab-df-convert\" onclick=\"convertToInteractive('df-a650c187-c402-4cc9-8378-b8d190d4663c')\"\n",
              "              title=\"Convert this dataframe to an interactive table.\"\n",
              "              style=\"display:none;\">\n",
              "        \n",
              "  <svg xmlns=\"http://www.w3.org/2000/svg\" height=\"24px\"viewBox=\"0 0 24 24\"\n",
              "       width=\"24px\">\n",
              "    <path d=\"M0 0h24v24H0V0z\" fill=\"none\"/>\n",
              "    <path d=\"M18.56 5.44l.94 2.06.94-2.06 2.06-.94-2.06-.94-.94-2.06-.94 2.06-2.06.94zm-11 1L8.5 8.5l.94-2.06 2.06-.94-2.06-.94L8.5 2.5l-.94 2.06-2.06.94zm10 10l.94 2.06.94-2.06 2.06-.94-2.06-.94-.94-2.06-.94 2.06-2.06.94z\"/><path d=\"M17.41 7.96l-1.37-1.37c-.4-.4-.92-.59-1.43-.59-.52 0-1.04.2-1.43.59L10.3 9.45l-7.72 7.72c-.78.78-.78 2.05 0 2.83L4 21.41c.39.39.9.59 1.41.59.51 0 1.02-.2 1.41-.59l7.78-7.78 2.81-2.81c.8-.78.8-2.07 0-2.86zM5.41 20L4 18.59l7.72-7.72 1.47 1.35L5.41 20z\"/>\n",
              "  </svg>\n",
              "      </button>\n",
              "      \n",
              "  <style>\n",
              "    .colab-df-container {\n",
              "      display:flex;\n",
              "      flex-wrap:wrap;\n",
              "      gap: 12px;\n",
              "    }\n",
              "\n",
              "    .colab-df-convert {\n",
              "      background-color: #E8F0FE;\n",
              "      border: none;\n",
              "      border-radius: 50%;\n",
              "      cursor: pointer;\n",
              "      display: none;\n",
              "      fill: #1967D2;\n",
              "      height: 32px;\n",
              "      padding: 0 0 0 0;\n",
              "      width: 32px;\n",
              "    }\n",
              "\n",
              "    .colab-df-convert:hover {\n",
              "      background-color: #E2EBFA;\n",
              "      box-shadow: 0px 1px 2px rgba(60, 64, 67, 0.3), 0px 1px 3px 1px rgba(60, 64, 67, 0.15);\n",
              "      fill: #174EA6;\n",
              "    }\n",
              "\n",
              "    [theme=dark] .colab-df-convert {\n",
              "      background-color: #3B4455;\n",
              "      fill: #D2E3FC;\n",
              "    }\n",
              "\n",
              "    [theme=dark] .colab-df-convert:hover {\n",
              "      background-color: #434B5C;\n",
              "      box-shadow: 0px 1px 3px 1px rgba(0, 0, 0, 0.15);\n",
              "      filter: drop-shadow(0px 1px 2px rgba(0, 0, 0, 0.3));\n",
              "      fill: #FFFFFF;\n",
              "    }\n",
              "  </style>\n",
              "\n",
              "      <script>\n",
              "        const buttonEl =\n",
              "          document.querySelector('#df-a650c187-c402-4cc9-8378-b8d190d4663c button.colab-df-convert');\n",
              "        buttonEl.style.display =\n",
              "          google.colab.kernel.accessAllowed ? 'block' : 'none';\n",
              "\n",
              "        async function convertToInteractive(key) {\n",
              "          const element = document.querySelector('#df-a650c187-c402-4cc9-8378-b8d190d4663c');\n",
              "          const dataTable =\n",
              "            await google.colab.kernel.invokeFunction('convertToInteractive',\n",
              "                                                     [key], {});\n",
              "          if (!dataTable) return;\n",
              "\n",
              "          const docLinkHtml = 'Like what you see? Visit the ' +\n",
              "            '<a target=\"_blank\" href=https://colab.research.google.com/notebooks/data_table.ipynb>data table notebook</a>'\n",
              "            + ' to learn more about interactive tables.';\n",
              "          element.innerHTML = '';\n",
              "          dataTable['output_type'] = 'display_data';\n",
              "          await google.colab.output.renderOutput(dataTable, element);\n",
              "          const docLink = document.createElement('div');\n",
              "          docLink.innerHTML = docLinkHtml;\n",
              "          element.appendChild(docLink);\n",
              "        }\n",
              "      </script>\n",
              "    </div>\n",
              "  </div>\n",
              "  "
            ]
          },
          "metadata": {},
          "execution_count": 2
        }
      ]
    },
    {
      "cell_type": "markdown",
      "source": [
        "2. Hãy hiển thị các thông số sau của tập dữ liệu:\n",
        "\n",
        "a. Hiển thị 10 hàng đầu tiên của tập dữ liệu (gợi ý: hàm head() );\n",
        "\n",
        "b. Hiển thị kích thước của tập dữ liệu (gợi ý: shape);\n",
        "\n",
        "c. Hiển thị danh sách các cột(gợi ý: columns và chuyển cấu trúc Index của các\n",
        "columns về dạng list bằng hàm ép kiểu list()).\n"
      ],
      "metadata": {
        "id": "qq6ZxuGFvjEo"
      }
    },
    {
      "cell_type": "markdown",
      "source": [
        "Hiển thị 10 hàng đầu tiên của tập dữ liệu (gợi ý: hàm head() );"
      ],
      "metadata": {
        "id": "e37DFB8w5LZg"
      }
    },
    {
      "cell_type": "code",
      "source": [
        "df.head(10)"
      ],
      "metadata": {
        "colab": {
          "base_uri": "https://localhost:8080/",
          "height": 662
        },
        "id": "oSM40VYyvl84",
        "outputId": "662132d0-44d8-42a9-97ff-a87d7f04ced1"
      },
      "execution_count": null,
      "outputs": [
        {
          "output_type": "execute_result",
          "data": {
            "text/plain": [
              "                                         0              1    \\\n",
              "Region          Middle East and North Africa  North America   \n",
              "Country                                Libya         Canada   \n",
              "Item Type                          Cosmetics     Vegetables   \n",
              "Sales Channel                        Offline         Online   \n",
              "Order Priority                             M              M   \n",
              "Order Date                        10/18/2014      11/7/2011   \n",
              "Order ID                           686800706      185941302   \n",
              "Ship Date                         10/31/2014      12/8/2011   \n",
              "Units Sold                              8446           3018   \n",
              "Unit Price                             437.2         154.06   \n",
              "\n",
              "                                         2          3                   4    \\\n",
              "Region          Middle East and North Africa       Asia  Sub-Saharan Africa   \n",
              "Country                                Libya      Japan                Chad   \n",
              "Item Type                          Baby Food     Cereal              Fruits   \n",
              "Sales Channel                        Offline    Offline             Offline   \n",
              "Order Priority                             C          C                   H   \n",
              "Order Date                        10/31/2016  4/10/2010           8/16/2011   \n",
              "Order ID                           246222341  161442649           645713555   \n",
              "Ship Date                          12/9/2016  5/12/2010           8/31/2011   \n",
              "Units Sold                              1517       3322                9845   \n",
              "Unit Price                            255.28      205.7                9.33   \n",
              "\n",
              "                       5                   6           7    \\\n",
              "Region              Europe  Sub-Saharan Africa      Europe   \n",
              "Country            Armenia             Eritrea  Montenegro   \n",
              "Item Type           Cereal              Cereal     Clothes   \n",
              "Sales Channel       Online              Online     Offline   \n",
              "Order Priority           H                   H           M   \n",
              "Order Date      11/24/2014            3/4/2015   5/17/2012   \n",
              "Order ID         683458888           679414975   208630645   \n",
              "Ship Date       12/28/2014           4/17/2015   6/28/2012   \n",
              "Units Sold            9528                2844        7299   \n",
              "Unit Price           205.7               205.7      109.28   \n",
              "\n",
              "                                              8                      9    ...  \\\n",
              "Region          Central America and the Caribbean  Australia and Oceania  ...   \n",
              "Country                                   Jamaica                   Fiji  ...   \n",
              "Item Type                              Vegetables             Vegetables  ...   \n",
              "Sales Channel                              Online                Offline  ...   \n",
              "Order Priority                                  H                      H  ...   \n",
              "Order Date                              1/29/2015             12/24/2013  ...   \n",
              "Order ID                                266467225              118598544  ...   \n",
              "Ship Date                                3/7/2015              1/19/2014  ...   \n",
              "Units Sold                                   2428                   4800  ...   \n",
              "Unit Price                                 154.06                 154.06  ...   \n",
              "\n",
              "                               990                 991          992  \\\n",
              "Region          Sub-Saharan Africa  Sub-Saharan Africa       Europe   \n",
              "Country                       Mali             Liberia  Switzerland   \n",
              "Item Type                Beverages              Cereal    Beverages   \n",
              "Sales Channel               Online             Offline      Offline   \n",
              "Order Priority                   L                   H            L   \n",
              "Order Date               3/17/2012          12/17/2015    2/18/2017   \n",
              "Order ID                 410452497           642683303    682831895   \n",
              "Ship Date                3/26/2012           1/20/2016    3/16/2017   \n",
              "Units Sold                     870                3126         3987   \n",
              "Unit Price                   47.45               205.7        47.45   \n",
              "\n",
              "                                  993        994  \\\n",
              "Region          Australia and Oceania       Asia   \n",
              "Country                        Samoa       Nepal   \n",
              "Item Type                   Baby Food       Meat   \n",
              "Sales Channel                  Online    Offline   \n",
              "Order Priority                      L          C   \n",
              "Order Date                  11/5/2016   4/9/2017   \n",
              "Order ID                    584072101  919890248   \n",
              "Ship Date                   11/5/2016  5/18/2017   \n",
              "Units Sold                       8769       4821   \n",
              "Unit Price                     255.28     421.89   \n",
              "\n",
              "                                         995        996  \\\n",
              "Region          Middle East and North Africa     Europe   \n",
              "Country                           Azerbaijan    Georgia   \n",
              "Item Type                             Snacks  Baby Food   \n",
              "Sales Channel                        Offline    Offline   \n",
              "Order Priority                             C          H   \n",
              "Order Date                         4/18/2010   8/1/2011   \n",
              "Order ID                           534085166  590768182   \n",
              "Ship Date                          4/25/2010   9/7/2011   \n",
              "Units Sold                              6524        288   \n",
              "Unit Price                            152.58     255.28   \n",
              "\n",
              "                                         997        998        999  \n",
              "Region          Middle East and North Africa     Europe     Europe  \n",
              "Country                 United Arab Emirates    Finland   Portugal  \n",
              "Item Type                         Vegetables  Household     Cereal  \n",
              "Sales Channel                         Online    Offline    Offline  \n",
              "Order Priority                             C          L          C  \n",
              "Order Date                         5/12/2011  1/25/2016  4/10/2014  \n",
              "Order ID                           524363124  289606320  811546599  \n",
              "Ship Date                          6/28/2011  2/14/2016   5/8/2014  \n",
              "Units Sold                              9556       9801       3528  \n",
              "Unit Price                            154.06     668.27      205.7  \n",
              "\n",
              "[10 rows x 1000 columns]"
            ],
            "text/html": [
              "\n",
              "  <div id=\"df-6de3ea91-194c-4cb1-9340-4a15a0f17b22\">\n",
              "    <div class=\"colab-df-container\">\n",
              "      <div>\n",
              "<style scoped>\n",
              "    .dataframe tbody tr th:only-of-type {\n",
              "        vertical-align: middle;\n",
              "    }\n",
              "\n",
              "    .dataframe tbody tr th {\n",
              "        vertical-align: top;\n",
              "    }\n",
              "\n",
              "    .dataframe thead th {\n",
              "        text-align: right;\n",
              "    }\n",
              "</style>\n",
              "<table border=\"1\" class=\"dataframe\">\n",
              "  <thead>\n",
              "    <tr style=\"text-align: right;\">\n",
              "      <th></th>\n",
              "      <th>0</th>\n",
              "      <th>1</th>\n",
              "      <th>2</th>\n",
              "      <th>3</th>\n",
              "      <th>4</th>\n",
              "      <th>5</th>\n",
              "      <th>6</th>\n",
              "      <th>7</th>\n",
              "      <th>8</th>\n",
              "      <th>9</th>\n",
              "      <th>...</th>\n",
              "      <th>990</th>\n",
              "      <th>991</th>\n",
              "      <th>992</th>\n",
              "      <th>993</th>\n",
              "      <th>994</th>\n",
              "      <th>995</th>\n",
              "      <th>996</th>\n",
              "      <th>997</th>\n",
              "      <th>998</th>\n",
              "      <th>999</th>\n",
              "    </tr>\n",
              "  </thead>\n",
              "  <tbody>\n",
              "    <tr>\n",
              "      <th>Region</th>\n",
              "      <td>Middle East and North Africa</td>\n",
              "      <td>North America</td>\n",
              "      <td>Middle East and North Africa</td>\n",
              "      <td>Asia</td>\n",
              "      <td>Sub-Saharan Africa</td>\n",
              "      <td>Europe</td>\n",
              "      <td>Sub-Saharan Africa</td>\n",
              "      <td>Europe</td>\n",
              "      <td>Central America and the Caribbean</td>\n",
              "      <td>Australia and Oceania</td>\n",
              "      <td>...</td>\n",
              "      <td>Sub-Saharan Africa</td>\n",
              "      <td>Sub-Saharan Africa</td>\n",
              "      <td>Europe</td>\n",
              "      <td>Australia and Oceania</td>\n",
              "      <td>Asia</td>\n",
              "      <td>Middle East and North Africa</td>\n",
              "      <td>Europe</td>\n",
              "      <td>Middle East and North Africa</td>\n",
              "      <td>Europe</td>\n",
              "      <td>Europe</td>\n",
              "    </tr>\n",
              "    <tr>\n",
              "      <th>Country</th>\n",
              "      <td>Libya</td>\n",
              "      <td>Canada</td>\n",
              "      <td>Libya</td>\n",
              "      <td>Japan</td>\n",
              "      <td>Chad</td>\n",
              "      <td>Armenia</td>\n",
              "      <td>Eritrea</td>\n",
              "      <td>Montenegro</td>\n",
              "      <td>Jamaica</td>\n",
              "      <td>Fiji</td>\n",
              "      <td>...</td>\n",
              "      <td>Mali</td>\n",
              "      <td>Liberia</td>\n",
              "      <td>Switzerland</td>\n",
              "      <td>Samoa</td>\n",
              "      <td>Nepal</td>\n",
              "      <td>Azerbaijan</td>\n",
              "      <td>Georgia</td>\n",
              "      <td>United Arab Emirates</td>\n",
              "      <td>Finland</td>\n",
              "      <td>Portugal</td>\n",
              "    </tr>\n",
              "    <tr>\n",
              "      <th>Item Type</th>\n",
              "      <td>Cosmetics</td>\n",
              "      <td>Vegetables</td>\n",
              "      <td>Baby Food</td>\n",
              "      <td>Cereal</td>\n",
              "      <td>Fruits</td>\n",
              "      <td>Cereal</td>\n",
              "      <td>Cereal</td>\n",
              "      <td>Clothes</td>\n",
              "      <td>Vegetables</td>\n",
              "      <td>Vegetables</td>\n",
              "      <td>...</td>\n",
              "      <td>Beverages</td>\n",
              "      <td>Cereal</td>\n",
              "      <td>Beverages</td>\n",
              "      <td>Baby Food</td>\n",
              "      <td>Meat</td>\n",
              "      <td>Snacks</td>\n",
              "      <td>Baby Food</td>\n",
              "      <td>Vegetables</td>\n",
              "      <td>Household</td>\n",
              "      <td>Cereal</td>\n",
              "    </tr>\n",
              "    <tr>\n",
              "      <th>Sales Channel</th>\n",
              "      <td>Offline</td>\n",
              "      <td>Online</td>\n",
              "      <td>Offline</td>\n",
              "      <td>Offline</td>\n",
              "      <td>Offline</td>\n",
              "      <td>Online</td>\n",
              "      <td>Online</td>\n",
              "      <td>Offline</td>\n",
              "      <td>Online</td>\n",
              "      <td>Offline</td>\n",
              "      <td>...</td>\n",
              "      <td>Online</td>\n",
              "      <td>Offline</td>\n",
              "      <td>Offline</td>\n",
              "      <td>Online</td>\n",
              "      <td>Offline</td>\n",
              "      <td>Offline</td>\n",
              "      <td>Offline</td>\n",
              "      <td>Online</td>\n",
              "      <td>Offline</td>\n",
              "      <td>Offline</td>\n",
              "    </tr>\n",
              "    <tr>\n",
              "      <th>Order Priority</th>\n",
              "      <td>M</td>\n",
              "      <td>M</td>\n",
              "      <td>C</td>\n",
              "      <td>C</td>\n",
              "      <td>H</td>\n",
              "      <td>H</td>\n",
              "      <td>H</td>\n",
              "      <td>M</td>\n",
              "      <td>H</td>\n",
              "      <td>H</td>\n",
              "      <td>...</td>\n",
              "      <td>L</td>\n",
              "      <td>H</td>\n",
              "      <td>L</td>\n",
              "      <td>L</td>\n",
              "      <td>C</td>\n",
              "      <td>C</td>\n",
              "      <td>H</td>\n",
              "      <td>C</td>\n",
              "      <td>L</td>\n",
              "      <td>C</td>\n",
              "    </tr>\n",
              "    <tr>\n",
              "      <th>Order Date</th>\n",
              "      <td>10/18/2014</td>\n",
              "      <td>11/7/2011</td>\n",
              "      <td>10/31/2016</td>\n",
              "      <td>4/10/2010</td>\n",
              "      <td>8/16/2011</td>\n",
              "      <td>11/24/2014</td>\n",
              "      <td>3/4/2015</td>\n",
              "      <td>5/17/2012</td>\n",
              "      <td>1/29/2015</td>\n",
              "      <td>12/24/2013</td>\n",
              "      <td>...</td>\n",
              "      <td>3/17/2012</td>\n",
              "      <td>12/17/2015</td>\n",
              "      <td>2/18/2017</td>\n",
              "      <td>11/5/2016</td>\n",
              "      <td>4/9/2017</td>\n",
              "      <td>4/18/2010</td>\n",
              "      <td>8/1/2011</td>\n",
              "      <td>5/12/2011</td>\n",
              "      <td>1/25/2016</td>\n",
              "      <td>4/10/2014</td>\n",
              "    </tr>\n",
              "    <tr>\n",
              "      <th>Order ID</th>\n",
              "      <td>686800706</td>\n",
              "      <td>185941302</td>\n",
              "      <td>246222341</td>\n",
              "      <td>161442649</td>\n",
              "      <td>645713555</td>\n",
              "      <td>683458888</td>\n",
              "      <td>679414975</td>\n",
              "      <td>208630645</td>\n",
              "      <td>266467225</td>\n",
              "      <td>118598544</td>\n",
              "      <td>...</td>\n",
              "      <td>410452497</td>\n",
              "      <td>642683303</td>\n",
              "      <td>682831895</td>\n",
              "      <td>584072101</td>\n",
              "      <td>919890248</td>\n",
              "      <td>534085166</td>\n",
              "      <td>590768182</td>\n",
              "      <td>524363124</td>\n",
              "      <td>289606320</td>\n",
              "      <td>811546599</td>\n",
              "    </tr>\n",
              "    <tr>\n",
              "      <th>Ship Date</th>\n",
              "      <td>10/31/2014</td>\n",
              "      <td>12/8/2011</td>\n",
              "      <td>12/9/2016</td>\n",
              "      <td>5/12/2010</td>\n",
              "      <td>8/31/2011</td>\n",
              "      <td>12/28/2014</td>\n",
              "      <td>4/17/2015</td>\n",
              "      <td>6/28/2012</td>\n",
              "      <td>3/7/2015</td>\n",
              "      <td>1/19/2014</td>\n",
              "      <td>...</td>\n",
              "      <td>3/26/2012</td>\n",
              "      <td>1/20/2016</td>\n",
              "      <td>3/16/2017</td>\n",
              "      <td>11/5/2016</td>\n",
              "      <td>5/18/2017</td>\n",
              "      <td>4/25/2010</td>\n",
              "      <td>9/7/2011</td>\n",
              "      <td>6/28/2011</td>\n",
              "      <td>2/14/2016</td>\n",
              "      <td>5/8/2014</td>\n",
              "    </tr>\n",
              "    <tr>\n",
              "      <th>Units Sold</th>\n",
              "      <td>8446</td>\n",
              "      <td>3018</td>\n",
              "      <td>1517</td>\n",
              "      <td>3322</td>\n",
              "      <td>9845</td>\n",
              "      <td>9528</td>\n",
              "      <td>2844</td>\n",
              "      <td>7299</td>\n",
              "      <td>2428</td>\n",
              "      <td>4800</td>\n",
              "      <td>...</td>\n",
              "      <td>870</td>\n",
              "      <td>3126</td>\n",
              "      <td>3987</td>\n",
              "      <td>8769</td>\n",
              "      <td>4821</td>\n",
              "      <td>6524</td>\n",
              "      <td>288</td>\n",
              "      <td>9556</td>\n",
              "      <td>9801</td>\n",
              "      <td>3528</td>\n",
              "    </tr>\n",
              "    <tr>\n",
              "      <th>Unit Price</th>\n",
              "      <td>437.2</td>\n",
              "      <td>154.06</td>\n",
              "      <td>255.28</td>\n",
              "      <td>205.7</td>\n",
              "      <td>9.33</td>\n",
              "      <td>205.7</td>\n",
              "      <td>205.7</td>\n",
              "      <td>109.28</td>\n",
              "      <td>154.06</td>\n",
              "      <td>154.06</td>\n",
              "      <td>...</td>\n",
              "      <td>47.45</td>\n",
              "      <td>205.7</td>\n",
              "      <td>47.45</td>\n",
              "      <td>255.28</td>\n",
              "      <td>421.89</td>\n",
              "      <td>152.58</td>\n",
              "      <td>255.28</td>\n",
              "      <td>154.06</td>\n",
              "      <td>668.27</td>\n",
              "      <td>205.7</td>\n",
              "    </tr>\n",
              "  </tbody>\n",
              "</table>\n",
              "<p>10 rows × 1000 columns</p>\n",
              "</div>\n",
              "      <button class=\"colab-df-convert\" onclick=\"convertToInteractive('df-6de3ea91-194c-4cb1-9340-4a15a0f17b22')\"\n",
              "              title=\"Convert this dataframe to an interactive table.\"\n",
              "              style=\"display:none;\">\n",
              "        \n",
              "  <svg xmlns=\"http://www.w3.org/2000/svg\" height=\"24px\"viewBox=\"0 0 24 24\"\n",
              "       width=\"24px\">\n",
              "    <path d=\"M0 0h24v24H0V0z\" fill=\"none\"/>\n",
              "    <path d=\"M18.56 5.44l.94 2.06.94-2.06 2.06-.94-2.06-.94-.94-2.06-.94 2.06-2.06.94zm-11 1L8.5 8.5l.94-2.06 2.06-.94-2.06-.94L8.5 2.5l-.94 2.06-2.06.94zm10 10l.94 2.06.94-2.06 2.06-.94-2.06-.94-.94-2.06-.94 2.06-2.06.94z\"/><path d=\"M17.41 7.96l-1.37-1.37c-.4-.4-.92-.59-1.43-.59-.52 0-1.04.2-1.43.59L10.3 9.45l-7.72 7.72c-.78.78-.78 2.05 0 2.83L4 21.41c.39.39.9.59 1.41.59.51 0 1.02-.2 1.41-.59l7.78-7.78 2.81-2.81c.8-.78.8-2.07 0-2.86zM5.41 20L4 18.59l7.72-7.72 1.47 1.35L5.41 20z\"/>\n",
              "  </svg>\n",
              "      </button>\n",
              "      \n",
              "  <style>\n",
              "    .colab-df-container {\n",
              "      display:flex;\n",
              "      flex-wrap:wrap;\n",
              "      gap: 12px;\n",
              "    }\n",
              "\n",
              "    .colab-df-convert {\n",
              "      background-color: #E8F0FE;\n",
              "      border: none;\n",
              "      border-radius: 50%;\n",
              "      cursor: pointer;\n",
              "      display: none;\n",
              "      fill: #1967D2;\n",
              "      height: 32px;\n",
              "      padding: 0 0 0 0;\n",
              "      width: 32px;\n",
              "    }\n",
              "\n",
              "    .colab-df-convert:hover {\n",
              "      background-color: #E2EBFA;\n",
              "      box-shadow: 0px 1px 2px rgba(60, 64, 67, 0.3), 0px 1px 3px 1px rgba(60, 64, 67, 0.15);\n",
              "      fill: #174EA6;\n",
              "    }\n",
              "\n",
              "    [theme=dark] .colab-df-convert {\n",
              "      background-color: #3B4455;\n",
              "      fill: #D2E3FC;\n",
              "    }\n",
              "\n",
              "    [theme=dark] .colab-df-convert:hover {\n",
              "      background-color: #434B5C;\n",
              "      box-shadow: 0px 1px 3px 1px rgba(0, 0, 0, 0.15);\n",
              "      filter: drop-shadow(0px 1px 2px rgba(0, 0, 0, 0.3));\n",
              "      fill: #FFFFFF;\n",
              "    }\n",
              "  </style>\n",
              "\n",
              "      <script>\n",
              "        const buttonEl =\n",
              "          document.querySelector('#df-6de3ea91-194c-4cb1-9340-4a15a0f17b22 button.colab-df-convert');\n",
              "        buttonEl.style.display =\n",
              "          google.colab.kernel.accessAllowed ? 'block' : 'none';\n",
              "\n",
              "        async function convertToInteractive(key) {\n",
              "          const element = document.querySelector('#df-6de3ea91-194c-4cb1-9340-4a15a0f17b22');\n",
              "          const dataTable =\n",
              "            await google.colab.kernel.invokeFunction('convertToInteractive',\n",
              "                                                     [key], {});\n",
              "          if (!dataTable) return;\n",
              "\n",
              "          const docLinkHtml = 'Like what you see? Visit the ' +\n",
              "            '<a target=\"_blank\" href=https://colab.research.google.com/notebooks/data_table.ipynb>data table notebook</a>'\n",
              "            + ' to learn more about interactive tables.';\n",
              "          element.innerHTML = '';\n",
              "          dataTable['output_type'] = 'display_data';\n",
              "          await google.colab.output.renderOutput(dataTable, element);\n",
              "          const docLink = document.createElement('div');\n",
              "          docLink.innerHTML = docLinkHtml;\n",
              "          element.appendChild(docLink);\n",
              "        }\n",
              "      </script>\n",
              "    </div>\n",
              "  </div>\n",
              "  "
            ]
          },
          "metadata": {},
          "execution_count": 27
        }
      ]
    },
    {
      "cell_type": "markdown",
      "source": [
        "Hiển thị kích thước của tập dữ liệu (gợi ý: shape);\n"
      ],
      "metadata": {
        "id": "5PKrX9bY5IEJ"
      }
    },
    {
      "cell_type": "code",
      "source": [
        "df.shape"
      ],
      "metadata": {
        "colab": {
          "base_uri": "https://localhost:8080/"
        },
        "id": "h0Xo0q_5xIxh",
        "outputId": "282989f4-fc4d-4785-fb7c-98919876d63c"
      },
      "execution_count": null,
      "outputs": [
        {
          "output_type": "execute_result",
          "data": {
            "text/plain": [
              "(14, 1000)"
            ]
          },
          "metadata": {},
          "execution_count": 29
        }
      ]
    },
    {
      "cell_type": "markdown",
      "source": [
        "\n",
        "Hiển thị danh sách cột\n",
        "Ép kiểu"
      ],
      "metadata": {
        "id": "m_TzOz7A5yEX"
      }
    },
    {
      "cell_type": "code",
      "source": [
        "#danh sách các cột\n",
        "print(df.columns) \n",
        "#ép kiểu\n",
        "list((df.columns))"
      ],
      "metadata": {
        "colab": {
          "base_uri": "https://localhost:8080/"
        },
        "id": "p7p3bfnLyxfx",
        "outputId": "41a9043a-ef7d-411a-d603-73f386da7139"
      },
      "execution_count": null,
      "outputs": [
        {
          "output_type": "stream",
          "name": "stdout",
          "text": [
            "Index(['Region', 'Country', 'Item Type', 'Sales Channel', 'Order Priority',\n",
            "       'Order Date', 'Order ID', 'Ship Date', 'Units Sold', 'Unit Price',\n",
            "       'Unit Cost', 'Total Revenue', 'Total Cost', 'Total Profit'],\n",
            "      dtype='object')\n"
          ]
        },
        {
          "output_type": "execute_result",
          "data": {
            "text/plain": [
              "['Region',\n",
              " 'Country',\n",
              " 'Item Type',\n",
              " 'Sales Channel',\n",
              " 'Order Priority',\n",
              " 'Order Date',\n",
              " 'Order ID',\n",
              " 'Ship Date',\n",
              " 'Units Sold',\n",
              " 'Unit Price',\n",
              " 'Unit Cost',\n",
              " 'Total Revenue',\n",
              " 'Total Cost',\n",
              " 'Total Profit']"
            ]
          },
          "metadata": {},
          "execution_count": 11
        }
      ]
    },
    {
      "cell_type": "markdown",
      "source": [
        "3. Trích rút dữ liệu:\n",
        "\n",
        "a. Trích rút cột dữ liệu (định tính) – Country của tập dữ liệu, và in ra màn hình 5 hàng đầu tien của cột này;"
      ],
      "metadata": {
        "id": "ORVpbasm59_u"
      }
    },
    {
      "cell_type": "code",
      "source": [
        "print(df['Country'])\n",
        "print(\"\\n 5 hàng đầu của cột: \\n\", df['Country'].head(5))"
      ],
      "metadata": {
        "id": "STy7Iz5k6Ahn"
      },
      "execution_count": null,
      "outputs": []
    },
    {
      "cell_type": "markdown",
      "source": [
        "b. Trích rút cột dữ liệu (định lượng) – Total Cost của tập dữ liệu và in ra màn hình 5 hàng đầu tien của cột này."
      ],
      "metadata": {
        "id": "7Ag3sAhm6C1u"
      }
    },
    {
      "cell_type": "code",
      "source": [
        "print(df['Total Cost'])\n",
        "print(\"\\n 5 hàng đầu của cột: \\n\", df['Total Cost'].head(5))"
      ],
      "metadata": {
        "id": "P13zAKZK6E5-"
      },
      "execution_count": null,
      "outputs": []
    },
    {
      "cell_type": "markdown",
      "source": [
        "4 Phân tích thống kê mô tả với tập dữ liệu định lượng:\n",
        "\n",
        "a. Tính các chỉ số thống kê sau và xuất kết quả ra màn hình:\n",
        "\n",
        "(1) Số lớn nhất - max;\n",
        "\n",
        "(2) Số nhỏ nhất - min;\n",
        "\n",
        "(3) Giá trị trung bình - mean;\n",
        "\n",
        "(4) Giá trị trung vị - median;\n",
        "\n",
        "(5) Phương sai - variance;\n",
        "\n",
        "(6) Độ lệch chuẩn - standard deviation;\n",
        "\n",
        "(7) Q1 và Q3.\n",
        "\n",
        "b. Hãy vẽ biểu đồ boxplot cho tập dữ liệu định lượng này;\n",
        "\n",
        "c. Hãy vẽ biểu đồ histogram (với bins = 100) cho tập dữ liệu này."
      ],
      "metadata": {
        "id": "VS940CjW6G5m"
      }
    },
    {
      "cell_type": "markdown",
      "source": [
        "(1) Số lớn nhất - max;"
      ],
      "metadata": {
        "id": "8I9DhyG2k4zS"
      }
    },
    {
      "cell_type": "code",
      "source": [
        "df.max()"
      ],
      "metadata": {
        "id": "CpTD0iJv6JjG"
      },
      "execution_count": null,
      "outputs": []
    },
    {
      "cell_type": "markdown",
      "source": [
        "(2) Số nhỏ nhất - min;"
      ],
      "metadata": {
        "id": "V0B3Y42xk76Q"
      }
    },
    {
      "cell_type": "code",
      "source": [
        "df.min()"
      ],
      "metadata": {
        "id": "2lGRVaLF6Oxu"
      },
      "execution_count": null,
      "outputs": []
    },
    {
      "cell_type": "markdown",
      "source": [
        "(3) Giá trị trung bình - mean;"
      ],
      "metadata": {
        "id": "NHP1MSM8k-0w"
      }
    },
    {
      "cell_type": "code",
      "source": [
        "df[['Units Sold',\n",
        " 'Unit Price',\n",
        " 'Unit Cost',\n",
        " 'Total Revenue',\n",
        " 'Total Cost',\n",
        " 'Total Profit', ]].mean().astype(int)"
      ],
      "metadata": {
        "id": "XG_h-15J6QGm",
        "colab": {
          "base_uri": "https://localhost:8080/"
        },
        "outputId": "5b00e9be-9492-4513-f707-6b94f45018ac"
      },
      "execution_count": null,
      "outputs": [
        {
          "output_type": "execute_result",
          "data": {
            "text/plain": [
              "Units Sold          5053\n",
              "Unit Price           262\n",
              "Unit Cost            184\n",
              "Total Revenue    1327321\n",
              "Total Cost        936119\n",
              "Total Profit      391202\n",
              "dtype: int64"
            ]
          },
          "metadata": {},
          "execution_count": 3
        }
      ]
    },
    {
      "cell_type": "markdown",
      "source": [
        "(4) Giá trị trung vị - median;"
      ],
      "metadata": {
        "id": "t7jXM4JclBu4"
      }
    },
    {
      "cell_type": "code",
      "source": [
        "df[['Units Sold',\n",
        " 'Unit Price',\n",
        " 'Unit Cost',\n",
        " 'Total Revenue',\n",
        " 'Total Cost',\n",
        " 'Total Profit']].median().astype(int)"
      ],
      "metadata": {
        "id": "u0MYpoUb6Rie",
        "colab": {
          "base_uri": "https://localhost:8080/"
        },
        "outputId": "cc235c98-756d-49dc-ed4e-51bf8b2c1fc9"
      },
      "execution_count": null,
      "outputs": [
        {
          "output_type": "execute_result",
          "data": {
            "text/plain": [
              "Units Sold         5184\n",
              "Unit Price          154\n",
              "Unit Cost            97\n",
              "Total Revenue    754939\n",
              "Total Cost       464726\n",
              "Total Profit     277225\n",
              "dtype: int64"
            ]
          },
          "metadata": {},
          "execution_count": 4
        }
      ]
    },
    {
      "cell_type": "markdown",
      "source": [
        "(5) Phương sai - variance;"
      ],
      "metadata": {
        "id": "g4VXC6M4lDzJ"
      }
    },
    {
      "cell_type": "code",
      "source": [
        "import statistics as sta\n",
        "Units_Sold = df['Units Sold']\n",
        "Unit_Price = df['Unit Price']\n",
        "Unit_Cost = df['Unit Cost']\n",
        "Total_Revenue = df['Total Revenue']\n",
        "Total_Cost = df['Total Cost']\n",
        "Total_Profit = df['Total Profit']"
      ],
      "metadata": {
        "id": "d-_vimof6c4u"
      },
      "execution_count": null,
      "outputs": []
    },
    {
      "cell_type": "markdown",
      "source": [
        "(6) Độ lệch chuẩn - standard deviation;"
      ],
      "metadata": {
        "id": "gqDf9YNflXYQ"
      }
    },
    {
      "cell_type": "code",
      "source": [
        "import statistics as sta\n",
        "Units_Sold = df['Units Sold']\n",
        "Unit_Price = df['Unit Price']\n",
        "Unit_Cost = df['Unit Cost']\n",
        "Total_Revenue = df['Total Revenue']\n",
        "Total_Cost = df['Total Cost']\n",
        "Total_Profit = df['Total Profit']\n",
        "\n",
        "print(\"Units Sold variance: \", sta.variance(Units_Sold))\n",
        "print(\"Unit Price variance: \", sta.variance(Unit_Price))\n",
        "print(\"Unit Cost Sold variance: \", sta.variance(Unit_Cost))\n",
        "print(\"Total Revenue variance: \", sta.variance(Total_Revenue))\n",
        "print(\"Total Cost variance: \", sta.variance(Total_Cost))\n",
        "print(\"Total Profi variance: \", sta.variance(Total_Profit))"
      ],
      "metadata": {
        "colab": {
          "base_uri": "https://localhost:8080/"
        },
        "id": "kYMsyiuClWjA",
        "outputId": "109c9423-fa01-45c4-ff58-c4616938b86d"
      },
      "execution_count": null,
      "outputs": [
        {
          "output_type": "stream",
          "name": "stdout",
          "text": [
            "Units Sold variance:  8417978.728584584\n",
            "Unit Price variance:  46665.09856357798\n",
            "Unit Cost Sold variance:  30726.342710698602\n",
            "Total Revenue variance:  2209725551374.182\n",
            "Total Cost variance:  1351570754703.938\n",
            "Total Profi variance:  147179792210.28598\n"
          ]
        }
      ]
    },
    {
      "cell_type": "markdown",
      "source": [
        "b. Hãy vẽ biểu đồ boxplot cho tập dữ liệu định lượng này;"
      ],
      "metadata": {
        "id": "LTLY7xdB6evO"
      }
    },
    {
      "cell_type": "code",
      "source": [
        "df.boxplot(column=['Units Sold',\n",
        " 'Unit Price',\n",
        " 'Unit Cost',\n",
        " 'Total Revenue',\n",
        " 'Total Cost',\n",
        " 'Total Profit'])"
      ],
      "metadata": {
        "id": "ih3W_GGm6fn3",
        "colab": {
          "base_uri": "https://localhost:8080/",
          "height": 293
        },
        "outputId": "41918897-9929-4592-c926-586d7ad22df0"
      },
      "execution_count": null,
      "outputs": [
        {
          "output_type": "execute_result",
          "data": {
            "text/plain": [
              "<matplotlib.axes._subplots.AxesSubplot at 0x7f60a3cc1890>"
            ]
          },
          "metadata": {},
          "execution_count": 7
        },
        {
          "output_type": "display_data",
          "data": {
            "text/plain": [
              "<Figure size 432x288 with 1 Axes>"
            ],
            "image/png": "[encoded data removed]"
          },
          "metadata": {
            "needs_background": "light"
          }
        }
      ]
    },
    {
      "cell_type": "markdown",
      "source": [
        "c. Hãy vẽ biểu đồ histogram (với bins = 100) cho tập dữ liệu này."
      ],
      "metadata": {
        "id": "7-dFHjdB6hGv"
      }
    },
    {
      "cell_type": "code",
      "source": [
        "df.hist(bins=100)"
      ],
      "metadata": {
        "colab": {
          "base_uri": "https://localhost:8080/",
          "height": 468
        },
        "id": "25bVu-kSkYXw",
        "outputId": "6d27943c-b797-4218-a4ad-e642134ab820"
      },
      "execution_count": null,
      "outputs": [
        {
          "output_type": "execute_result",
          "data": {
            "text/plain": [
              "array([[<matplotlib.axes._subplots.AxesSubplot object at 0x7f60a3b42c90>,\n",
              "        <matplotlib.axes._subplots.AxesSubplot object at 0x7f60a363d550>,\n",
              "        <matplotlib.axes._subplots.AxesSubplot object at 0x7f60a366fb50>],\n",
              "       [<matplotlib.axes._subplots.AxesSubplot object at 0x7f60a362f190>,\n",
              "        <matplotlib.axes._subplots.AxesSubplot object at 0x7f60a35e5790>,\n",
              "        <matplotlib.axes._subplots.AxesSubplot object at 0x7f60a3599d90>],\n",
              "       [<matplotlib.axes._subplots.AxesSubplot object at 0x7f60a3559450>,\n",
              "        <matplotlib.axes._subplots.AxesSubplot object at 0x7f60a350d990>,\n",
              "        <matplotlib.axes._subplots.AxesSubplot object at 0x7f60a350d9d0>]],\n",
              "      dtype=object)"
            ]
          },
          "metadata": {},
          "execution_count": 8
        },
        {
          "output_type": "display_data",
          "data": {
            "text/plain": [
              "<Figure size 432x288 with 9 Axes>"
            ],
            "image/png": "[encoded data removed]"
          },
          "metadata": {
            "needs_background": "light"
          }
        }
      ]
    },
    {
      "cell_type": "markdown",
      "source": [
        "5. Phân tích thống kê mô tả với tập dữ liệu định tính:\n",
        "\n",
        "a. Vẽ biểu đồ barplot cho tập dữ liệu này"
      ],
      "metadata": {
        "id": "Q8d-RFgEkY9Q"
      }
    },
    {
      "cell_type": "code",
      "source": [
        "axes2 = df.plot.bar(x='Country', subplots=True) #chia thành từng cột dữ liệu\n",
        "axes2[1].legend(loc=6) #6 cột "
      ],
      "metadata": {
        "id": "ZUPG2WJGkbsI"
      },
      "execution_count": null,
      "outputs": []
    },
    {
      "cell_type": "markdown",
      "source": [
        "b. Vẽ biểu đồ barplot cho 15 hàng dữ liệu đầu tiên của tập dữ liệu này"
      ],
      "metadata": {
        "id": "qLiB4CShkgcI"
      }
    },
    {
      "cell_type": "code",
      "source": [
        "df1 = df.head(15)\n",
        "axes = df1.plot.bar(x='Country', subplots=True)\n",
        "axes[1].legend(loc=6)"
      ],
      "metadata": {
        "colab": {
          "base_uri": "https://localhost:8080/",
          "height": 362
        },
        "id": "Ny97PXsYkilw",
        "outputId": "bcbc56c8-6dff-4e7c-9458-8d530e0e4ea0"
      },
      "execution_count": null,
      "outputs": [
        {
          "output_type": "execute_result",
          "data": {
            "text/plain": [
              "<matplotlib.legend.Legend at 0x7f60a2bcba90>"
            ]
          },
          "metadata": {},
          "execution_count": 9
        },
        {
          "output_type": "display_data",
          "data": {
            "text/plain": [
              "<Figure size 432x288 with 7 Axes>"
            ],
            "image/png": "[encoded data removed]"
          },
          "metadata": {
            "needs_background": "light"
          }
        }
      ]
    }
  ]
}