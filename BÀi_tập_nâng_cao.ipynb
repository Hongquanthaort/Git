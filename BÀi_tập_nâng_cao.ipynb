{
  "nbformat": 4,
  "nbformat_minor": 0,
  "metadata": {
    "colab": {
      "name": "BÀi tập nâng cao.ipynb",
      "provenance": [],
      "authorship_tag": "ABX9TyMgcsKydMq+iGwdcolcdI+X",
      "include_colab_link": true
    },
    "kernelspec": {
      "name": "python3",
      "display_name": "Python 3"
    },
    "language_info": {
      "name": "python"
    }
  },
  "cells": [
    {
      "cell_type": "markdown",
      "metadata": {
        "id": "view-in-github",
        "colab_type": "text"
      },
      "source": [
        "<a href=\"https://colab.research.google.com/github/Hongquanthaort/Git/blob/main/B%C3%80i_t%E1%BA%ADp_n%C3%A2ng_cao.ipynb\" target=\"_parent\"><img src=\"https://colab.research.google.com/assets/colab-badge.svg\" alt=\"Open In Colab\"/></a>"
      ]
    },
    {
      "cell_type": "markdown",
      "metadata": {
        "id": "4fCLWi-xMW93"
      },
      "source": [
        "Bài 1:"
      ]
    },
    {
      "cell_type": "code",
      "metadata": {
        "colab": {
          "base_uri": "https://localhost:8080/"
        },
        "id": "5FTn3pfJMYut",
        "outputId": "405cdaea-edc6-4432-b853-8a2da82f3863"
      },
      "source": [
        "import math\n",
        "n = int(input(\"nhập số n: \"))\n",
        "dic = {}\n",
        "for i in range(1, n+1):\n",
        "  dic[i] = math.log(i)\n",
        "print(dic)"
      ],
      "execution_count": 8,
      "outputs": [
        {
          "output_type": "stream",
          "name": "stdout",
          "text": [
            "nhập số n: 6\n",
            "{1: 0.0, 2: 0.6931471805599453, 3: 1.0986122886681098, 4: 1.3862943611198906, 5: 1.6094379124341003, 6: 1.791759469228055}\n"
          ]
        }
      ]
    },
    {
      "cell_type": "markdown",
      "metadata": {
        "id": "-f1MOJOSMx0s"
      },
      "source": [
        "Câu 2:"
      ]
    },
    {
      "cell_type": "code",
      "metadata": {
        "id": "woQ5uq7TNehx"
      },
      "source": [
        "chuoi = str(input(\"Nhập chuỗi: \"))\n",
        "list = []\n",
        "pi = \"\"\n",
        "for i in range(len(chuoi)):\n",
        "  if chuoi[i] != \",\":\n",
        "    pi = pi + chuoi[i]\n",
        "  else: \n",
        "    list.append(pi)\n",
        "    pi = \"\"\n",
        "else:\n",
        "  list.append(pi)\n",
        "print(list)"
      ],
      "execution_count": null,
      "outputs": []
    },
    {
      "cell_type": "markdown",
      "metadata": {
        "id": "XDFR_71SQMgT"
      },
      "source": [
        "Bài 3:"
      ]
    },
    {
      "cell_type": "code",
      "metadata": {
        "id": "9pDbHAuRQPf4",
        "colab": {
          "base_uri": "https://localhost:8080/"
        },
        "outputId": "d349d206-d887-45a7-81e5-7bf23cebe134"
      },
      "source": [
        "a1 = str(input(\"Nhập chuỗi: \"))\n",
        "a = []\n",
        "b = ()\n",
        "pi = \"\"\n",
        "for i in range(len(a1)):\n",
        "  if a1[i] != \",\":\n",
        "    pi = pi + a1[i]\n",
        "  else: \n",
        "    a.append(pi)\n",
        "    pi = \"\"\n",
        "else:\n",
        "  a.append(pi)\n",
        "b = tuple(a)\n",
        "print(b)"
      ],
      "execution_count": 20,
      "outputs": [
        {
          "output_type": "stream",
          "name": "stdout",
          "text": [
            "Nhập chuỗi: 321,21,21,1\n",
            "('321', '21', '21', '1')\n"
          ]
        }
      ]
    },
    {
      "cell_type": "markdown",
      "metadata": {
        "id": "UAILdV4vQSzE"
      },
      "source": [
        "Bài 4:"
      ]
    },
    {
      "cell_type": "code",
      "metadata": {
        "id": "VdWsyG1DQVed",
        "colab": {
          "base_uri": "https://localhost:8080/"
        },
        "outputId": "55473ba1-6e2e-4f93-9991-d3bfc5e586e1"
      },
      "source": [
        "ka = str(input(\"Nhập chuỗi: \"))\n",
        "list2 = []\n",
        "pi = \"\"\n",
        "for i in range(len(ka)):\n",
        "  if ka[i] != \" \":\n",
        "    pi = pi + ka[i]\n",
        "  else: \n",
        "    list2.append(pi)\n",
        "    pi = \"\"\n",
        "else:\n",
        "  list2.append(pi)\n",
        "print(list2)"
      ],
      "execution_count": 14,
      "outputs": [
        {
          "output_type": "stream",
          "name": "stdout",
          "text": [
            "Nhập chuỗi: 321,321,12\n",
            "['321,321,12']\n"
          ]
        }
      ]
    },
    {
      "cell_type": "markdown",
      "metadata": {
        "id": "FGuT6i3lQYub"
      },
      "source": [
        "Bài 5:"
      ]
    },
    {
      "cell_type": "code",
      "metadata": {
        "id": "lqMFVsjXQc_u",
        "colab": {
          "base_uri": "https://localhost:8080/"
        },
        "outputId": "cf2cb1a5-2449-48d4-b2b7-b28d6835bc0a"
      },
      "source": [
        "import string\n",
        "list5 = []\n",
        "vi_tri = 0\n",
        "tìm = 0\n",
        "while True:\n",
        "  n = str(input(\"Nhập số nguyên từ bàn phím: \"))\n",
        "  if n in string.ascii_letters:\n",
        "    break\n",
        "  list5.append(int(n))\n",
        "print(list5)\n",
        "N = int(input(\"Nhập số nguyên cần tìm: \"))\n",
        "for i in list5:\n",
        "  vi_tri += 1\n",
        "  if N == i:\n",
        "    print(\"Số\", N, \"xuất hiện lần đầu ở vị trí thứ \", vi_tri)\n",
        "    vi_tri = 0\n",
        "    break\n",
        "else:\n",
        "  print(\"Không tìm thấy số này\")\n",
        "for i in list5:\n",
        "  vi_tri += 1\n",
        "  if N == i:\n",
        "    print(\"Số\", N, \"xuất hiện ở vị trí thứ \", vi_tri)\n",
        "    tìm += 1\n",
        "if tìm == 0:\n",
        "  print(\"Không tìm thấy số này\")"
      ],
      "execution_count": 18,
      "outputs": [
        {
          "output_type": "stream",
          "name": "stdout",
          "text": [
            "Nhập số nguyên từ bàn phím: 2\n",
            "Nhập số nguyên từ bàn phím: 3\n",
            "Nhập số nguyên từ bàn phím: 1\n",
            "Nhập số nguyên từ bàn phím: 0\n",
            "Nhập số nguyên từ bàn phím: v\n",
            "[2, 3, 1, 0]\n",
            "Nhập số nguyên cần tìm: 1\n",
            "Số 1 xuất hiện lần đầu ở vị trí 3\n",
            "Số 1 xuất hiện ở vị trí 3\n"
          ]
        }
      ]
    }
  ]
}