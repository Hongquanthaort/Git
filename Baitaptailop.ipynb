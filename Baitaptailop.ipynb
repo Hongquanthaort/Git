{
  "nbformat": 4,
  "nbformat_minor": 0,
  "metadata": {
    "colab": {
      "name": "Baitaptailop.ipynb",
      "provenance": [],
      "authorship_tag": "ABX9TyPzvqjAxJQPDkX4K3l5f2Tm",
      "include_colab_link": true
    },
    "kernelspec": {
      "name": "python3",
      "display_name": "Python 3"
    },
    "language_info": {
      "name": "python"
    }
  },
  "cells": [
    {
      "cell_type": "markdown",
      "metadata": {
        "id": "view-in-github",
        "colab_type": "text"
      },
      "source": [
        "<a href=\"https://colab.research.google.com/github/Hongquanthaort/Git/blob/main/Baitaptailop.ipynb\" target=\"_parent\"><img src=\"https://colab.research.google.com/assets/colab-badge.svg\" alt=\"Open In Colab\"/></a>"
      ]
    },
    {
      "cell_type": "markdown",
      "metadata": {
        "id": "KjQkqwo-acIn"
      },
      "source": [
        "Câu 1"
      ]
    },
    {
      "cell_type": "code",
      "metadata": {
        "colab": {
          "base_uri": "https://localhost:8080/"
        },
        "id": "GPvbnsA8aeeS",
        "outputId": "1ec60230-7bfa-40ed-c530-eae4b139939d"
      },
      "source": [
        "month = int(input(\"Nhập ngày: \"))\n",
        "year = int(input(\"Nhập năm: \"))\n",
        "if(month == 1 or month == 3 or month == 5 or month == 7 or month == 8 or month == 10 or month == 12):\n",
        "\tprint(\"Tháng\",month,\"năm\",year,\"có 31 ngày\")\n",
        "elif((month == 2) and (year%4==0 )):\t\n",
        "\tprint(\"Tháng \",month,\"năm\",year, \"có 29 ngày, Nhuận\")\n",
        "elif(month == 2):\n",
        "\tprint(\"Tháng\",month,\"năm\",year,\"có 28 ngày\")\n",
        "else:\n",
        "\tprint(\"Tháng\",month,\"năm\",year,\"có 30 ngày\")"
      ],
      "execution_count": null,
      "outputs": [
        {
          "output_type": "stream",
          "name": "stdout",
          "text": [
            "Nhập ngày: 2\n",
            "Nhập năm: 2020\n",
            "Tháng  2 năm 2020 có 29 ngày, Nhuận\n"
          ]
        }
      ]
    },
    {
      "cell_type": "markdown",
      "metadata": {
        "id": "7CbqSAaMc0zb"
      },
      "source": [
        "câu 2\n"
      ]
    },
    {
      "cell_type": "code",
      "metadata": {
        "colab": {
          "base_uri": "https://localhost:8080/"
        },
        "id": "4cdrLR1Uc1b9",
        "outputId": "20aa8993-4dbd-4de6-fa4b-5c82e71f4756"
      },
      "source": [
        "x= input(\"Nhập kí tự:\")\n",
        "if(x==\"u\" or x==\"e\" or x==\"o\" or x==\"a\" or x==\"i\"):\n",
        "  print(\"Nguyên âm\")\n",
        "else:\n",
        "  print(\"Không phải là nguyên âm\")"
      ],
      "execution_count": null,
      "outputs": [
        {
          "output_type": "stream",
          "name": "stdout",
          "text": [
            "Nhập kí tự:Oải\n",
            "Không phải là nguyên âm\n"
          ]
        }
      ]
    },
    {
      "cell_type": "markdown",
      "metadata": {
        "id": "tUvvEZOgfSMr"
      },
      "source": [
        "câu 3"
      ]
    },
    {
      "cell_type": "code",
      "metadata": {
        "colab": {
          "base_uri": "https://localhost:8080/"
        },
        "id": "1lRHU00VfT5T",
        "outputId": "12d1d2ac-87b6-44f1-e02a-89d07c09d1c3"
      },
      "source": [
        "year = int(input(\"Nhập năm: \"))\n",
        "if( year%4==0 ):\t\n",
        "  print(\"Năm này là năm nhuận\")\n",
        "else:\n",
        "  print(\"Năm này không phải năm nhuận\")"
      ],
      "execution_count": null,
      "outputs": [
        {
          "output_type": "stream",
          "name": "stdout",
          "text": [
            "Nhập năm: 2021\n",
            "Năm này không phải năm nhuận\n"
          ]
        }
      ]
    },
    {
      "cell_type": "markdown",
      "metadata": {
        "id": "QIq9gbBEf3pw"
      },
      "source": [
        "Câu 4"
      ]
    },
    {
      "cell_type": "code",
      "metadata": {
        "colab": {
          "base_uri": "https://localhost:8080/"
        },
        "id": "wXT7vo8mf4bC",
        "outputId": "5c626507-36b0-4203-c7fc-32831403eec3"
      },
      "source": [
        "x1= int(input(\"Nhập số: \"))\n",
        "x2= int(input(\"Nhập số: \"))\n",
        "x3= int(input(\"Nhập số: \"))\n",
        "x4= int(input(\"Nhập số: \"))\n",
        "x5= int(input(\"Nhập số: \"))\n",
        "tổng = x1+x2+x3+x4+x5\n",
        "print(\"tổng\",tổng)\n",
        "tb=tổng/5\n",
        "print(\"trung bình\",tb)"
      ],
      "execution_count": null,
      "outputs": [
        {
          "output_type": "stream",
          "name": "stdout",
          "text": [
            "Nhập số: 1\n",
            "Nhập số: 2\n",
            "Nhập số: 3\n",
            "Nhập số: 4\n",
            "Nhập số: 5\n",
            "tổng 15\n",
            "trung bình 3.0\n"
          ]
        }
      ]
    }
  ]
}