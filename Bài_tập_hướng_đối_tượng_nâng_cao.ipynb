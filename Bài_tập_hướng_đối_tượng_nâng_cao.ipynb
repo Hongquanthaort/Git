{
  "nbformat": 4,
  "nbformat_minor": 0,
  "metadata": {
    "colab": {
      "name": "Bài tập hướng đối tượng nâng cao.ipynb",
      "provenance": [],
      "authorship_tag": "ABX9TyMxm7PUAQvWrhSk8SA0ATKH",
      "include_colab_link": true
    },
    "kernelspec": {
      "name": "python3",
      "display_name": "Python 3"
    },
    "language_info": {
      "name": "python"
    }
  },
  "cells": [
    {
      "cell_type": "markdown",
      "metadata": {
        "id": "view-in-github",
        "colab_type": "text"
      },
      "source": [
        "<a href=\"https://colab.research.google.com/github/Hongquanthaort/Git/blob/main/B%C3%A0i_t%E1%BA%ADp_h%C6%B0%E1%BB%9Bng_%C4%91%E1%BB%91i_t%C6%B0%E1%BB%A3ng_n%C3%A2ng_cao.ipynb\" target=\"_parent\"><img src=\"https://colab.research.google.com/assets/colab-badge.svg\" alt=\"Open In Colab\"/></a>"
      ]
    },
    {
      "cell_type": "code",
      "metadata": {
        "id": "1amTkOGkOBpx"
      },
      "source": [
        "import pickle\n",
        "import random\n"
      ],
      "execution_count": null,
      "outputs": []
    },
    {
      "cell_type": "code",
      "metadata": {
        "id": "H1-PYDtreo2Z"
      },
      "source": [
        "class Person:\n",
        "  def __init__(self, name, phoneNumber, email):\n",
        "    self.name = name\n",
        "    self.phonenumber = phonenumber\n",
        "    self.email = email\n",
        "\n",
        "class Student(Person):\n",
        "  def __init__(self, name, phonenumber, email, studentnumber, averagemark):\n",
        "    super().__init__(name, phonenumber, email)\n",
        "    self.name = name\n",
        "    self.phonenumber = phonenumber\n",
        "    self.email = email\n",
        "    self.studentNumber = stuNumber\n",
        "    self.aveMark = aveMark\n",
        "\n",
        "class Professor(Person):\n",
        "  def __init__(self, name, phonenumber, email, salary):\n",
        "    super().__init__(name, phonenumber, email)\n",
        "    self.phonenumber = phonenumber\n",
        "    self.email = email\n",
        "    self.name = name\n",
        "    self.salary = salary"
      ],
      "execution_count": null,
      "outputs": []
    },
    {
      "cell_type": "code",
      "metadata": {
        "id": "db-QSJdzeuvx"
      },
      "source": [
        "perSon = []\n",
        "for i in range(10):\n",
        "  name = input(\"Tên sinh viên: \")\n",
        "  phone = random.randint(1000000, 100000000)\n",
        "  email = name + \"@gmail.com\"\n",
        "  perSon.append(vars(Person(name, phone, email))) \n",
        "newper = sorted(perSon, key=lambda k:k['name'], reverse=True)\n",
        "print(newper)\n",
        " "
      ],
      "execution_count": null,
      "outputs": []
    },
    {
      "cell_type": "code",
      "metadata": {
        "id": "NtmBWxRGih0D"
      },
      "source": [
        "import random\n",
        "stuDent = []\n",
        "ten = [\"quan\", \"minh\", \"thai\", \"nhat\", \"hao\", \"phap\", \"tuan\", \"Mai\"]\n",
        "for i in range(10):\n",
        "  name = random.choice(ten)\n",
        "  email = name + \"@gmail.com\"\n",
        "  phone = random.randint(1000000, 100000000)\n",
        "  studentnum = random.randint(1,100)\n",
        "  averMark = random.randint(1,10)\n",
        "  hs = Student(name, phone, email)\n",
        "  hs.stu(studentnum, averMark)\n",
        "  stuDent.append(vars(hs))\n",
        "print(stuDent)\n",
        "newstu = sorted(stuDent, key=lambda k:k['aveMark'], reverse=True)\n",
        "newstu"
      ],
      "execution_count": null,
      "outputs": []
    },
    {
      "cell_type": "code",
      "metadata": {
        "id": "PFtaDviloIUn"
      },
      "source": [
        "import random\n",
        "proF = []\n",
        "ten = (\"quan\", \"minh\", \"thai\", \"nhat\", \"hao\", \"phap\", \"tuan\", \"Mai\")\n",
        "for i in range(10): \n",
        "  name = random.choice(ten)\n",
        "  phone = random.randint(1000000000, 9999999999)\n",
        "  email = name + \"@gmail.com\"\n",
        "  salary = random.randint(10000000, 99999999)\n",
        "  profes = Professor(name, phone, email)\n",
        "  profes.pro(salary)\n",
        "  proF.append(vars(profes))\n",
        "  newprof = sorted(proF, key=lambda k:k['salary'], reverse=False)\n",
        "print(proF)\n",
        "print(newprof)"
      ],
      "execution_count": null,
      "outputs": []
    },
    {
      "cell_type": "code",
      "metadata": {
        "id": "_JrArOu8qkY-"
      },
      "source": [
        "import pickle\n",
        "f = open('Person.pic', 'wb')\n",
        "pickle.dump(newper, f)\n",
        "f.close()\n",
        "f = open(\"Person.pic\", \"rb\")\n",
        "print(\"Person\\n\", pickle.load(f))\n",
        "f.close()"
      ],
      "execution_count": null,
      "outputs": []
    },
    {
      "cell_type": "code",
      "metadata": {
        "id": "oH2bqXTQsEt9"
      },
      "source": [
        "import pickle\n",
        "s = open(\"Student.pic\", \"wb\")\n",
        "pickle.dump(newstu, s)\n",
        "s.close()\n",
        "s = open(\"Student.pic\", \"rb\")\n",
        "print(\"Student\\n\", pickle.load(s))\n",
        "s.close()"
      ],
      "execution_count": null,
      "outputs": []
    },
    {
      "cell_type": "code",
      "metadata": {
        "id": "PFFF9_sItRGO"
      },
      "source": [
        "import pickle\n",
        "x = open(\"Professor.pic\", \"wb\")\n",
        "pickle.dump(newpro, x)\n",
        "x.close()\n",
        "x = open(\"Professor.pic\", \"rb\")\n",
        "print(\"Professor\\n\", pickle.load(x))\n",
        "x.close()"
      ],
      "execution_count": null,
      "outputs": []
    }
  ]
}