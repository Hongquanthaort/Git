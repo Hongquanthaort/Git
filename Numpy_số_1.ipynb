{
  "nbformat": 4,
  "nbformat_minor": 0,
  "metadata": {
    "colab": {
      "name": "Numpy số 1.ipynb",
      "provenance": [],
      "authorship_tag": "ABX9TyMuotNeEqLX2WGFi8RgHQsX",
      "include_colab_link": true
    },
    "kernelspec": {
      "name": "python3",
      "display_name": "Python 3"
    },
    "language_info": {
      "name": "python"
    }
  },
  "cells": [
    {
      "cell_type": "markdown",
      "metadata": {
        "id": "view-in-github",
        "colab_type": "text"
      },
      "source": [
        "<a href=\"https://colab.research.google.com/github/Hongquanthaort/Git/blob/main/Numpy_s%E1%BB%91_1.ipynb\" target=\"_parent\"><img src=\"https://colab.research.google.com/assets/colab-badge.svg\" alt=\"Open In Colab\"/></a>"
      ]
    },
    {
      "cell_type": "markdown",
      "source": [
        "Bài 1: Xét không gian R3\n",
        "\n",
        ", một điểm A trong không gian này có tọa độ là (5, 7, 14). Hãy khởi tạo\n",
        "\n",
        "giá trị của điểm A nêu trên bằng Numpy."
      ],
      "metadata": {
        "id": "UpK0ekzxrVBt"
      }
    },
    {
      "cell_type": "code",
      "execution_count": null,
      "metadata": {
        "colab": {
          "base_uri": "https://localhost:8080/"
        },
        "id": "i5s366mgq74_",
        "outputId": "6bc1ea2c-94ce-43cb-a8e8-50df9bdcdd59"
      },
      "outputs": [
        {
          "output_type": "stream",
          "name": "stdout",
          "text": [
            "[ 5  7 14]\n"
          ]
        }
      ],
      "source": [
        "import numpy as np\n",
        "\n",
        "A = np.array([5, 7, 14])\n",
        "\n",
        "print(A)"
      ]
    },
    {
      "cell_type": "markdown",
      "source": [
        "Bài 2: Mở rộng không gian lên R15, điểm A trong không gian này có tọa độ là (1, 2, 3, 4, 5, 6, 7,\n",
        "8, 9, 10, 11, 12, 13, 14, 15). Hãy khởi tạo điểm A trong không gian 15 chiều này bằng Numpy.\n"
      ],
      "metadata": {
        "id": "EvRmWOJerY9s"
      }
    },
    {
      "cell_type": "code",
      "source": [
        "import numpy as np\n",
        "\n",
        "A = np.array([1, 2, 3, 4, 5, 6, 7,\n",
        "8, 9, 10, 11, 12, 13, 14, 15])\n",
        "\n",
        "print(A)"
      ],
      "metadata": {
        "colab": {
          "base_uri": "https://localhost:8080/"
        },
        "id": "ynaOLdTtrb-7",
        "outputId": "1a7fee4a-c6f2-45af-d222-9656517715f2"
      },
      "execution_count": null,
      "outputs": [
        {
          "output_type": "stream",
          "name": "stdout",
          "text": [
            "[ 1  2  3  4  5  6  7  8  9 10 11 12 13 14 15]\n"
          ]
        }
      ]
    },
    {
      "cell_type": "markdown",
      "source": [
        "Bài 3\n",
        "Hãy viết chương trình sinh ngẫu nhiên một vector trong không gian Rn với x là số nguyên dương\n",
        "được nhập vào từ bàn phím. Yêu cầu: sử dụng Numpy."
      ],
      "metadata": {
        "id": "bHdArdE0rnUU"
      }
    },
    {
      "cell_type": "code",
      "source": [
        "import numpy as np\n",
        "x = input(\"Nhập x= \")\n",
        "R = np.random.randint(low=0, high=x, size=(1, 5))\n",
        "print(R)"
      ],
      "metadata": {
        "colab": {
          "base_uri": "https://localhost:8080/"
        },
        "id": "HKGsiis4rv8T",
        "outputId": "263d3599-6c54-4f45-9d0f-923868c85edb"
      },
      "execution_count": null,
      "outputs": [
        {
          "output_type": "stream",
          "name": "stdout",
          "text": [
            "Nhập x= 15\n",
            "[[11  0  7  7 14]]\n"
          ]
        }
      ]
    },
    {
      "cell_type": "markdown",
      "source": [
        "Bài 4: Hãy viết chương trình tính chiều dài của vector \n",
        "\n"
      ],
      "metadata": {
        "id": "PC8qaLGZs3jk"
      }
    },
    {
      "cell_type": "code",
      "source": [
        "import numpy as np\n",
        "\n",
        "OB = np.array([7,-5,8])\n",
        "print(OB)\n",
        "chieu_dai_vector_OB = np.sqrt((OB[0])**2 + (OB[1])**2 + (OB[2])**2)\n",
        "print(\"Chiều dài vector OB là: \", chieu_dai_vector_OB)\n",
        "\n"
      ],
      "metadata": {
        "id": "9kHp3ngqs7nS",
        "colab": {
          "base_uri": "https://localhost:8080/"
        },
        "outputId": "8b88be9a-af0a-4150-eac5-5f07459934eb"
      },
      "execution_count": 2,
      "outputs": [
        {
          "output_type": "stream",
          "name": "stdout",
          "text": [
            "[ 7 -5  8]\n",
            "Chiều dài vector OB là:  11.74734012447073\n"
          ]
        }
      ]
    },
    {
      "cell_type": "markdown",
      "source": [
        " Trong không gian  Rn , hãy sinh ngẫu nhiên 2 điểm A và B. Xác định vector AB và tính chiều dài của vector này ‖AB‖. Lưu ý: sử dụng Numpy.\n",
        " "
      ],
      "metadata": {
        "id": "rWZjpslQYGQO"
      }
    },
    {
      "cell_type": "code",
      "source": [
        "import numpy as np\n",
        "\n",
        "n = int(input(\"Nhập n: \"))\n",
        "A = np.random.randint(low=-10, high=10, size=(1,n))\n",
        "print(A)\n",
        "B = np.random.randint(low=-10, high=10, size=(1,n))\n",
        "print(B)\n",
        "\n",
        "vector_AB = B-A\n",
        "print(\"Vector AB là: \", vector_AB)\n",
        "\n",
        "chieu_dai_vector_AB = np.sqrt((vector_AB[0][0])**2 + (vector_AB[0][1])**2 + (vector_AB[0][2])**2)\n",
        "print(\"Chiều dài vector AB là: \", chieu_dai_vector_AB)"
      ],
      "metadata": {
        "id": "xA0bn7frYTdO"
      },
      "execution_count": null,
      "outputs": []
    },
    {
      "cell_type": "markdown",
      "source": [
        "Bài 6: Trong không gian  Rn , hãy sinh ngẫu nhiên 2 vector a & b và tính tích vô hướng của 2 vector này. Lưu ý: sử dụng numpy để tính tích vô hướng và số nguyên dương n được nhập vào từ bàn phím. Gợi ý: sử dụng hàm numpy.inner()"
      ],
      "metadata": {
        "id": "Ob3ZfwCCYWFl"
      }
    },
    {
      "cell_type": "code",
      "source": [
        "import numpy as np\n",
        "\n",
        "n = int(input(\"Nhập n: \"))\n",
        "\n",
        "a = np.random.randint(low=-10, high=10, size=(1,n))\n",
        "print(\"vector a là: \", a)\n",
        "\n",
        "b = np.random.randint(low=-10, high=10, size=(1,n))\n",
        "print(\"vector b là: \", b)\n",
        "\n",
        "tich_vo_huong = np.inner(a, b)\n",
        "print(\"tích vô hướng của 2 vector a và b là: \", tich_vo_huong)"
      ],
      "metadata": {
        "colab": {
          "base_uri": "https://localhost:8080/"
        },
        "id": "oW23mbTQYYb4",
        "outputId": "f6ef0b27-cfca-47a7-9db1-859d85b6dad6"
      },
      "execution_count": 3,
      "outputs": [
        {
          "output_type": "stream",
          "name": "stdout",
          "text": [
            "Nhập n: 2\n",
            "vector a là:  [[7 4]]\n",
            "vector b là:  [[4 8]]\n",
            "tích vô hướng của 2 vector a và b là:  [[60]]\n"
          ]
        }
      ]
    },
    {
      "cell_type": "markdown",
      "source": [
        "Trong không gian  Rn , hãy sinh ngẫu nhiên 2 vector a & b và tính tích hữu hướng của 2 vector này. Lưu ý: sử dụng numpy để tính tích vô hướng và số nguyên dương n được nhập vào từ bàn phím. Gợi ý: sử dụng hàm numpy.cross()"
      ],
      "metadata": {
        "id": "b1QW8L8lYb69"
      }
    },
    {
      "cell_type": "code",
      "source": [
        "import numpy as np\n",
        "\n",
        "n = int(input(\"Nhập n: \"))\n",
        "\n",
        "a = np.random.randint(low=-10, high=10, size=(1,n))\n",
        "print(\"vector a là: \", a)\n",
        "\n",
        "b = np.random.randint(low=-10, high=10, size=(1,n))\n",
        "print(\"vector b là: \", b)\n",
        "\n",
        "tich_huu_huong = np.cross(a, b)\n",
        "print(\"tích hữu hướng của 2 vector a và b là: \", tich_huu_huong)"
      ],
      "metadata": {
        "id": "cDmfIXFnYaL4"
      },
      "execution_count": null,
      "outputs": []
    },
    {
      "cell_type": "markdown",
      "source": [
        "Bài 8 - Phép chuyển vị (transpose): trong numpy, một vector a khi thực hiện chuyển vị sẽ được thực hiện thông qua thao tác a.T Hãy viết chương trình sinh ngẫu nhiên một vector a trong không gian  Rn , số nguyên dương n được nhập vào từ bàn phím. Xuất ra màn hình giá của vector a và chuyển vị của vector a ."
      ],
      "metadata": {
        "id": "jbmyjlfuYmCt"
      }
    },
    {
      "cell_type": "code",
      "source": [
        "import numpy as np\n",
        "\n",
        "n = int(input(\"Nhập n: \"))\n",
        "\n",
        "a = np.random.randint(low=-10, high=10, size=(1,n))\n",
        "print(\"vector a là: \", a, sep = '\\n')\n",
        "\n",
        "print(\"Chuyển vị của vector a là: \", a.T, sep = '\\n')"
      ],
      "metadata": {
        "id": "suc8tu7aYoqd"
      },
      "execution_count": null,
      "outputs": []
    },
    {
      "cell_type": "markdown",
      "source": [
        "Bài 9 - Kết hợp cấu trúc list với Numpy:\n",
        "\n",
        "a = [1, 2, 3, 4, 5]\n",
        "b = [[1], [2], [3], [4], [5]]\n",
        "Hãy:\n",
        "\n",
        "Xuất a và b ra màn hình\n",
        "Tạo vector tương ứng từ a và b, xuất kết quả ra màn hình\n",
        "Thực hiện phép chuyển vị đối với 2 vector ở trên và xuất kết quả ra màn hình."
      ],
      "metadata": {
        "id": "4ss4gxICYqhd"
      }
    },
    {
      "cell_type": "code",
      "source": [
        "import numpy as np\n",
        "\n",
        "a = [1, 2, 3, 4, 5]\n",
        "b = [[1], [2], [3], [4], [5]]\n",
        "\n",
        "aa = np.array(a)\n",
        "bb = np.array(b)\n",
        "\n",
        "print(a)\n",
        "print(b)\n",
        "\n",
        "print(\"vector a là: \", aa)\n",
        "print(\"vector b là: \", bb, sep = '\\n')\n",
        "\n",
        "print(\"Chuyển vị của vector a là: \", aa.T)\n",
        "print(\"Chuyển vị của vector b là: \", bb.T)"
      ],
      "metadata": {
        "id": "zqn7vfqBYsR9"
      },
      "execution_count": null,
      "outputs": []
    },
    {
      "cell_type": "markdown",
      "source": [
        "Bài 10: Trong không gian  Rn , hãy sinh ngẫu nhiên vector a và b, n là số nguyên dương nhập vào từ bàn phím.\n",
        "\n",
        "Hãy:\n",
        "\n",
        "-Thực hiện phép nhân: ma với m là số bất kỳ, xuất kết quả ra màn hình\n",
        "\n",
        "-Thực hiện phép cộng 2 vector: a + b và xuất kết quả ra màn hình.\n"
      ],
      "metadata": {
        "id": "TJ1mstHBYt9N"
      }
    },
    {
      "cell_type": "code",
      "source": [
        "import numpy as np\n",
        "import random\n",
        "\n",
        "n = int(input(\"nhập n: \"))\n",
        "\n",
        "a = np.random.randint(low=-10, high=10, size=(1,n))\n",
        "print(a)\n",
        "b = np.random.randint(low=-10, high=10, size=(1,n))\n",
        "print(b)\n",
        "\n",
        "m = int(input(\"nhập m: \"))\n",
        "\n",
        "print(\"a*m: \\n\", a*m)\n",
        "print(\"a+b là: \\n\", a+b)"
      ],
      "metadata": {
        "id": "ULNbf70IYx_Y"
      },
      "execution_count": null,
      "outputs": []
    }
  ]
}