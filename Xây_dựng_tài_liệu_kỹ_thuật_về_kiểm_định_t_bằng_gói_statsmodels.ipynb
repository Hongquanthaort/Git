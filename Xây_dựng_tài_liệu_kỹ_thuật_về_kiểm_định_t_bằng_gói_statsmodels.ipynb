{
  "nbformat": 4,
  "nbformat_minor": 0,
  "metadata": {
    "colab": {
      "name": "Xây dựng tài liệu kỹ thuật về kiểm định t bằng gói statsmodels.ipynb",
      "provenance": [],
      "authorship_tag": "ABX9TyPrwDulzO04AjVDrNR68S/e",
      "include_colab_link": true
    },
    "kernelspec": {
      "name": "python3",
      "display_name": "Python 3"
    },
    "language_info": {
      "name": "python"
    }
  },
  "cells": [
    {
      "cell_type": "markdown",
      "metadata": {
        "id": "view-in-github",
        "colab_type": "text"
      },
      "source": [
        "<a href=\"https://colab.research.google.com/github/Hongquanthaort/Git/blob/main/X%C3%A2y_d%E1%BB%B1ng_t%C3%A0i_li%E1%BB%87u_k%E1%BB%B9_thu%E1%BA%ADt_v%E1%BB%81_ki%E1%BB%83m_%C4%91%E1%BB%8Bnh_t_b%E1%BA%B1ng_g%C3%B3i_statsmodels.ipynb\" target=\"_parent\"><img src=\"https://colab.research.google.com/assets/colab-badge.svg\" alt=\"Open In Colab\"/></a>"
      ]
    },
    {
      "cell_type": "markdown",
      "source": [
        "Dựa vào tài liệu hướng dẫn kiểm định z đã được GV cung cấp. Bạn hãy xây dựng một tài liệu kỹ thuật tương ứng sử dụng gói phần mềm statsmodels để thực hiện kiểm định t. Xét đầy đủ các trường hợp 1-đuôi và 2-đuôi.\n",
        "Kết quả tải lên github và nộp đường link vào phần trả lời bài tập"
      ],
      "metadata": {
        "id": "UmrMWygONEUw"
      }
    },
    {
      "cell_type": "code",
      "source": [
        "# import thư viện\n",
        "from statsmodels.stats.weightstats import ttest_ind\n",
        "import numpy as np"
      ],
      "metadata": {
        "id": "aWZaBuhjRvYg",
        "colab": {
          "base_uri": "https://localhost:8080/"
        },
        "outputId": "b8aefff2-2005-46b6-93bf-4a76f36f9fef"
      },
      "execution_count": 3,
      "outputs": [
        {
          "output_type": "stream",
          "name": "stderr",
          "text": [
            "/usr/local/lib/python3.7/dist-packages/statsmodels/tools/_testing.py:19: FutureWarning: pandas.util.testing is deprecated. Use the functions in the public API at pandas.testing instead.\n",
            "  import pandas.util.testing as tm\n"
          ]
        }
      ]
    },
    {
      "cell_type": "markdown",
      "source": [
        "T Test 1 Mẫu"
      ],
      "metadata": {
        "id": "vBfTqt9Up8CT"
      }
    },
    {
      "cell_type": "code",
      "source": [
        "import scipy.stats as stats\n",
        "import pandas as pd\n",
        "data = [14, 14, 16, 13, 12, 17, 15, 14, 15, 13, 15, 14] \n",
        "t_statistic, p_value = stats.ttest_1samp(a=data, popmean=5000)\n",
        "print(t_statistic , p_value)"
      ],
      "metadata": {
        "colab": {
          "base_uri": "https://localhost:8080/"
        },
        "id": "lPKwp6fHUmAY",
        "outputId": "6c0aaaca-8869-47c0-b67c-1b587ee2fde3"
      },
      "execution_count": 14,
      "outputs": [
        {
          "output_type": "stream",
          "name": "stdout",
          "text": [
            "-12600.128875428989 9.883746787106411e-41\n"
          ]
        }
      ]
    },
    {
      "cell_type": "markdown",
      "source": [
        "Thử nghiệm T hai mẫu với mô hình thống kê\n",
        "Statsmodels là một thư viện python được sử dụng đặc biệt để tính toán các mô hình thống kê khác nhau và để thực hiện các bài kiểm tra thống kê. Thư viện này sử dụng các mô-đun và khung dữ liệu kiểu R. \n",
        "\n",
        "Đầu tiên, hãy tạo dữ liệu mẫu. Chúng tôi đang tạo hai mảng và bây giờ hãy thực hiện kiểm tra T hai mẫu. Thư viện Statsmodels cung cấp hàm ttest_ind () để tiến hành T-Test hai mẫu có cú pháp được đưa ra bên dưới,\n",
        "\n",
        "Cú pháp: ttest_ind (data_group1, data_group2)\n",
        "\n",
        "Đây,\n",
        "\n",
        "data_group1: Nhóm dữ liệu đầu tiên\n",
        "data_group2: Nhóm dữ liệu thứ hai"
      ],
      "metadata": {
        "id": "pvWhEzlfNQSI"
      }
    },
    {
      "cell_type": "code",
      "execution_count": 4,
      "metadata": {
        "colab": {
          "base_uri": "https://localhost:8080/"
        },
        "id": "frS836YLND9H",
        "outputId": "02f0aa19-f2d6-40a6-e2d2-2a1c193f418b"
      },
      "outputs": [
        {
          "output_type": "execute_result",
          "data": {
            "text/plain": [
              "(0.6531479162158739, 0.5219170107019715, 18.0)"
            ]
          },
          "metadata": {},
          "execution_count": 4
        }
      ],
      "source": [
        "\n",
        "# t2-đuôi t-test sử dụng statsmodels\n",
        "# Creating data groups\n",
        "data_group1 = np.array([160, 150, 160, 156.12,\n",
        "\t\t\t\t\t\t163.24,\n",
        "\t\t\t\t\t\t160.56, 168.56, 174.12,\n",
        "\t\t\t\t\t\t167.123, 165.12])\n",
        "data_group2 = np.array([157.97, 146, 140.2, 170.15,\n",
        "\t\t\t\t\t\t167.34, 176.123, 162.35,\n",
        "\t\t\t\t\t\t159.123, 169.43, 148.123])\n",
        "ttest_ind(data_group1, data_group2)\n"
      ]
    }
  ]
}