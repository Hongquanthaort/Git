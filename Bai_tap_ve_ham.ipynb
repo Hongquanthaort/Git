{
  "nbformat": 4,
  "nbformat_minor": 0,
  "metadata": {
    "colab": {
      "name": "Bai_tap_ve_ham.ipynb",
      "provenance": [],
      "authorship_tag": "ABX9TyMdLxfm8VoBhlB3DnzdgUf8",
      "include_colab_link": true
    },
    "kernelspec": {
      "name": "python3",
      "display_name": "Python 3"
    },
    "language_info": {
      "name": "python"
    }
  },
  "cells": [
    {
      "cell_type": "markdown",
      "metadata": {
        "id": "view-in-github",
        "colab_type": "text"
      },
      "source": [
        "<a href=\"https://colab.research.google.com/github/Hongquanthaort/Git/blob/main/Bai_tap_ve_ham.ipynb\" target=\"_parent\"><img src=\"https://colab.research.google.com/assets/colab-badge.svg\" alt=\"Open In Colab\"/></a>"
      ]
    },
    {
      "cell_type": "markdown",
      "metadata": {
        "id": "1Xq3qdMEY3KC"
      },
      "source": [
        "Hãy xây dựng một hàm thực hiện các yêu cầu sau:\n",
        "- Xuất ra màn hình câu thông báo: “Lập trình Java 2021”\n",
        "- Hàm không có giá trị trả về"
      ]
    },
    {
      "cell_type": "code",
      "metadata": {
        "colab": {
          "base_uri": "https://localhost:8080/"
        },
        "id": "zIKAiGJZYlde",
        "outputId": "122f8b49-b63f-4bf8-9153-449f6073a05e"
      },
      "source": [
        "#ham\n",
        "def ham():\n",
        "  print(\"lập trình java 2021\")\n",
        "  #goi ham\n",
        "ham()"
      ],
      "execution_count": null,
      "outputs": [
        {
          "output_type": "stream",
          "name": "stdout",
          "text": [
            "lập trình java 2021\n"
          ]
        }
      ]
    },
    {
      "cell_type": "markdown",
      "metadata": {
        "id": "llXzhI-Zc7uI"
      },
      "source": [
        "3. Hãy xây dựng một hàm thực hiện các yêu cầu sau:\n",
        "- Nhận một tham số đầu vào là một chuỗi ký tự (kiểu String)\n",
        "- Xuất ra màn hình nội dung chuỗi được truyền vào từ tham số\n",
        "- Hàm không có giá trị trả về"
      ]
    },
    {
      "cell_type": "code",
      "metadata": {
        "colab": {
          "base_uri": "https://localhost:8080/"
        },
        "id": "38jdjTDhdAZW",
        "outputId": "170647da-3e4c-437f-9358-dce9234a1f2b"
      },
      "source": [
        "def chuoi():\n",
        "  print(input(\"nhập chuỗi: \"))\n",
        "chuoi()"
      ],
      "execution_count": 41,
      "outputs": [
        {
          "output_type": "stream",
          "name": "stdout",
          "text": [
            "nhập chuỗi: chúo\n",
            "chúo\n"
          ]
        }
      ]
    },
    {
      "cell_type": "markdown",
      "metadata": {
        "id": "iuLlPf8tdwFc"
      },
      "source": [
        "4.Hãy viết chương trình thực hiện các yêu cầu sau:\n",
        "- Nhập một số nguyên dương n từ bàn phím (kiểm tra nếu không đạt yêu cầu thì bắt nhập\n",
        "lại)\n",
        "- Nhập một thông điệp từ bàn phím\n",
        "- Gọi thực hiện hàm ở Bài 2 n lần với thông điệp được truyền làm tham số đầu vào của hàm."
      ]
    },
    {
      "cell_type": "code",
      "metadata": {
        "colab": {
          "base_uri": "https://localhost:8080/"
        },
        "id": "yElvcleLdy1Y",
        "outputId": "925cef77-a9fe-4753-eda7-e9cc1013da81"
      },
      "source": [
        "import string\n",
        "while True:\n",
        "  n3 = input(\"nhập n: \")\n",
        "  if n3 in string.digits :\n",
        "    n3 = int(n3)\n",
        "    break\n",
        "chuoi = input(\"nhập chuỗi: \")\n",
        "def b3(chuoi):\n",
        "  for i in range (n3):\n",
        "   print(chuoi)\n",
        "b3(chuoi)"
      ],
      "execution_count": 50,
      "outputs": [
        {
          "output_type": "stream",
          "name": "stdout",
          "text": [
            "nhập n: 3\n",
            "nhập chuỗi: a\n",
            "a\n",
            "a\n",
            "a\n"
          ]
        }
      ]
    },
    {
      "cell_type": "code",
      "metadata": {
        "colab": {
          "base_uri": "https://localhost:8080/"
        },
        "id": "zBpjwqTzpo0A",
        "outputId": "d39b4e0b-c820-4371-c5c7-b16dd5b4febd"
      },
      "source": [
        "def gpt1(a,b):\n",
        "  if a == 0:\n",
        "    if b == 0:\n",
        "     print(\"Vô số nghiệm\")\n",
        "    else:\n",
        "     print(\"Vô nghiệm\")\n",
        "  else:\n",
        "    print(\"Phương trình có nghiệm x =\", -b / a)\n",
        "a = float(input(\"Nhập a: \"))\n",
        "b = float(input(\"Nhập b: \"))\n",
        "gpt1(a,b)\n"
      ],
      "execution_count": 56,
      "outputs": [
        {
          "output_type": "stream",
          "name": "stdout",
          "text": [
            "Nhập a: 3\n",
            "Nhập b: 1\n",
            "Phương trình có nghiệm x = -0.3333333333333333\n"
          ]
        }
      ]
    },
    {
      "cell_type": "markdown",
      "metadata": {
        "id": "FSEE7u1jR9qf"
      },
      "source": [
        "5: Hãy viết chương trình thực hiện các yêu cầu sau:\n",
        "- Xây dựng hàm giải phương trình bậc (ax2 + bx + c = 0), với hệ số a & b & c được truyền\n",
        "vào qua thông số của hàm.\n",
        "- Chương trình chính nhận các thông số a, b & c từ bàn phím\n",
        "- Chương trình chính gọi hàm giải phương trình bậc 2 nêu trên"
      ]
    },
    {
      "cell_type": "code",
      "metadata": {
        "colab": {
          "base_uri": "https://localhost:8080/"
        },
        "id": "EgaLyT_PSQno",
        "outputId": "d3c94e0e-c7de-4ac5-ab1b-c21aedd7e3ba"
      },
      "source": [
        "from math import sqrt\n",
        "a = float(input(\"Nhập a: \"))\n",
        "b = float(input(\"Nhập b: \"))\n",
        "c = float(input(\"Nhập c: \"))\n",
        "def gpt2(a,b,c):\n",
        "  if a == 0:\n",
        "      if b == 0:\n",
        "          if c == 0:\n",
        "              print(\" vô số nghiệm!\")\n",
        "          else:\n",
        "              print(\" vô nghiệm!\")\n",
        "      else:\n",
        "          if c == 0:\n",
        "              print(\"có 1 nghiệm x = 0\")\n",
        "          else:\n",
        "              print(\"có 1 nghiệm x = \", -c / b)\n",
        "  else:\n",
        "      delta = b ** 2 - 4 * a * c\n",
        "      if delta < 0:\n",
        "          print(\" vô nghiệm\")\n",
        "      elif delta == 0:\n",
        "          print(\"có 1 nghiệm x = \", -b / (2 * a))\n",
        "      else:\n",
        "          print(\" 2 nghiệm phân biệt\")\n",
        "          print(\"x1 = \", float((-b - sqrt(delta)) / (2 * a)))\n",
        "          print(\"x2 = \", float((-b + sqrt(delta)) / (2 * a)))\n",
        "gpt2(a,b,c)"
      ],
      "execution_count": 60,
      "outputs": [
        {
          "output_type": "stream",
          "name": "stdout",
          "text": [
            "Nhập a: 3\n",
            "Nhập b: 1\n",
            "Nhập c: 2\n",
            " vô nghiệm\n"
          ]
        }
      ]
    },
    {
      "cell_type": "markdown",
      "metadata": {
        "id": "EQ3HRAyIxaT-"
      },
      "source": [
        "6: Hãy viết chương trình thực hiện các yêu cầu sau:\n",
        "\n",
        "- Cho người dùng lựa chọn giải phương trình bậc 1 hay bậc 2 bằng cách nhập số (1 hay 2)\n",
        "từ bàn phím\n",
        "- Nếu người dùng chọn giải phương trình bậc 1, thì thực hiện các bước như Bài 4\n",
        "- Nếu người dùng chọn giải phương trình bậc 2, thì thực hiện các bước như Bài 5"
      ]
    },
    {
      "cell_type": "code",
      "metadata": {
        "colab": {
          "base_uri": "https://localhost:8080/"
        },
        "id": "v6v0-zgsxkQQ",
        "outputId": "fd3a7d19-0ec7-4043-a036-f1a25eaedc34"
      },
      "source": [
        "#Cho người dùng lựa chọn giải phương trình bậc 1 hay bậc 2 bằng cách nhập số (1 hay 2) từ bàn phím\n",
        "while True:\n",
        "  chon = int(input(\"Lựa chọn giải phương trình bậc 1 hay bậc 2: \"))\n",
        "  if chon == 1:\n",
        "    a = int(input(\"Nhập hệ số a: \"))\n",
        "    b = int(input(\"Nhập hệ số b: \"))\n",
        "    print(gpt1(a,b))\n",
        "    break\n",
        "  elif chon == 2:\n",
        "    a = int(input(\"Nhập hệ số a: \"))\n",
        "    b = int(input(\"Nhập hệ số b: \"))\n",
        "    c = int(input(\"Nhập hệ số c: \"))\n",
        "    print(gpt2(a,b,c))\n",
        "    break"
      ],
      "execution_count": 64,
      "outputs": [
        {
          "output_type": "stream",
          "name": "stdout",
          "text": [
            "Lựa chọn giải phương trình bậc 1 hay bậc 2: 1\n",
            "Nhập hệ số a: 2\n",
            "Nhập hệ số b: 1\n",
            "Phương trình có nghiệm x = -0.5\n",
            "None\n"
          ]
        }
      ]
    },
    {
      "cell_type": "markdown",
      "metadata": {
        "id": "w_pyXj_S8GEN"
      },
      "source": [
        "7: Viết chương trình thực hiện các yêu cầu sau:\n",
        "\n",
        "Thực hiện yêu cầu như bài 6\n",
        "Sau khi thực hiện xong cho người dùng lựa chọn tiếp tục thực hiện lại hay kết thúc chương trình"
      ]
    },
    {
      "cell_type": "code",
      "metadata": {
        "colab": {
          "base_uri": "https://localhost:8080/"
        },
        "id": "YIJ0ac5X8GYl",
        "outputId": "749de299-bd70-48b7-d04d-fa6bd90574dd"
      },
      "source": [
        "s = \"Y\"\n",
        "while True:\n",
        "  if s in (\"Yy\"):\n",
        "    while True:\n",
        "      chon = int(input(\"Lựa chọn giải phương trình bậc 1 hay bậc 2: \"))\n",
        "      if chon == 1:\n",
        "        a = int(input(\"Nhập hệ số a: \"))\n",
        "        b = int(input(\"Nhập hệ số b: \"))\n",
        "        print(gpt1(a,b))\n",
        "        s = input(\"Có tiếp tục thực hiện lại hay kết thúc chương trình? (Y/N): \")\n",
        "        break\n",
        "      elif lua_chon == 2:\n",
        "        a = int(input(\"Nhập hệ số a: \"))\n",
        "        b = int(input(\"Nhập hệ số b: \"))\n",
        "        c = int(input(\"Nhập hệ số c: \"))\n",
        "        print(gpt2(a,b,c))\n",
        "        s = input(\"Có tiếp tục thực hiện lại hay kết thúc chương trình? (Y/N): \")\n",
        "        break\n",
        "  elif s in (\"Nn\"):\n",
        "    break\n",
        "  else:\n",
        "    s = input(\"Có tiếp tục thực hiện lại hay kết thúc chương trình? (Y/N): \")"
      ],
      "execution_count": 70,
      "outputs": [
        {
          "name": "stdout",
          "output_type": "stream",
          "text": [
            "Chọn 1 hoặc 2: 1\n",
            "Nhập hệ số a: 2\n",
            "Nhập hệ số b: 1\n",
            "Phương trình có nghiệm x = -0.5\n",
            "None\n",
            "Có tiếp tục thực hiện lại hay kết thúc chương trình? (Y/N): n\n"
          ]
        }
      ]
    }
  ]
}