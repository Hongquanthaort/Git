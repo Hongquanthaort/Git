{
  "nbformat": 4,
  "nbformat_minor": 0,
  "metadata": {
    "colab": {
      "name": "Bai tập vòng lặp.ipynb",
      "provenance": [],
      "authorship_tag": "ABX9TyPvL1LV31+a/mNjP6jCrpga",
      "include_colab_link": true
    },
    "kernelspec": {
      "name": "python3",
      "display_name": "Python 3"
    },
    "language_info": {
      "name": "python"
    }
  },
  "cells": [
    {
      "cell_type": "markdown",
      "metadata": {
        "id": "view-in-github",
        "colab_type": "text"
      },
      "source": [
        "<a href=\"https://colab.research.google.com/github/Hongquanthaort/Git/blob/main/Bai_t%E1%BA%ADp_v%C3%B2ng_l%E1%BA%B7p.ipynb\" target=\"_parent\"><img src=\"https://colab.research.google.com/assets/colab-badge.svg\" alt=\"Open In Colab\"/></a>"
      ]
    },
    {
      "cell_type": "code",
      "metadata": {
        "id": "x_-xuX1GGZR8"
      },
      "source": [
        "# bai 1\n",
        "i = 1\n",
        "while(i<=10):\n",
        "    print(i)\n",
        "    i += 1"
      ],
      "execution_count": null,
      "outputs": []
    },
    {
      "cell_type": "code",
      "metadata": {
        "colab": {
          "base_uri": "https://localhost:8080/"
        },
        "id": "aXRvDkORMJoH",
        "outputId": "65db34ad-18e8-4769-f909-a44412815122"
      },
      "source": [
        "# bai 2\n",
        "rows = int(input(\"Enter the number of rows: \"))  \n",
        "for i in range(0, rows + 1):   \n",
        "    for j in range(rows - i, 0, -1):  \n",
        "        print(j, end=' ')  \n",
        "    print()  "
      ],
      "execution_count": 26,
      "outputs": [
        {
          "output_type": "stream",
          "name": "stdout",
          "text": [
            "Enter the number of rows: 8\n",
            "8 7 6 5 4 3 2 1 \n",
            "7 6 5 4 3 2 1 \n",
            "6 5 4 3 2 1 \n",
            "5 4 3 2 1 \n",
            "4 3 2 1 \n",
            "3 2 1 \n",
            "2 1 \n",
            "1 \n",
            "\n"
          ]
        }
      ]
    },
    {
      "cell_type": "code",
      "metadata": {
        "colab": {
          "base_uri": "https://localhost:8080/"
        },
        "id": "5TGpoWorNGsV",
        "outputId": "aa705879-371e-4ab6-aa3c-96b43afea65f"
      },
      "source": [
        "#bai 3\n",
        "n = int(input(\"Enter number: \"))\n",
        "sum = 0\n",
        "for num in range(1, n + 1, 1):\n",
        "    sum = sum + num\n",
        "print(\"Sum of first \", n, \"numbers is: \", sum)"
      ],
      "execution_count": 9,
      "outputs": [
        {
          "output_type": "stream",
          "name": "stdout",
          "text": [
            "Enter number: 3\n",
            "Sum of first  3 numbers is:  6\n"
          ]
        }
      ]
    },
    {
      "cell_type": "code",
      "metadata": {
        "colab": {
          "base_uri": "https://localhost:8080/"
        },
        "id": "OavMLFB3NyJ0",
        "outputId": "70ed7d8f-2b56-4306-9de4-f8ce42e09005"
      },
      "source": [
        "#bai 4\n",
        "num = int(input(\"Enter the number: \"))\n",
        "print(\"Multiplication Table of\", num)\n",
        "for i in range(1, 11):\n",
        "   print(num,\"X\",i,\"=\",num * i)"
      ],
      "execution_count": 12,
      "outputs": [
        {
          "output_type": "stream",
          "name": "stdout",
          "text": [
            "Enter the number: 3\n",
            "Multiplication Table of 3\n",
            "3 X 1 = 3\n",
            "3 X 2 = 6\n",
            "3 X 3 = 9\n",
            "3 X 4 = 12\n",
            "3 X 5 = 15\n",
            "3 X 6 = 18\n",
            "3 X 7 = 21\n",
            "3 X 8 = 24\n",
            "3 X 9 = 27\n",
            "3 X 10 = 30\n"
          ]
        }
      ]
    },
    {
      "cell_type": "code",
      "metadata": {
        "colab": {
          "base_uri": "https://localhost:8080/"
        },
        "id": "r2CvXyb-OVH-",
        "outputId": "aa60161a-9bed-4478-8a5c-fe346d44e221"
      },
      "source": [
        "#Bai 5\n",
        "list = [\"Táo\", \"Bưởi\", \"chè\"]\n",
        "for x in list:\n",
        "  print(x)"
      ],
      "execution_count": 13,
      "outputs": [
        {
          "output_type": "stream",
          "name": "stdout",
          "text": [
            "Táo\n",
            "Bưởi\n",
            "chè\n"
          ]
        }
      ]
    },
    {
      "cell_type": "code",
      "metadata": {
        "colab": {
          "base_uri": "https://localhost:8080/"
        },
        "id": "MzT45otUO6jn",
        "outputId": "34e8a90e-7500-4219-93cf-94bf4c7db0fa"
      },
      "source": [
        "#Bai 6\n",
        "n=int(input(\"Enter number:\"))\n",
        "count=0\n",
        "while(n>0):\n",
        "    count=count+1\n",
        "    n=n//10\n",
        "print(\"The number of digits in the number are:\",count)"
      ],
      "execution_count": 15,
      "outputs": [
        {
          "output_type": "stream",
          "name": "stdout",
          "text": [
            "Enter number:321\n",
            "The number of digits in the number are: 3\n"
          ]
        }
      ]
    },
    {
      "cell_type": "code",
      "metadata": {
        "colab": {
          "base_uri": "https://localhost:8080/"
        },
        "id": "Y4hrpzkyPPfy",
        "outputId": "5f4d4626-857d-4aaa-fdbe-fcc64fd37d6f"
      },
      "source": [
        "#Bai 7\n",
        "digits = [0, 1, 2, 3, 4, 5, 6, 7, 8, 9]\n",
        "for i in range(len(digits)):\n",
        "    last_item = digits.pop()\n",
        "    digits.insert(i, last_item)\n",
        "print(digits)"
      ],
      "execution_count": 23,
      "outputs": [
        {
          "output_type": "stream",
          "name": "stdout",
          "text": [
            "[9, 8, 7, 6, 5, 4, 3, 2, 1, 0]\n"
          ]
        }
      ]
    },
    {
      "cell_type": "code",
      "metadata": {
        "colab": {
          "base_uri": "https://localhost:8080/"
        },
        "id": "QK1srUZuPxk3",
        "outputId": "e9061896-7656-41c6-db03-f955f3b84ee8"
      },
      "source": [
        "#bài 8\n",
        "for i in range(-10, 0):\n",
        "    print(i, end=\", \")"
      ],
      "execution_count": 33,
      "outputs": [
        {
          "output_type": "stream",
          "name": "stdout",
          "text": [
            "-10, -9, -8, -7, -6, -5, -4, -3, -2, -1, "
          ]
        }
      ]
    },
    {
      "cell_type": "code",
      "metadata": {
        "colab": {
          "base_uri": "https://localhost:8080/"
        },
        "id": "QGI8BdkKR_Sz",
        "outputId": "6475a92b-9a81-400e-bc16-418abdb66619"
      },
      "source": [
        "#Bai 9\n",
        "member_list = ['Hoa', 'Thảo', 'Mai']\n",
        "for name in member_list:\n",
        "    print(name)\n",
        "else:\n",
        "    print(\"Done\")\n",
        "\n"
      ],
      "execution_count": 36,
      "outputs": [
        {
          "output_type": "stream",
          "name": "stdout",
          "text": [
            "Hoa\n",
            "Thảo\n",
            "Mai\n",
            "Done\n"
          ]
        }
      ]
    },
    {
      "cell_type": "code",
      "metadata": {
        "colab": {
          "base_uri": "https://localhost:8080/"
        },
        "id": "SqvxLI2hTBlN",
        "outputId": "5e7d2b9a-9bff-418f-ca5d-ee06076218d3"
      },
      "source": [
        "#Bai 10\n",
        "First = int(input())\n",
        "end = int(input())\n",
        "print(\"Prime numbers between\", First, \"and\", end, \"are:\")\n",
        "\n",
        "for num in range(First, end + 1):\n",
        "   if num > 1:\n",
        "       for i in range(2, num):\n",
        "           if (num % i) == 0:\n",
        "               break\n",
        "       else:\n",
        "           print(num)"
      ],
      "execution_count": 40,
      "outputs": [
        {
          "output_type": "stream",
          "name": "stdout",
          "text": [
            "1\n",
            "10\n",
            "Prime numbers between 1 and 10 are:\n",
            "2\n",
            "3\n",
            "5\n",
            "7\n"
          ]
        }
      ]
    },
    {
      "cell_type": "code",
      "metadata": {
        "colab": {
          "base_uri": "https://localhost:8080/"
        },
        "id": "0e7aIEx3UP-q",
        "outputId": "bb794057-9f56-4f42-e75c-9605c6a881f6"
      },
      "source": [
        "#Bai 11\n",
        "n = 10\n",
        "a = 0\n",
        "b = 1\n",
        "sum = 0\n",
        "count = 1\n",
        "print(\"Fibonacci Series: \", end = \" \")\n",
        "while(count <= n):\n",
        "  print(sum, end = \" \")\n",
        "  count += 1\n",
        "  a = b\n",
        "  b = sum\n",
        "  sum = a + b"
      ],
      "execution_count": 47,
      "outputs": [
        {
          "output_type": "stream",
          "name": "stdout",
          "text": [
            "Fibonacci Series:  0 1 1 2 3 5 8 13 21 34 "
          ]
        }
      ]
    },
    {
      "cell_type": "code",
      "metadata": {
        "colab": {
          "base_uri": "https://localhost:8080/"
        },
        "id": "4MlWxDhyUaZJ",
        "outputId": "f9fe5c36-4526-48ab-c902-c5cea19466d7"
      },
      "source": [
        "#Bai 12\n",
        "num = int(input(\"Enter a number: \"))\n",
        "\n",
        "factorial = 1\n",
        "\n",
        "if num < 0:\n",
        "   print(\"Sorry, factorial does not exist for negative numbers\")\n",
        "elif num == 0:\n",
        "   print(\"The factorial of 0 is 1\")\n",
        "else:\n",
        "   for i in range(1,num + 1):\n",
        "       factorial = factorial*i\n",
        "   print(\"The factorial of\",num,\"is\",factorial)\n",
        "\n"
      ],
      "execution_count": 45,
      "outputs": [
        {
          "output_type": "stream",
          "name": "stdout",
          "text": [
            "Enter a number: 4\n",
            "The factorial of 4 is 24\n"
          ]
        }
      ]
    },
    {
      "cell_type": "code",
      "metadata": {
        "colab": {
          "base_uri": "https://localhost:8080/"
        },
        "id": "_gx30CLiU1Oo",
        "outputId": "ac90f621-71b1-415d-b6e4-ba680447253a"
      },
      "source": [
        "#Bai 13\n",
        "num = 2345\n",
        "reversed_num = 0\n",
        "\n",
        "while num != 0:\n",
        "    digit = num % 10\n",
        "    reversed_num = reversed_num * 10 + digit\n",
        "    num //= 10\n",
        "\n",
        "print(\"Reversed Number: \" + str(reversed_num))"
      ],
      "execution_count": 56,
      "outputs": [
        {
          "output_type": "stream",
          "name": "stdout",
          "text": [
            "Reversed Number: 5432\n"
          ]
        }
      ]
    },
    {
      "cell_type": "code",
      "metadata": {
        "colab": {
          "base_uri": "https://localhost:8080/"
        },
        "id": "0-cEOwVgVYi9",
        "outputId": "f54cc53a-a232-4a85-be03-06c0f50343de"
      },
      "source": [
        "#Bai 14\n",
        "arr = [1, 2, 3, 4, 5];         \n",
        "print(\"Elements of given array present on odd position: \");          \n",
        "for i in range(0, len(arr), 2):    \n",
        "    print(arr[i]);     \n",
        " "
      ],
      "execution_count": 59,
      "outputs": [
        {
          "output_type": "stream",
          "name": "stdout",
          "text": [
            "Elements of given array present on odd position: \n",
            "1\n",
            "3\n",
            "5\n"
          ]
        }
      ]
    },
    {
      "cell_type": "code",
      "metadata": {
        "colab": {
          "base_uri": "https://localhost:8080/"
        },
        "id": "NGjlinnZVpDZ",
        "outputId": "c658e141-4ab9-48ba-fc3a-02ad43520af5"
      },
      "source": [
        "#Bai 15\n",
        "def cube(x):\n",
        "    return x * x * x\n",
        "n = int(input(\" Enter the number : \"))\n",
        "cube1 = cube(n)\n",
        "print(\"The Cube of {0}  = {1}\".format(n, cube1))"
      ],
      "execution_count": 60,
      "outputs": [
        {
          "output_type": "stream",
          "name": "stdout",
          "text": [
            " Enter the number : 3\n",
            "The Cube of 3  = 27\n"
          ]
        }
      ]
    }
  ]
}