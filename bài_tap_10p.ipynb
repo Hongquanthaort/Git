{
  "nbformat": 4,
  "nbformat_minor": 0,
  "metadata": {
    "colab": {
      "name": "bài tap 10p.ipynb",
      "provenance": [],
      "authorship_tag": "ABX9TyMw6vlPhEXot3DYEkldA0Jr",
      "include_colab_link": true
    },
    "kernelspec": {
      "name": "python3",
      "display_name": "Python 3"
    },
    "language_info": {
      "name": "python"
    }
  },
  "cells": [
    {
      "cell_type": "markdown",
      "metadata": {
        "id": "view-in-github",
        "colab_type": "text"
      },
      "source": [
        "<a href=\"https://colab.research.google.com/github/Hongquanthaort/Git/blob/main/b%C3%A0i_tap_10p.ipynb\" target=\"_parent\"><img src=\"https://colab.research.google.com/assets/colab-badge.svg\" alt=\"Open In Colab\"/></a>"
      ]
    },
    {
      "cell_type": "code",
      "metadata": {
        "colab": {
          "base_uri": "https://localhost:8080/"
        },
        "id": "mbLKpHTGtIem",
        "outputId": "58c4d422-88d2-4a2d-8a4d-08f46c8dffff"
      },
      "source": [
        "dtb = int(input(\"Nhập điểm: \"))\n",
        "if dtb >= 9:\n",
        "  print(\"xl suất sắc\")\n",
        "elif dtb >= 8:\n",
        "  print(\"xl giỏi\")\n",
        "elif dtb >= 7:\n",
        "  print(\"xl khá\")\n",
        "elif dtb >= 6:\n",
        "  print(\"xl trung bình\")\n",
        "else:\n",
        "  print(\"xl yếu\")"
      ],
      "execution_count": 9,
      "outputs": [
        {
          "output_type": "stream",
          "name": "stdout",
          "text": [
            "Nhập điểm: 3\n",
            "xl yếu\n"
          ]
        }
      ]
    }
  ]
}