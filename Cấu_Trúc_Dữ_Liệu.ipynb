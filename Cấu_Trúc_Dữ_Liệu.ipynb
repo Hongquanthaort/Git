{
  "nbformat": 4,
  "nbformat_minor": 0,
  "metadata": {
    "colab": {
      "name": "Cấu Trúc Dữ Liệu.ipynb",
      "provenance": [],
      "authorship_tag": "ABX9TyNO9bl4bPeS4yUFthHwQGWO",
      "include_colab_link": true
    },
    "kernelspec": {
      "name": "python3",
      "display_name": "Python 3"
    },
    "language_info": {
      "name": "python"
    }
  },
  "cells": [
    {
      "cell_type": "markdown",
      "metadata": {
        "id": "view-in-github",
        "colab_type": "text"
      },
      "source": [
        "<a href=\"https://colab.research.google.com/github/Hongquanthaort/Git/blob/main/C%E1%BA%A5u_Tr%C3%BAc_D%E1%BB%AF_Li%E1%BB%87u.ipynb\" target=\"_parent\"><img src=\"https://colab.research.google.com/assets/colab-badge.svg\" alt=\"Open In Colab\"/></a>"
      ]
    },
    {
      "cell_type": "code",
      "execution_count": 1,
      "metadata": {
        "colab": {
          "base_uri": "https://localhost:8080/"
        },
        "id": "Y-PdWYkoheJ6",
        "outputId": "83375061-9f95-41e9-8249-c1528badb565"
      },
      "outputs": [
        {
          "output_type": "stream",
          "name": "stdout",
          "text": [
            "Nhập phần tử cho dãy số: 3\n",
            "Nhập phần tử cho dãy số: 3\n",
            "Nhập phần tử cho dãy số: 4\n",
            "Nhập phần tử cho dãy số: 5\n",
            "Nhập phần tử cho dãy số: 1\n",
            "Nhập phần tử cho dãy số: 2\n",
            "Dãy số ban đầu:  [3, 3, 4, 5, 1, 2]\n",
            "Dãy số đã sắp xếp tăng dần:  array('i', [1, 2, 3, 3, 4, 5])\n"
          ]
        }
      ],
      "source": [
        "#Nhập một dãy số nguyên từ bàn phím, và sắp xếp chúng theo thứ tự tăng dần.\n",
        "import array as arr\n",
        "\n",
        "a=[]\n",
        "for i in range(1,7):\n",
        "    a.append(int(input(\"Nhập phần tử cho dãy số: \")))\n",
        "arr1=arr.array(\"i\",a)\n",
        "print(\"Dãy số ban đầu: \",a)\n",
        "for i in range(len(arr1)):\n",
        "    for j in range(i + 1, len(arr1)):\n",
        "        if arr1[i] > arr1[j]:\n",
        "            arr1[i], arr1[j] = arr1[j], arr1[i]\n",
        "print(\"Dãy số đã sắp xếp tăng dần: \", arr1)"
      ]
    },
    {
      "cell_type": "code",
      "source": [
        "#Nhập một dãy số nguyên từ bàn phím, và cho biết số lần xuất hiện của từng số trong dãy số\n",
        "import array as arr\n",
        "a=[]\n",
        "for i in range(1,16):\n",
        "    a.append(int(input(\"Nhập phần tử cho dãy số: \")))\n",
        "arr2=arr.array(\"i\",a)\n",
        "print(\"Dãy số ban đầu: \",a)\n",
        "n=dict()\n",
        "\n",
        "for i in arr2:\n",
        "    if i in n:\n",
        "        n[i]+=1\n",
        "    else:\n",
        "        n[i]=1\n",
        "print(\"Phần tử tương ứng với số lần xuất hiện\",n)\n"
      ],
      "metadata": {
        "id": "QbWbj7auhemd"
      },
      "execution_count": null,
      "outputs": []
    },
    {
      "cell_type": "code",
      "source": [
        "# Xây dựng lớp Stack\n",
        "class Stack:\n",
        "    # Hàm khởi tạo\n",
        "    def __init__(self):\n",
        "        self.s = []\n",
        "\n",
        "    # Hàm bổ sung thêm một phần tử x vào đỉnh của Ngăn xếp S.\n",
        "    def push(self, x):\n",
        "        self.s.append(x)\n",
        "\n",
        "    # Hàm loại bỏ và trả về giá trị của phần tử đỉnh của Ngăn xếp S.\n",
        "    # Nếu S rỗng thì trả về thông báo Ngăn xếp rỗng.\n",
        "    def pop(self):\n",
        "        if len(self.s) == 0:\n",
        "            return \"stack is empty\"\n",
        "        return self.s.pop()\n",
        "\n",
        "    # Hàm kiểm tra ngăn xếp rỗng\n",
        "    #Trả về giá trị True nếu S không chứa phần tử nào.\n",
        "    def is_empty(self):\n",
        "        return len(self.s) == 0\n",
        "\n",
        "    # Trả về giá trị của phần tử đỉnh Ngăn xếp, nhưng không loại bỏ phần tử này.\n",
        "    # Nếu S rỗng thì trả về thông báo Ngăn xếp rỗng.\n",
        "    def top(self):\n",
        "        if len(self.s) == 0:\n",
        "            return \"stack is empty\"\n",
        "        return self.s[-1]\n",
        "\n",
        "    # Hàm trả về số lượng các phần tử trong Ngăn xếp S.\n",
        "    def __len__(self):\n",
        "        return len(self.s)\n",
        "\n",
        "\n",
        "    # Hàm hiển thị các phần tử trong ngăn xếp S.\n",
        "    def __str__(self):\n",
        "        return \"Stack is \" + str(self.s)\n",
        "\n",
        "# Hàm main\n",
        "if __name__ == \"__main__\":\n",
        "    # Khai báo đối tượng\n",
        "    S = Stack()"
      ],
      "metadata": {
        "id": "kJfvEBz-hnae"
      },
      "execution_count": null,
      "outputs": []
    },
    {
      "cell_type": "code",
      "source": [
        "class Queue:\n",
        "    def __init__(self):\n",
        "        self.s1 = []\n",
        "        self.s2 = []\n",
        "\n",
        "    def enQueue(self, x):\n",
        "\n",
        "        # Move all elements from s1 to s2\n",
        "        while len(self.s1) != 0:\n",
        "            self.s2.append(self.s1[-1])\n",
        "            self.s1.pop()\n",
        "\n",
        "        # Push item into self.s1\n",
        "        self.s1.append(x)\n",
        "\n",
        "        # Push everything back to s1\n",
        "        while len(self.s2) != 0:\n",
        "            self.s1.append(self.s2[-1])\n",
        "            self.s2.pop()\n",
        "\n",
        "        # Dequeue an item from the queue\n",
        "    def deQueue(self):\n",
        "        if len(self.s1) == 0:\n",
        "            print(\"Q is Empty\")\n",
        "\n",
        "            # Return top of self.s1\n",
        "        x = self.s1[-1]\n",
        "        self.s1.pop()\n",
        "        return x\n",
        "\n",
        "if __name__ == '__main__':\n",
        "    q = Queue()"
      ],
      "metadata": {
        "id": "JFUTedVUhqdt"
      },
      "execution_count": null,
      "outputs": []
    }
  ]
}