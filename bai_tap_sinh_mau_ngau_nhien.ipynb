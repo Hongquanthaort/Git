{
  "cells": [
    {
      "cell_type": "markdown",
      "metadata": {
        "id": "view-in-github",
        "colab_type": "text"
      },
      "source": [
        "<a href=\"https://colab.research.google.com/github/Hongquanthaort/Git/blob/main/bai_tap_sinh_mau_ngau_nhien.ipynb\" target=\"_parent\"><img src=\"https://colab.research.google.com/assets/colab-badge.svg\" alt=\"Open In Colab\"/></a>"
      ]
    },
    {
      "cell_type": "markdown",
      "metadata": {
        "id": "U2G8PvmGnTFv"
      },
      "source": [
        "Sử dụng thư viện Numpy\n",
        "\n",
        "1. Sinh mẫu ngẫu nhiên bằng hàm arange trong khoảng [-15, 27] với khoảng cách là 0.7 và in kết quả ra màn hình"
      ]
    },
    {
      "cell_type": "code",
      "execution_count": 1,
      "metadata": {
        "id": "mCjYAdc-nTFz",
        "outputId": "7c5074b9-7e97-4b64-fc55-d9f82dde600a",
        "colab": {
          "base_uri": "https://localhost:8080/"
        }
      },
      "outputs": [
        {
          "output_type": "stream",
          "name": "stdout",
          "text": [
            "[-15.  -14.3 -13.6 -12.9 -12.2 -11.5 -10.8 -10.1  -9.4  -8.7  -8.   -7.3\n",
            "  -6.6  -5.9  -5.2  -4.5  -3.8  -3.1  -2.4  -1.7  -1.   -0.3   0.4   1.1\n",
            "   1.8   2.5   3.2   3.9   4.6   5.3   6.    6.7   7.4   8.1   8.8   9.5\n",
            "  10.2  10.9  11.6  12.3  13.   13.7  14.4  15.1  15.8  16.5  17.2  17.9\n",
            "  18.6  19.3  20.   20.7  21.4  22.1  22.8  23.5  24.2  24.9  25.6  26.3\n",
            "  27. ]\n"
          ]
        }
      ],
      "source": [
        "#Code \n",
        "import numpy as np\n",
        "mau = np.arange(-15, 27, 0.7)\n",
        "print(mau)\n"
      ]
    },
    {
      "cell_type": "markdown",
      "metadata": {
        "id": "RdH4ZmgOnTF0"
      },
      "source": [
        "2. Sinh mẫu ngẫu nhiên theo phân phối chuẩn với mean = 2.7 std = 1.2 và size = 40\n",
        "In kết quả ra màn hình"
      ]
    },
    {
      "cell_type": "code",
      "execution_count": 5,
      "metadata": {
        "id": "5dcshc_gnTF1",
        "outputId": "788a5487-e036-46bf-ea89-d984da5dd23b",
        "colab": {
          "base_uri": "https://localhost:8080/"
        }
      },
      "outputs": [
        {
          "output_type": "stream",
          "name": "stdout",
          "text": [
            "[3.02466834 1.11205818 2.22228159 0.70127843 2.40138934 1.15909925\n",
            " 3.03135259 3.15389035 1.19535354 1.6318515  2.40435849 2.03360753\n",
            " 4.1295623  0.14083485 1.77394457 1.74569989 3.10742181 3.49401899\n",
            " 3.365586   1.16762582 3.51583288 3.34969583 1.61023703 2.17927149\n",
            " 2.11417915 3.93364138 3.36391432 3.25476793 2.54782072 2.61004183\n",
            " 4.06890785 3.58567419 6.15352694 2.10895107 2.55329361 3.03777787\n",
            " 2.50258439 1.10205463 1.55239489 2.68534327]\n"
          ]
        }
      ],
      "source": [
        "#Code\n",
        "import numpy as np\n",
        "#Sinh ngẫu nhiên dữ liệu theo phân phối chuẩn với các giá trị trung bình (mean), độ lệch chuẩn (standard deviation) và\n",
        "#kích thước tập dữ liệu được sinh ra (size)\n",
        "sample_1 = np.random.normal(loc = 2.7, scale = 1.2, size = 40)\n",
        "print(sample_1)"
      ]
    },
    {
      "cell_type": "markdown",
      "metadata": {
        "id": "d32UGWoVnTF1"
      },
      "source": [
        "3. Sinh mẫu ngẫu nhiên từ vector ['Viet Nam', 'Britain', 'France', 'Russia', 'Singapore'] \n",
        "\n",
        "với kích thước là 17 theo phân phối chuẩn"
      ]
    },
    {
      "cell_type": "code",
      "execution_count": 6,
      "metadata": {
        "id": "xSlj_Ra8nTF1",
        "outputId": "a62f22fc-50f5-4164-f065-6945b6d0ab51",
        "colab": {
          "base_uri": "https://localhost:8080/"
        }
      },
      "outputs": [
        {
          "output_type": "stream",
          "name": "stdout",
          "text": [
            "['Britain' 'Russia' 'Russia' 'Russia' 'Russia' 'France' 'Singapore'\n",
            " 'Britain' 'Singapore' 'Britain' 'France' 'Singapore' 'France' 'Britain'\n",
            " 'Britain' 'Viet Nam' 'France']\n"
          ]
        }
      ],
      "source": [
        "#Code\n",
        "sample_7 = np.random.choice(['Viet Nam', 'Britain', 'France', 'Russia', 'Singapore'], 17)\n",
        "print(sample_7)"
      ]
    },
    {
      "cell_type": "markdown",
      "metadata": {
        "id": "Qy0FgaJ_nTF2"
      },
      "source": [
        "4. Sinh mẫu ngẫu nhiên ở câu 3 nhưng không theo phân phối chuẩn mà theo 1 vector đặc tả giá trị xác suất do bạn chọn"
      ]
    },
    {
      "cell_type": "code",
      "execution_count": 7,
      "metadata": {
        "id": "fe5RSmA6nTF2",
        "outputId": "92b12f4c-b211-46b7-acad-8fa8cec139c3",
        "colab": {
          "base_uri": "https://localhost:8080/"
        }
      },
      "outputs": [
        {
          "output_type": "stream",
          "name": "stdout",
          "text": [
            "['Britain' 'Viet Nam' 'Britain' 'France' 'Viet Nam' 'France' 'France'\n",
            " 'France' 'France' 'Viet Nam' 'Britain' 'Viet Nam' 'Britain' 'Viet Nam'\n",
            " 'France' 'Viet Nam' 'Britain' 'France' 'France' 'France' 'France']\n"
          ]
        }
      ],
      "source": [
        "#Code\n",
        "sample_8 = np.random.choice(['Viet Nam', 'Britain', 'France'], 21)\n",
        "print(sample_8)"
      ]
    },
    {
      "cell_type": "markdown",
      "metadata": {
        "id": "u168_kEsnTF3"
      },
      "source": [
        "Sử dụng thư việc scipy.stats để sinh mẫu ngẫu nhiên\n",
        "\n",
        "1. Sinh mẫu ngẫu nhiên theo phân phối chuẩn với mean = 12.7, std = 2.6 và size = 30. In kết quả ra màn hình"
      ]
    },
    {
      "cell_type": "code",
      "execution_count": 8,
      "metadata": {
        "id": "HZ6EKbbfnTF3",
        "outputId": "bdce3e2f-0a08-4e8f-ef60-5449dd431cd5",
        "colab": {
          "base_uri": "https://localhost:8080/"
        }
      },
      "outputs": [
        {
          "output_type": "stream",
          "name": "stdout",
          "text": [
            "[12.84747252  7.88357014 11.56600274  9.91523353 15.58508846 11.02838647\n",
            " 16.45291412  6.3472522  12.56852572 14.28072465  9.16288801 10.2070113\n",
            " 16.49621002 10.69587714 11.85090674 12.23595594 14.13725944  8.93333769\n",
            " 12.06619093 11.95714616 17.37593814 13.64940679 14.17482773 14.00958656\n",
            " 15.881947   10.54637468 15.97720214 14.47730431 15.42995997 15.47101092]\n"
          ]
        }
      ],
      "source": [
        "#Code\n",
        "from scipy import stats\n",
        "\n",
        "#Sinh ngẫu nhiên mẫu theo phân phối chuẩn với mean = 12.7, std = 2.6 và size = 30\n",
        "sample_9 = stats.norm.rvs(loc = 12.7, scale = 2.6, size = 30)\n",
        "print(sample_9)"
      ]
    },
    {
      "cell_type": "markdown",
      "metadata": {
        "id": "upAze1IqnTF4"
      },
      "source": [
        "2. Hãy sinh một mẫu ngẫu nhiên theo phân phối Poisson"
      ]
    },
    {
      "cell_type": "code",
      "execution_count": 9,
      "metadata": {
        "id": "w2md5VhfnTF4",
        "outputId": "d43867f3-f456-49d0-ab31-1418ef527433",
        "colab": {
          "base_uri": "https://localhost:8080/"
        }
      },
      "outputs": [
        {
          "output_type": "stream",
          "name": "stdout",
          "text": [
            "[48 50 52 56 57 58 57 54 53 55]\n"
          ]
        }
      ],
      "source": [
        "#Code\n",
        "#Sinh ngẫu nhiên dữ liệu theo phân phối Poisson\n",
        "sample_10 = stats.poisson.rvs(loc=16,\n",
        "                              mu=35,\n",
        "                              size=10)\n",
        "print(sample_10)"
      ]
    },
    {
      "cell_type": "code",
      "execution_count": null,
      "metadata": {
        "id": "EGTMfBXKnTF4"
      },
      "outputs": [],
      "source": [
        ""
      ]
    }
  ],
  "metadata": {
    "kernelspec": {
      "display_name": "Python 3",
      "language": "python",
      "name": "python3"
    },
    "language_info": {
      "codemirror_mode": {
        "name": "ipython",
        "version": 3
      },
      "file_extension": ".py",
      "mimetype": "text/x-python",
      "name": "python",
      "nbconvert_exporter": "python",
      "pygments_lexer": "ipython3",
      "version": "3.7.3"
    },
    "colab": {
      "name": "bai-tap-sinh-mau-ngau-nhien.ipynb",
      "provenance": [],
      "include_colab_link": true
    }
  },
  "nbformat": 4,
  "nbformat_minor": 0
}