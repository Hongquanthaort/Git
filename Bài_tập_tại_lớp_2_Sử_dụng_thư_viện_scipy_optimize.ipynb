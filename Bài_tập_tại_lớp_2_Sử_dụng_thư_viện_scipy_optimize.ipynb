{
  "nbformat": 4,
  "nbformat_minor": 0,
  "metadata": {
    "colab": {
      "provenance": [],
      "authorship_tag": "ABX9TyNKg3FLCsWx9fO5X7wbZKF3",
      "include_colab_link": true
    },
    "kernelspec": {
      "name": "python3",
      "display_name": "Python 3"
    },
    "language_info": {
      "name": "python"
    }
  },
  "cells": [
    {
      "cell_type": "markdown",
      "metadata": {
        "id": "view-in-github",
        "colab_type": "text"
      },
      "source": [
        "<a href=\"https://colab.research.google.com/github/Hongquanthaort/Git/blob/main/B%C3%A0i_t%E1%BA%ADp_t%E1%BA%A1i_l%E1%BB%9Bp_2_S%E1%BB%AD_d%E1%BB%A5ng_th%C6%B0_vi%E1%BB%87n_scipy_optimize.ipynb\" target=\"_parent\"><img src=\"https://colab.research.google.com/assets/colab-badge.svg\" alt=\"Open In Colab\"/></a>"
      ]
    },
    {
      "cell_type": "code",
      "source": [
        "import os\n",
        "import numpy as np\n",
        "from sklearn.preprocessing import MinMaxScaler"
      ],
      "metadata": {
        "id": "w3dFG09pVvJe"
      },
      "execution_count": null,
      "outputs": []
    },
    {
      "cell_type": "code",
      "source": [
        "D = np.loadtxt(os.path.join(\"D:/tailieuhoc\", \"ex1data2.txt\"),\n",
        "delimiter=\",\")\n",
        "print('Kích thước của tập dữ liệu: ', D.shape)\n",
        "print('Giá trị của tập dữ liệu: ')\n",
        "print(D)\n",
        "print('Thực hiện MinMaxScaler')\n",
        "#Khởi tạo bộ điều chỉnh dữ liệu\n",
        "scaler = MinMaxScaler()\n",
        "#Phải thực hiện thao tác fit(data) trước khi điều chỉnh dữ liệu\n",
        "scaler.fit(D)\n",
        "#Thực hiện điều chỉnh dữ liệu\n",
        "D = scaler.transform(D)\n",
        "print('Kích thước của tập dữ liệu: ', D.shape)\n",
        "print('Giá trị của tập dữ liệu: ')\n",
        "print(D)\n",
        "print('Lấy ra tập dữ liệu X, y')\n",
        "X, y = D[:,:-1], D[:, -1]\n",
        "print('Kích thước tập X: ', X.shape)\n",
        "print('Kích thước vector y: ', y.shape)"
      ],
      "metadata": {
        "id": "iCB0GaSQRUHe"
      },
      "execution_count": null,
      "outputs": []
    }
  ]
}