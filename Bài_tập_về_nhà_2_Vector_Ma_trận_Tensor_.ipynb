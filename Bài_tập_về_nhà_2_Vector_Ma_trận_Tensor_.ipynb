{
  "nbformat": 4,
  "nbformat_minor": 0,
  "metadata": {
    "colab": {
      "provenance": [],
      "include_colab_link": true
    },
    "kernelspec": {
      "name": "python3",
      "display_name": "Python 3"
    },
    "language_info": {
      "name": "python"
    }
  },
  "cells": [
    {
      "cell_type": "markdown",
      "metadata": {
        "id": "view-in-github",
        "colab_type": "text"
      },
      "source": [
        "<a href=\"https://colab.research.google.com/github/Hongquanthaort/Git/blob/main/B%C3%A0i_t%E1%BA%ADp_v%E1%BB%81_nh%C3%A0_2_Vector_Ma_tr%E1%BA%ADn_Tensor_.ipynb\" target=\"_parent\"><img src=\"https://colab.research.google.com/assets/colab-badge.svg\" alt=\"Open In Colab\"/></a>"
      ]
    },
    {
      "cell_type": "code",
      "source": [
        "import os\n",
        "import numpy as np\n",
        "from matplotlib import pyplot as plt"
      ],
      "metadata": {
        "id": "oVNdJ71ftZp_"
      },
      "execution_count": null,
      "outputs": []
    },
    {
      "cell_type": "markdown",
      "source": [
        "**Các phép toán với vector**"
      ],
      "metadata": {
        "id": "-H16CcxJ9TQq"
      }
    },
    {
      "cell_type": "code",
      "execution_count": null,
      "metadata": {
        "colab": {
          "base_uri": "https://localhost:8080/"
        },
        "id": "AY2S7oOo52vm",
        "outputId": "a65d0dea-bc13-4e0e-bb39-f9195b49902d"
      },
      "outputs": [
        {
          "output_type": "stream",
          "name": "stdout",
          "text": [
            "[6 5 5 5]\n",
            "1\n",
            "(4,)\n"
          ]
        }
      ],
      "source": [
        "x = np.array([1,2,3,4]) \n",
        "y = np.array([5,3,2,1]) \n",
        "z = x + y \n",
        "print(z) \n",
        "print(z.ndim) \n",
        "print(z.shape)"
      ]
    },
    {
      "cell_type": "code",
      "source": [
        "x = np.array([1,2,3,4]) \n",
        "a = 15 \n",
        "z = a*x \n",
        "print(z) \n",
        "print(z.ndim) \n",
        "print(z.shape)"
      ],
      "metadata": {
        "colab": {
          "base_uri": "https://localhost:8080/"
        },
        "id": "CmuKDu412FaF",
        "outputId": "cdadc73e-7636-41ae-bfcc-ff289e9e8544"
      },
      "execution_count": null,
      "outputs": [
        {
          "output_type": "stream",
          "name": "stdout",
          "text": [
            "[15 30 45 60]\n",
            "1\n",
            "(4,)\n"
          ]
        }
      ]
    },
    {
      "cell_type": "code",
      "source": [
        "x = np.array([1,2,3,4]) \n",
        "y = np.array([5,3,2,1]) \n",
        "z = np.dot(x,y) #hoặc z = x.dot(y) \n",
        "print(z) \n",
        "print(z.ndim) \n",
        "print(z.shape)"
      ],
      "metadata": {
        "colab": {
          "base_uri": "https://localhost:8080/"
        },
        "id": "iFhGnUIn4KjJ",
        "outputId": "de2622e5-970a-4b6a-ad8b-9e03b2e2c7be"
      },
      "execution_count": null,
      "outputs": [
        {
          "output_type": "stream",
          "name": "stdout",
          "text": [
            "21\n",
            "0\n",
            "()\n"
          ]
        }
      ]
    },
    {
      "cell_type": "code",
      "source": [
        "x = np.array([1,2,3]) \n",
        "y = np.array([3,2,1]) \n",
        "z = np.cross(x, y) \n",
        "print(z) \n",
        "print(z.ndim) \n",
        "print(z.shape)"
      ],
      "metadata": {
        "colab": {
          "base_uri": "https://localhost:8080/"
        },
        "id": "AmoPMKA45LoK",
        "outputId": "a7e9f517-6180-4fbb-c9fd-2c075f77eee0"
      },
      "execution_count": null,
      "outputs": [
        {
          "output_type": "stream",
          "name": "stdout",
          "text": [
            "[-4  8 -4]\n",
            "1\n",
            "(3,)\n"
          ]
        }
      ]
    },
    {
      "cell_type": "code",
      "source": [
        "x = np.array([1,2,3,4]) \n",
        "y = np.array([5,3,2,1]) \n",
        "z = x*y #hoặc z = np.multiply(x, y) \n",
        "print(z) \n",
        "print(z.ndim) \n",
        "print(z.shape)"
      ],
      "metadata": {
        "colab": {
          "base_uri": "https://localhost:8080/"
        },
        "id": "-zORWZVq5Uf8",
        "outputId": "bf8c8b56-64d0-4826-99dc-1b9b352e3d3a"
      },
      "execution_count": null,
      "outputs": [
        {
          "output_type": "stream",
          "name": "stdout",
          "text": [
            "[5 6 6 4]\n",
            "1\n",
            "(4,)\n"
          ]
        }
      ]
    },
    {
      "cell_type": "markdown",
      "source": [
        "**Các phép toán với ma trận**"
      ],
      "metadata": {
        "id": "gw04Vhbj5Ve-"
      }
    },
    {
      "cell_type": "code",
      "source": [
        "X = np.array([1,2,3,4,5,6]).reshape((2,3)) \n",
        "Y = np.array([6,5,4,3,2,1]).reshape((2,3)) \n",
        "Z = X + Y \n",
        "print(Z) \n",
        "print(Z.ndim, '; ', Z.shape)"
      ],
      "metadata": {
        "colab": {
          "base_uri": "https://localhost:8080/"
        },
        "id": "hxcXrZoe6EOR",
        "outputId": "0c7fff43-2612-4ed9-daa0-ab8b46d3dd86"
      },
      "execution_count": null,
      "outputs": [
        {
          "output_type": "stream",
          "name": "stdout",
          "text": [
            "[[7 7 7]\n",
            " [7 7 7]]\n",
            "2 ;  (2, 3)\n"
          ]
        }
      ]
    },
    {
      "cell_type": "code",
      "source": [
        "X = np.array([1,2,3,4,5,6]).reshape((2,3)) \n",
        "a = 2 \n",
        "Z = a*X \n",
        "print(Z) \n",
        "print(Z.ndim, '; ', Z.shape)"
      ],
      "metadata": {
        "colab": {
          "base_uri": "https://localhost:8080/"
        },
        "id": "s5hkcAA46IXy",
        "outputId": "74e00c90-0dcc-4a08-b1af-8a41b65e3eb3"
      },
      "execution_count": null,
      "outputs": [
        {
          "output_type": "stream",
          "name": "stdout",
          "text": [
            "[[ 2  4  6]\n",
            " [ 8 10 12]]\n",
            "2 ;  (2, 3)\n"
          ]
        }
      ]
    },
    {
      "cell_type": "code",
      "source": [
        "X = np.array([1,2,3,4,5,6]).reshape((2,3)) \n",
        "Z = X.T \n",
        "print(Z) \n",
        "print(Z.ndim, '; ', Z.shape)"
      ],
      "metadata": {
        "colab": {
          "base_uri": "https://localhost:8080/"
        },
        "id": "Xuu59RNL6L3w",
        "outputId": "b2d3e065-da80-49e4-80e8-71f493ee4abd"
      },
      "execution_count": null,
      "outputs": [
        {
          "output_type": "stream",
          "name": "stdout",
          "text": [
            "[[1 4]\n",
            " [2 5]\n",
            " [3 6]]\n",
            "2 ;  (3, 2)\n"
          ]
        }
      ]
    },
    {
      "cell_type": "code",
      "source": [
        "X = np.array([1,2,3,4,5,6]).reshape((2,3)) \n",
        "Y = np.array([6,5,4,3,2,1]).reshape((3,2)) \n",
        "Z = np.dot(X,Y) \n",
        "print(Z) \n",
        "print(Z.ndim, '; ', Z.shape)"
      ],
      "metadata": {
        "colab": {
          "base_uri": "https://localhost:8080/"
        },
        "id": "_Yt1QrUW6Soo",
        "outputId": "3da499ed-345f-430c-a96e-25a1d4725bbd"
      },
      "execution_count": null,
      "outputs": [
        {
          "output_type": "stream",
          "name": "stdout",
          "text": [
            "[[20 14]\n",
            " [56 41]]\n",
            "2 ;  (2, 2)\n"
          ]
        }
      ]
    },
    {
      "cell_type": "code",
      "source": [
        "X = np.array([1,2,3,4,5,6]).reshape((2,3)) \n",
        "Y = np.array([6,5,4,3,2,1]).reshape((2,3)) \n",
        "Z = np.multiply(X,Y) #hoặc Z = X*Y \n",
        "print(Z) \n",
        "print(Z.ndim, '; ', Z.shape)"
      ],
      "metadata": {
        "colab": {
          "base_uri": "https://localhost:8080/"
        },
        "id": "JPt0DSRS6XLU",
        "outputId": "c4368ed6-8aed-404a-c194-3e988665ae88"
      },
      "execution_count": null,
      "outputs": [
        {
          "output_type": "stream",
          "name": "stdout",
          "text": [
            "[[ 6 10 12]\n",
            " [12 10  6]]\n",
            "2 ;  (2, 3)\n"
          ]
        }
      ]
    },
    {
      "cell_type": "code",
      "source": [
        "x = np.array([1,2,3,4,5]).reshape((5,1)) \n",
        "print(x) \n",
        "print(x.ndim, '; ', x.shape)"
      ],
      "metadata": {
        "colab": {
          "base_uri": "https://localhost:8080/"
        },
        "id": "reu-OTjI6ePL",
        "outputId": "ce528dc6-2b66-43c8-dfa9-85b88e07bb06"
      },
      "execution_count": null,
      "outputs": [
        {
          "output_type": "stream",
          "name": "stdout",
          "text": [
            "[[1]\n",
            " [2]\n",
            " [3]\n",
            " [4]\n",
            " [5]]\n",
            "2 ;  (5, 1)\n"
          ]
        }
      ]
    },
    {
      "cell_type": "code",
      "source": [
        "X = np.array([1,2,3,4,5,6]).reshape((2,3)) \n",
        "m = X.shape[0] \n",
        "n = X.shape[1] \n",
        "print('m = ', m, '; n = ', n) \n",
        "x = X[0, :] \n",
        "print(x) \n",
        "print(x.ndim, '; ', x.shape) \n",
        "x = x.reshape((1,n)) \n",
        "print(x) \n",
        "print(x.ndim, '; ', x.shape)"
      ],
      "metadata": {
        "colab": {
          "base_uri": "https://localhost:8080/"
        },
        "id": "8XoU0N9n6iJM",
        "outputId": "4ab7d808-26e8-418d-e360-1c4ad52c90d2"
      },
      "execution_count": null,
      "outputs": [
        {
          "output_type": "stream",
          "name": "stdout",
          "text": [
            "m =  2 ; n =  3\n",
            "[1 2 3]\n",
            "1 ;  (3,)\n",
            "[[1 2 3]]\n",
            "2 ;  (1, 3)\n"
          ]
        }
      ]
    },
    {
      "cell_type": "code",
      "source": [
        "X = np.array([1,2,3,4,5,6]).reshape((2,3)) \n",
        "m = X.shape[0] \n",
        "n = X.shape[1] \n",
        "print('m = ', m, '; n = ', n) \n",
        "x = X[:,1] \n",
        "print(x) \n",
        "print(x.ndim, '; ', x.shape) \n",
        "x = x.reshape((m,1)) \n",
        "print(x) \n",
        "print(x.ndim, '; ', x.shape)"
      ],
      "metadata": {
        "colab": {
          "base_uri": "https://localhost:8080/"
        },
        "id": "XrjRJgba6lV5",
        "outputId": "8e539268-b071-46bb-bb05-36f429ece3cf"
      },
      "execution_count": null,
      "outputs": [
        {
          "output_type": "stream",
          "name": "stdout",
          "text": [
            "m =  2 ; n =  3\n",
            "[2 5]\n",
            "1 ;  (2,)\n",
            "[[2]\n",
            " [5]]\n",
            "2 ;  (2, 1)\n"
          ]
        }
      ]
    },
    {
      "cell_type": "code",
      "source": [
        "X =  np.array([1,2,3,4,5,6,7,8,9,10,11,12]).reshape((4,3)) \n",
        "x = np.array([1,1,1,1]).reshape((4,1)) \n",
        "X = np.column_stack([x,X]) \n",
        "print(X) \n",
        "print(X.ndim, '; ', X.shape)"
      ],
      "metadata": {
        "colab": {
          "base_uri": "https://localhost:8080/"
        },
        "id": "dmvl0L0p6oJo",
        "outputId": "0e57b5ff-4082-4d6f-d6b8-f1fcb1da3df4"
      },
      "execution_count": null,
      "outputs": [
        {
          "output_type": "stream",
          "name": "stdout",
          "text": [
            "[[ 1  1  2  3]\n",
            " [ 1  4  5  6]\n",
            " [ 1  7  8  9]\n",
            " [ 1 10 11 12]]\n",
            "2 ;  (4, 4)\n"
          ]
        }
      ]
    },
    {
      "cell_type": "code",
      "source": [
        "data = np.array([[10,22,13,1], \n",
        "    [9,6,5,0], \n",
        "    [8,12,4,1], \n",
        "    [6,5,7,0]]) \n",
        "X = data[:,:-1] \n",
        "y = data[:,-1].reshape((data.shape[0], 1)) \n",
        "print(X) \n",
        "print(X.ndim, '; ', X.shape) \n",
        "print(y) \n",
        "print(y.ndim, '; ', y.shape)"
      ],
      "metadata": {
        "colab": {
          "base_uri": "https://localhost:8080/"
        },
        "id": "3NJQgsuG6ri0",
        "outputId": "3965d64f-28e1-41dc-8fea-89d7372f602c"
      },
      "execution_count": null,
      "outputs": [
        {
          "output_type": "stream",
          "name": "stdout",
          "text": [
            "[[10 22 13]\n",
            " [ 9  6  5]\n",
            " [ 8 12  4]\n",
            " [ 6  5  7]]\n",
            "2 ;  (4, 3)\n",
            "[[1]\n",
            " [0]\n",
            " [1]\n",
            " [0]]\n",
            "2 ;  (4, 1)\n"
          ]
        }
      ]
    },
    {
      "cell_type": "markdown",
      "source": [
        "**Các phép toán với tensor hạng cao**"
      ],
      "metadata": {
        "id": "ZWuMrydS6rFI"
      }
    },
    {
      "cell_type": "code",
      "source": [
        "m=2 \n",
        "n=2 \n",
        "k=3 \n",
        "T = np.random.randint(low=-5,  \n",
        "high=5,size=m*n*k).reshape(k,m,n) \n",
        "print(T)"
      ],
      "metadata": {
        "colab": {
          "base_uri": "https://localhost:8080/"
        },
        "id": "w64jgGSb8OW2",
        "outputId": "cbef9b43-ab8f-4364-822b-5c740eee9c23"
      },
      "execution_count": null,
      "outputs": [
        {
          "output_type": "stream",
          "name": "stdout",
          "text": [
            "[[[ 0  0]\n",
            "  [ 1  3]]\n",
            "\n",
            " [[-3 -1]\n",
            "  [-2 -2]]\n",
            "\n",
            " [[-2  2]\n",
            "  [-3  3]]]\n"
          ]
        }
      ]
    },
    {
      "cell_type": "code",
      "source": [
        "m=2 \n",
        "n=2 \n",
        "k=3 \n",
        "t1 = np.random.randint(low=-5,  \n",
        "high=5,size=m*n*k).reshape(k,m,n) \n",
        "t2 = np.random.randint(low=-5,  \n",
        "high=5,size=m*n*k).reshape(k,m,n) \n",
        "t3 = np.random.randint(low=-5,  \n",
        "high=5,size=m*n*k).reshape(k,m,n) \n",
        "t4 = np.random.randint(low=-5,  \n",
        "high=5,size=m*n*k).reshape(k,m,n)\n",
        "\n",
        "T = np.stack((t1, t2, t3, t4), axis=-1) \n",
        "print(T.shape) \n",
        "x = T[:,:,:,0] \n",
        "print(x.shape) \n",
        "m1 = x[0,:,:] \n",
        "print(m1) \n",
        "print(m1.shape)"
      ],
      "metadata": {
        "colab": {
          "base_uri": "https://localhost:8080/"
        },
        "id": "35qUfi2A8TFN",
        "outputId": "48a665e4-9d4a-4119-bdc1-d37c68239fe0"
      },
      "execution_count": null,
      "outputs": [
        {
          "output_type": "stream",
          "name": "stdout",
          "text": [
            "(3, 2, 2, 4)\n",
            "(3, 2, 2)\n",
            "[[ 4  1]\n",
            " [ 2 -5]]\n",
            "(2, 2)\n"
          ]
        }
      ]
    }
  ]
}