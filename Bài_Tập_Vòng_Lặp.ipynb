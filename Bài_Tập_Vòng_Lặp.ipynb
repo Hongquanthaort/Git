{
  "nbformat": 4,
  "nbformat_minor": 0,
  "metadata": {
    "colab": {
      "name": "Bài Tập Vòng Lặp.ipynb",
      "provenance": [],
      "authorship_tag": "ABX9TyNQeXJ8lwzUF0BVmu2koWDF",
      "include_colab_link": true
    },
    "kernelspec": {
      "name": "python3",
      "display_name": "Python 3"
    },
    "language_info": {
      "name": "python"
    }
  },
  "cells": [
    {
      "cell_type": "markdown",
      "metadata": {
        "id": "view-in-github",
        "colab_type": "text"
      },
      "source": [
        "<a href=\"https://colab.research.google.com/github/Hongquanthaort/Git/blob/main/B%C3%A0i_T%E1%BA%ADp_V%C3%B2ng_L%E1%BA%B7p.ipynb\" target=\"_parent\"><img src=\"https://colab.research.google.com/assets/colab-badge.svg\" alt=\"Open In Colab\"/></a>"
      ]
    },
    {
      "cell_type": "markdown",
      "metadata": {
        "id": "SexO0kBR05TD"
      },
      "source": [
        "Câu 1\n"
      ]
    },
    {
      "cell_type": "code",
      "metadata": {
        "colab": {
          "base_uri": "https://localhost:8080/"
        },
        "id": "qhHLpj5608W2",
        "outputId": "51dc0093-b29b-4c28-ce4c-906fc41e8e65"
      },
      "source": [
        "a=[]\n",
        "for x in range(10, 200):\n",
        "    if (x%7==0) and (x%5==0):\n",
        "        a.append(str(x))\n",
        "print (','.join(a))"
      ],
      "execution_count": null,
      "outputs": [
        {
          "output_type": "stream",
          "name": "stdout",
          "text": [
            "35,70,105,140,175\n"
          ]
        }
      ]
    },
    {
      "cell_type": "markdown",
      "metadata": {
        "id": "77hbJBtu2EnH"
      },
      "source": [
        "câu 2\n"
      ]
    },
    {
      "cell_type": "code",
      "metadata": {
        "colab": {
          "base_uri": "https://localhost:8080/"
        },
        "id": "MuwqOrMf2Fip",
        "outputId": "4be9427f-3a57-4175-ed31-e0e1a3fd0556"
      },
      "source": [
        "n=int(input(\"Nhập giá trị n: \"))\n",
        "if n > 0:\n",
        "    giaithua=1\n",
        "    for i in range(1,n+1):\n",
        "        giaithua=giaithua*i\n",
        "    print(n,\"giai thừa bằng:\",giaithua)\n",
        "else:\n",
        "    print(\"Vui lòng nhập n > 0\")\n"
      ],
      "execution_count": null,
      "outputs": [
        {
          "output_type": "stream",
          "name": "stdout",
          "text": [
            "Nhập giá trị n: 3\n",
            "3 giai thừa bằng: 6\n"
          ]
        }
      ]
    },
    {
      "cell_type": "markdown",
      "metadata": {
        "id": "jHtvyvdp3tOZ"
      },
      "source": [
        "Câu 3\n"
      ]
    },
    {
      "cell_type": "code",
      "metadata": {
        "colab": {
          "base_uri": "https://localhost:8080/"
        },
        "id": "GEPafAdO3udz",
        "outputId": "05451191-a1ba-4e02-9623-6c840858f584"
      },
      "source": [
        "n = int(input(\"Nhập số n Fibonacci: \"))\n",
        "a = 0\n",
        "b = 1\n",
        "sum = 0\n",
        "count = 1\n",
        "print(\"Dãy Fibonacci : \", end = \" \")\n",
        "while(count <= n):\n",
        "  print(sum, end = \" \")\n",
        "  count += 1\n",
        "  a = b\n",
        "  b = sum\n",
        "  sum = a + b"
      ],
      "execution_count": null,
      "outputs": [
        {
          "output_type": "stream",
          "name": "stdout",
          "text": [
            "Nhập số n Fibonacci: 10\n",
            "Dãy Fibonacci :  0 1 1 2 3 5 8 13 21 34 "
          ]
        }
      ]
    },
    {
      "cell_type": "markdown",
      "metadata": {
        "id": "Ee-sjtNk4zSY"
      },
      "source": [
        "Câu 4"
      ]
    },
    {
      "cell_type": "code",
      "metadata": {
        "colab": {
          "base_uri": "https://localhost:8080/"
        },
        "id": "DMnW2sF440XE",
        "outputId": "17db3aaa-3cb6-463c-a435-9f2872c89193"
      },
      "source": [
        "num4 = int(input(\"Nhập n: \"))\n",
        "print(\"Các số nguyên tố nhỏ hơn\", num4, \"là:\")\n",
        "for i in range(2, num4):\n",
        "   for j in range(2, i):\n",
        "     if (i % j) == 0:\n",
        "       break\n",
        "   else: \n",
        "     print(i)"
      ],
      "execution_count": 1,
      "outputs": [
        {
          "output_type": "stream",
          "name": "stdout",
          "text": [
            "Nhập n: 50\n",
            "Các số nguyên tố nhỏ hơn 50 là:\n",
            "2\n",
            "3\n",
            "5\n",
            "7\n",
            "11\n",
            "13\n",
            "17\n",
            "19\n",
            "23\n",
            "29\n",
            "31\n",
            "37\n",
            "41\n",
            "43\n",
            "47\n"
          ]
        }
      ]
    },
    {
      "cell_type": "markdown",
      "metadata": {
        "id": "TDBKdQxE_0P3"
      },
      "source": [
        "Câu 5"
      ]
    },
    {
      "cell_type": "code",
      "metadata": {
        "colab": {
          "base_uri": "https://localhost:8080/"
        },
        "id": "lC72NkXw_15X",
        "outputId": "43ec1d16-0057-46bc-a8c0-72d7179881e0"
      },
      "source": [
        "n = int(input(\"nhập n: \"))\n",
        "dem = 0\n",
        "i = 2\n",
        "while dem < n:\n",
        "  d = 0 \n",
        "  for y in range(1, i+1):\n",
        "    if i % y == 0:\n",
        "       d = d + 1\n",
        "  if d == 2:\n",
        "    print(i, end = \" \")\n",
        "    dem = dem + 1\n",
        "  i = i + 1"
      ],
      "execution_count": 2,
      "outputs": [
        {
          "output_type": "stream",
          "name": "stdout",
          "text": [
            "nhập n: 10\n",
            "2 3 5 7 11 13 17 19 23 29 "
          ]
        }
      ]
    },
    {
      "cell_type": "markdown",
      "metadata": {
        "id": "VBu4_8II50qR"
      },
      "source": [
        "Câu 6\n"
      ]
    },
    {
      "cell_type": "code",
      "metadata": {
        "id": "LGh-VVI051bV"
      },
      "source": [
        "\n",
        "lower = 10000\n",
        "upper = 100000\n",
        "print(\"Prime numbers between\", lower, \"and\", upper, \"are:\")\n",
        "for num in range(lower, upper + 1):\n",
        "   if num > 1:\n",
        "       for i in range(2, num):\n",
        "           if (num % i) == 0:\n",
        "               break\n",
        "       else:\n",
        "           print(num)\n"
      ],
      "execution_count": null,
      "outputs": []
    },
    {
      "cell_type": "markdown",
      "metadata": {
        "id": "R5Zqdy10_4UB"
      },
      "source": [
        "Câu 7"
      ]
    },
    {
      "cell_type": "code",
      "metadata": {
        "id": "36M6hQpy_5Ge"
      },
      "source": [
        "n = int(input(\"Nhập n = \"));\n",
        "total = 0;\n",
        "while (n > 0):\n",
        "  total = total + n % 10;\n",
        "  n = int(n // 10);\n",
        "print(\"tổng các chữ số là: \", total)"
      ],
      "execution_count": null,
      "outputs": []
    },
    {
      "cell_type": "markdown",
      "metadata": {
        "id": "0LkX7H64Pjsy"
      },
      "source": [
        "Câu 8"
      ]
    },
    {
      "cell_type": "code",
      "metadata": {
        "id": "6YUDyTjzPk2V"
      },
      "source": [
        "num8 = int(input(\"Nhập: \"));\n",
        "list8 = []\n",
        "aa, bb = 0, 1\n",
        "print(\"Fibonacci series:\")\n",
        "while num8 > aa:\n",
        "    print(aa)\n",
        "    res = aa + bb\n",
        "    aa = bb\n",
        "    bb = res\n",
        "    list8.append(res)\n",
        "\n",
        "print(\"Fibonacci nhỏ hơn\", num8, \"là số nguyên tố là\")\n",
        "for i in list8:\n",
        "  if (i > 1) and (i < num8):\n",
        "    for j in range(2, i):\n",
        "      if (i % j) == 0:\n",
        "        break\n",
        "    else:\n",
        "        print(i, end=\" \")"
      ],
      "execution_count": null,
      "outputs": []
    }
  ]
}