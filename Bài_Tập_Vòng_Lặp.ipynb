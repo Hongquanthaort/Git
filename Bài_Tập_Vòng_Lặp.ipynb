{
  "nbformat": 4,
  "nbformat_minor": 0,
  "metadata": {
    "colab": {
      "name": "Bài Tập Vòng Lặp.ipynb",
      "provenance": [],
      "authorship_tag": "ABX9TyNLvz/Q6q719j1MhwdQ+0dJ",
      "include_colab_link": true
    },
    "kernelspec": {
      "name": "python3",
      "display_name": "Python 3"
    },
    "language_info": {
      "name": "python"
    }
  },
  "cells": [
    {
      "cell_type": "markdown",
      "metadata": {
        "id": "view-in-github",
        "colab_type": "text"
      },
      "source": [
        "<a href=\"https://colab.research.google.com/github/Hongquanthaort/Git/blob/main/B%C3%A0i_T%E1%BA%ADp_V%C3%B2ng_L%E1%BA%B7p.ipynb\" target=\"_parent\"><img src=\"https://colab.research.google.com/assets/colab-badge.svg\" alt=\"Open In Colab\"/></a>"
      ]
    },
    {
      "cell_type": "markdown",
      "metadata": {
        "id": "SexO0kBR05TD"
      },
      "source": [
        "Câu 1\n"
      ]
    },
    {
      "cell_type": "code",
      "metadata": {
        "colab": {
          "base_uri": "https://localhost:8080/"
        },
        "id": "qhHLpj5608W2",
        "outputId": "51dc0093-b29b-4c28-ce4c-906fc41e8e65"
      },
      "source": [
        "a=[]\n",
        "for x in range(10, 200):\n",
        "    if (x%7==0) and (x%5==0):\n",
        "        a.append(str(x))\n",
        "print (','.join(a))"
      ],
      "execution_count": 2,
      "outputs": [
        {
          "output_type": "stream",
          "name": "stdout",
          "text": [
            "35,70,105,140,175\n"
          ]
        }
      ]
    },
    {
      "cell_type": "markdown",
      "metadata": {
        "id": "77hbJBtu2EnH"
      },
      "source": [
        "câu 2\n"
      ]
    },
    {
      "cell_type": "code",
      "metadata": {
        "colab": {
          "base_uri": "https://localhost:8080/"
        },
        "id": "MuwqOrMf2Fip",
        "outputId": "4be9427f-3a57-4175-ed31-e0e1a3fd0556"
      },
      "source": [
        "n=int(input(\"Nhập giá trị n: \"))\n",
        "if n > 0:\n",
        "    giaithua=1\n",
        "    for i in range(1,n+1):\n",
        "        giaithua=giaithua*i\n",
        "    print(n,\"giai thừa bằng:\",giaithua)\n",
        "else:\n",
        "    print(\"Vui lòng nhập n > 0\")\n"
      ],
      "execution_count": 7,
      "outputs": [
        {
          "output_type": "stream",
          "name": "stdout",
          "text": [
            "Nhập giá trị n: 3\n",
            "3 giai thừa bằng: 6\n"
          ]
        }
      ]
    },
    {
      "cell_type": "markdown",
      "metadata": {
        "id": "jHtvyvdp3tOZ"
      },
      "source": [
        "Câu 3\n"
      ]
    },
    {
      "cell_type": "code",
      "metadata": {
        "colab": {
          "base_uri": "https://localhost:8080/"
        },
        "id": "GEPafAdO3udz",
        "outputId": "05451191-a1ba-4e02-9623-6c840858f584"
      },
      "source": [
        "n = int(input(\"Nhập số n Fibonacci: \"))\n",
        "a = 0\n",
        "b = 1\n",
        "sum = 0\n",
        "count = 1\n",
        "print(\"Dãy Fibonacci : \", end = \" \")\n",
        "while(count <= n):\n",
        "  print(sum, end = \" \")\n",
        "  count += 1\n",
        "  a = b\n",
        "  b = sum\n",
        "  sum = a + b"
      ],
      "execution_count": 9,
      "outputs": [
        {
          "output_type": "stream",
          "name": "stdout",
          "text": [
            "Nhập số n Fibonacci: 10\n",
            "Dãy Fibonacci :  0 1 1 2 3 5 8 13 21 34 "
          ]
        }
      ]
    },
    {
      "cell_type": "markdown",
      "metadata": {
        "id": "Ee-sjtNk4zSY"
      },
      "source": [
        "Câu 4"
      ]
    },
    {
      "cell_type": "code",
      "metadata": {
        "colab": {
          "base_uri": "https://localhost:8080/"
        },
        "id": "DMnW2sF440XE",
        "outputId": "cc92e8e2-ec38-4860-b1f2-58c9f48ae91e"
      },
      "source": [
        "\n",
        "def primenumber(a):\n",
        "  n = 0\n",
        "  i = 2\n",
        "  for i in range(2,a//2+1):\n",
        "    if a % i == 0:\n",
        "      n = n + 1\n",
        "      break\n",
        "  if n == 0:\n",
        "    print(a, end=\" \")\n",
        "\n",
        "n = int(input(\"Nhập số n: \"))\n",
        "print(\"Số nguyên tố nhỏ hơn\", n, \"là:\")\n",
        "for i in range(2, n+1):\n",
        "  primenumber(i)"
      ],
      "execution_count": 11,
      "outputs": [
        {
          "output_type": "stream",
          "name": "stdout",
          "text": [
            "Nhập số n: 50\n",
            "Số nguyên tố nhỏ hơn 50 là:\n",
            "2 3 5 7 11 13 17 19 23 29 31 37 41 43 47 "
          ]
        }
      ]
    },
    {
      "cell_type": "markdown",
      "metadata": {
        "id": "TDBKdQxE_0P3"
      },
      "source": [
        "Câu 5"
      ]
    },
    {
      "cell_type": "code",
      "metadata": {
        "colab": {
          "base_uri": "https://localhost:8080/"
        },
        "id": "lC72NkXw_15X",
        "outputId": "02229ba3-6f1a-4b3e-9dd6-f6be199550db"
      },
      "source": [
        "import math\n",
        " \n",
        "def isPrimeNumber(n):\n",
        "    if (n < 2):\n",
        "        return False;\n",
        " \n",
        "    squareRoot = int(math.sqrt(n));\n",
        "    for i in range(2, squareRoot + 1):\n",
        "        if (n % i == 0):\n",
        "            return False;\n",
        "    return True;\n",
        " \n",
        "n = int(input(\"Nhập số nguyên dương n = \"));\n",
        "print (n, \"Số nguyên tố đầu tiên là:\");\n",
        "dem = 0; \n",
        "i = 2; \n",
        "sb = \"\";\n",
        "while (dem < n):\n",
        "    if (isPrimeNumber(i)):\n",
        "        sb = sb + str(i) + \" \";\n",
        "        dem = dem + 1;\n",
        "    i = i + 1;\n",
        "print(sb);"
      ],
      "execution_count": 37,
      "outputs": [
        {
          "output_type": "stream",
          "name": "stdout",
          "text": [
            "Nhập số nguyên dương n = 12\n",
            "12 Số nguyên tố đầu tiên là:\n",
            "2 3 5 7 11 13 17 19 23 29 31 37 \n"
          ]
        }
      ]
    },
    {
      "cell_type": "markdown",
      "metadata": {
        "id": "VBu4_8II50qR"
      },
      "source": [
        "Câu 6\n"
      ]
    },
    {
      "cell_type": "code",
      "metadata": {
        "id": "LGh-VVI051bV"
      },
      "source": [
        "\n",
        "lower = 10000\n",
        "upper = 100000\n",
        "\n",
        "print(\"Prime numbers between\", lower, \"and\", upper, \"are:\")\n",
        "\n",
        "for num in range(lower, upper + 1):\n",
        "   if num > 1:\n",
        "       for i in range(2, num):\n",
        "           if (num % i) == 0:\n",
        "               break\n",
        "       else:\n",
        "           print(num)\n"
      ],
      "execution_count": 31,
      "outputs": []
    },
    {
      "cell_type": "markdown",
      "metadata": {
        "id": "R5Zqdy10_4UB"
      },
      "source": [
        "Câu 7"
      ]
    },
    {
      "cell_type": "code",
      "metadata": {
        "id": "36M6hQpy_5Ge"
      },
      "source": [
        "def tong(n):\n",
        "    s = 0;\n",
        "    while (n > 0):\n",
        "        s = s + n % 10\n",
        "        n = int(n / 10)\n",
        "    return s;\n",
        "n = int(input(\"Nhập số nguyên dương n = \"))\n",
        "print(\"Tổng các chữ số của\", n , \"là\", tong(n))"
      ],
      "execution_count": null,
      "outputs": []
    },
    {
      "cell_type": "markdown",
      "metadata": {
        "id": "wmlmJrZxAEDx"
      },
      "source": [
        "Câu 8"
      ]
    },
    {
      "cell_type": "code",
      "metadata": {
        "colab": {
          "base_uri": "https://localhost:8080/"
        },
        "id": "KXjnFB8xAE2f",
        "outputId": "a2ab637c-31ce-4e39-e23c-97f9e811ca52"
      },
      "source": [
        "import math\n",
        "\n",
        "def fibonacci(n):\n",
        "    if (n < 0):\n",
        "        return -1;\n",
        "    elif (n == 0 or n == 1):\n",
        "        return n;\n",
        "    else:\n",
        "        return fibonacci(n - 1) + fibonacci(n - 2);\n",
        "\n",
        "def num(n):\n",
        "    if (n < 2):\n",
        "        return False;\n",
        " \n",
        "    squareRoot = int(math.sqrt(n));\n",
        "    for i in range(2, squareRoot + 1):\n",
        "        if (n % i == 0):\n",
        "            return False;\n",
        "    return True;\n",
        "\n",
        "n = int(input(\"Nhập số nguyên dương n = \"));\n",
        "print (\"Tất cả các số fibonacci nhỏ hơn\", n, \"và nguyên tố:\");\n",
        "i = 0;\n",
        "fin = fibonacci(i);\n",
        "while(fin < n):\n",
        "    fin = fibonacci(i);\n",
        "    if (isPrimeNumber(fin)):\n",
        "        print(fin)\n",
        "    i = i + 1;"
      ],
      "execution_count": 36,
      "outputs": [
        {
          "output_type": "stream",
          "name": "stdout",
          "text": [
            "Nhập số nguyên dương n = 10\n",
            "Tất cả các số fibonacci nhỏ hơn 10 và nguyên tố:\n",
            "2\n",
            "3\n",
            "5\n",
            "13\n"
          ]
        }
      ]
    }
  ]
}