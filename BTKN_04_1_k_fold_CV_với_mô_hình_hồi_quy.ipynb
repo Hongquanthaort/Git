{
  "nbformat": 4,
  "nbformat_minor": 0,
  "metadata": {
    "colab": {
      "provenance": [],
      "authorship_tag": "ABX9TyOGKD7LW3bXlK+VoSVy6vDZ",
      "include_colab_link": true
    },
    "kernelspec": {
      "name": "python3",
      "display_name": "Python 3"
    },
    "language_info": {
      "name": "python"
    }
  },
  "cells": [
    {
      "cell_type": "markdown",
      "metadata": {
        "id": "view-in-github",
        "colab_type": "text"
      },
      "source": [
        "<a href=\"https://colab.research.google.com/github/Hongquanthaort/Git/blob/main/BTKN_04_1_k_fold_CV_v%E1%BB%9Bi_m%C3%B4_h%C3%ACnh_h%E1%BB%93i_quy.ipynb\" target=\"_parent\"><img src=\"https://colab.research.google.com/assets/colab-badge.svg\" alt=\"Open In Colab\"/></a>"
      ]
    },
    {
      "cell_type": "markdown",
      "source": [
        " Hãy viết lại chương trình main() của 2 ví dụ trên bằng cách phân rã các bước thành các  hàm. "
      ],
      "metadata": {
        "id": "Yd8P-oLgAoSD"
      }
    },
    {
      "cell_type": "code",
      "source": [
        "import os\n",
        "import numpy as np\n",
        "from sklearn.preprocessing import StandardScaler\n",
        "from sklearn.model_selection import train_test_split\n",
        "from sklearn.model_selection import KFold\n",
        "from sklearn.metrics import mean_squared_error\n",
        "from sklearn.linear_model import Lasso\n"
      ],
      "metadata": {
        "id": "0dycqM6j-4m6"
      },
      "execution_count": null,
      "outputs": []
    },
    {
      "cell_type": "code",
      "source": [
        "def readData(filename, folder=''):\n",
        "    data = np.loadtxt(os.path.join(folder, filename), delimiter=',')\n",
        "    X = data[:, :-1]\n",
        "    y = data[:, -1].reshape(-1, 1)\n",
        "    one = np.ones((X.shape[0], 1))\n",
        "    X = np.concatenate((one, X), axis=1)\n",
        "    return X, y"
      ],
      "metadata": {
        "id": "9-m6AqGI-6bI"
      },
      "execution_count": null,
      "outputs": []
    },
    {
      "cell_type": "code",
      "source": [
        "def featureScalingSplit(X, y):\n",
        "    X_train, X_test, y_train, y_test = train_test_split(X, y, test_size=0.3, random_state=15)\n",
        "    sc_X = StandardScaler()\n",
        "    sc_y = StandardScaler()\n",
        "    X_train[:, 1:] = sc_X.fit_transform(X_train[:, 1:])\n",
        "    X_test[:, 1:] = sc_X.transform(X_test[:, 1:])\n",
        "    y_train = sc_y.fit_transform(y_train)\n",
        "    y_test = sc_y.transform(y_test)\n",
        "    return X_train, X_test, y_train, y_test"
      ],
      "metadata": {
        "id": "kSoOyxDJ-8iQ"
      },
      "execution_count": null,
      "outputs": []
    },
    {
      "cell_type": "code",
      "source": [
        "def kFoldCrossValiation(X_train, y_train):\n",
        "    kf = KFold(n_splits=10)\n",
        "    step = 0\n",
        "    valitdate_models = {}\n",
        "    for train2_index, val_index in kf.split(X=X_train, y=y_train):\n",
        "        step = step + 1\n",
        "        regressor = Lasso()\n",
        "        print('\\tBước lặp huấn luyện thứ: ', step)\n",
        "        X_train2, X_val = X_train[train2_index], X_train[val_index]\n",
        "        y_train2, y_val = y_train[train2_index], y_train[val_index]\n",
        "        regressor.fit(X_train2, y_train2)\n",
        "        print('\\t\\tĐánh giá mô hình trên tập dữ liệu validation')\n",
        "        y_pred = regressor.predict(X_val)\n",
        "        print('\\t\\t\\tMSE: ', mean_squared_error(y_val, y_pred))\n",
        "        valitdate_models[mean_squared_error(y_val, y_pred)] = regressor\n",
        "    min_error = min(list(valitdate_models.keys()))\n",
        "    return valitdate_models[min_error]"
      ],
      "metadata": {
        "id": "RJLfnw8W--RZ"
      },
      "execution_count": null,
      "outputs": []
    },
    {
      "cell_type": "code",
      "source": [
        "def validateTestSet(X_test, y_test, regressor):\n",
        "    print(\"\\nĐánh giá hiệu năng mô hình trên tập dữ liệu test:\")\n",
        "    y_pred = regressor.predict(X_test)\n",
        "    print(\"\\tMSE: \", mean_squared_error(y_test, y_pred))\n",
        "    return mean_squared_error(y_test, y_pred)\n"
      ],
      "metadata": {
        "id": "jnjZ68Co-_-p"
      },
      "execution_count": null,
      "outputs": []
    },
    {
      "cell_type": "code",
      "source": [
        "def main():\n",
        "    X, y = readData('ex1data2.txt')\n",
        "    X_train, X_test, y_train, y_test = featureScalingSplit(X, y)\n",
        "    regressor = kFoldCrossValiation(X_train, y_train)\n",
        "    validateTestSet(X_test, y_test, regressor)\n",
        "\n",
        "\n",
        "if _name_ == \"_main_\":\n",
        "    main()"
      ],
      "metadata": {
        "id": "oUshVqWV_BmJ"
      },
      "execution_count": null,
      "outputs": []
    },
    {
      "cell_type": "markdown",
      "source": [
        "Hãy áp dụng k-fold cross-validation với các mô hình hồi quy khác như: Lasso hay Ridge.  Gửi mã lệnh chương trình vào phần trả lời bài tập"
      ],
      "metadata": {
        "id": "J1AIZEYmA1Lq"
      }
    },
    {
      "cell_type": "code",
      "source": [
        "import os\n",
        "import numpy as np\n",
        "from sklearn.preprocessing import StandardScaler\n",
        "from sklearn.model_selection import train_test_split\n",
        "from sklearn.model_selection import KFold\n",
        "from sklearn.metrics import mean_squared_error\n",
        "from sklearn.linear_model import Lasso"
      ],
      "metadata": {
        "id": "HxufmZ82BIB5"
      },
      "execution_count": 1,
      "outputs": []
    },
    {
      "cell_type": "code",
      "source": [
        "def readData(filename, folder=''):\n",
        "    data = np.loadtxt(os.path.join(folder, filename), delimiter=',')\n",
        "    X = data[:, :-1]\n",
        "    y = data[:, -1].reshape(-1, 1)\n",
        "    one = np.ones((X.shape[0], 1))\n",
        "    X = np.concatenate((one, X), axis=1)\n",
        "    return X, y"
      ],
      "metadata": {
        "id": "ZKFLNFmpBPp5"
      },
      "execution_count": null,
      "outputs": []
    },
    {
      "cell_type": "code",
      "source": [
        "def featureScalingSplit(X, y):\n",
        "    X_train, X_test, y_train, y_test = train_test_split(X, y, test_size=0.3, random_state=15)\n",
        "    sc_X = StandardScaler()\n",
        "    sc_y = StandardScaler()\n",
        "    X_train[:, 1:] = sc_X.fit_transform(X_train[:, 1:])\n",
        "    X_test[:, 1:] = sc_X.transform(X_test[:, 1:])\n",
        "    y_train = sc_y.fit_transform(y_train)\n",
        "    y_test = sc_y.transform(y_test)\n",
        "    return X_train, X_test, y_train, y_test"
      ],
      "metadata": {
        "id": "dpDGx9JZBRSS"
      },
      "execution_count": null,
      "outputs": []
    },
    {
      "cell_type": "code",
      "source": [
        "def kFoldCrossValiation(X_train, y_train):\n",
        "    kf = KFold(n_splits=10)\n",
        "    step = 0\n",
        "    valitdate_models = {}\n",
        "    for train2_index, val_index in kf.split(X=X_train, y=y_train):\n",
        "        step = step + 1\n",
        "        regressor = Lasso()\n",
        "        print('\\tBước lặp huấn luyện thứ: ', step)\n",
        "        X_train2, X_val = X_train[train2_index], X_train[val_index]\n",
        "        y_train2, y_val = y_train[train2_index], y_train[val_index]\n",
        "        regressor.fit(X_train2, y_train2)\n",
        "        print('\\t\\tĐánh giá mô hình trên tập dữ liệu validation')\n",
        "        y_pred = regressor.predict(X_val)\n",
        "        print('\\t\\t\\tMSE: ', mean_squared_error(y_val, y_pred))\n",
        "        valitdate_models[mean_squared_error(y_val, y_pred)] = regressor\n",
        "    min_error = min(list(valitdate_models.keys()))\n",
        "    return valitdate_models[min_error]"
      ],
      "metadata": {
        "id": "kCmcRq9mBTAq"
      },
      "execution_count": null,
      "outputs": []
    },
    {
      "cell_type": "code",
      "source": [
        "def validateTestSet(X_test, y_test, regressor):\n",
        "    print(\"\\nĐánh giá hiệu năng mô hình trên tập dữ liệu test:\")\n",
        "    y_pred = regressor.predict(X_test)\n",
        "    print(\"\\tMSE: \", mean_squared_error(y_test, y_pred))\n",
        "    return mean_squared_error(y_test, y_pred)\n"
      ],
      "metadata": {
        "id": "7sImpsI2BUgK"
      },
      "execution_count": null,
      "outputs": []
    },
    {
      "cell_type": "code",
      "source": [
        "def main():\n",
        "    X, y = readData('ex1data2.txt')\n",
        "    X_train, X_test, y_train, y_test = featureScalingSplit(X, y)\n",
        "    regressor = kFoldCrossValiation(X_train, y_train)\n",
        "    validateTestSet(X_test, y_test, regressor)\n",
        "\n",
        "\n",
        "if _name_ == \"_main_\":\n",
        "    main()"
      ],
      "metadata": {
        "id": "w7SFdxXIBV5S"
      },
      "execution_count": null,
      "outputs": []
    }
  ]
}