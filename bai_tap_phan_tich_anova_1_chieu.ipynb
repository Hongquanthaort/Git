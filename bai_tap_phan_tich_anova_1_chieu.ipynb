{
  "cells": [
    {
      "cell_type": "markdown",
      "metadata": {
        "id": "view-in-github",
        "colab_type": "text"
      },
      "source": [
        "<a href=\"https://colab.research.google.com/github/Hongquanthaort/Git/blob/main/bai_tap_phan_tich_anova_1_chieu.ipynb\" target=\"_parent\"><img src=\"https://colab.research.google.com/assets/colab-badge.svg\" alt=\"Open In Colab\"/></a>"
      ]
    },
    {
      "cell_type": "markdown",
      "metadata": {
        "id": "arGsXME_ZAHX"
      },
      "source": [
        "Hãy sử dụng các tập dữ liệu sau và tiến hành phân tích ANOVA 1 chiều\n",
        "\n",
        "- [Excavation Depth and Archaeology](https://college.cengage.com/mathematics/brase/understandable_statistics/7e/students/datasets/owan/frames/owan01.html)\n",
        "- [Apple Orchard Experiment](https://college.cengage.com/mathematics/brase/understandable_statistics/7e/students/datasets/owan/frames/owan02.html)\n",
        "- [Red Dye Number 40](https://college.cengage.com/mathematics/brase/understandable_statistics/7e/students/datasets/owan/frames/owan03.html)\n",
        "- [Business Startup Costs](https://college.cengage.com/mathematics/brase/understandable_statistics/7e/students/datasets/owan/frames/owan04.html)\n",
        "- [Weights of Football Players](https://college.cengage.com/mathematics/brase/understandable_statistics/7e/students/datasets/owan/frames/owan05.html)"
      ]
    },
    {
      "cell_type": "markdown",
      "source": [
        "Phân tích Excavation Depth and Archaeology\n"
      ],
      "metadata": {
        "id": "4uKkD0_SZWzZ"
      }
    },
    {
      "cell_type": "code",
      "source": [
        "import pandas as pd\n",
        "import numpy as np\n",
        "import scipy.stats as st"
      ],
      "metadata": {
        "id": "Bd5N9nE4fWQa"
      },
      "execution_count": 2,
      "outputs": []
    },
    {
      "cell_type": "code",
      "execution_count": 3,
      "metadata": {
        "id": "XDsPkPvhZAHb",
        "outputId": "306a4c86-8a14-40c2-9361-f1b427cf13dc",
        "colab": {
          "base_uri": "https://localhost:8080/",
          "height": 206
        }
      },
      "outputs": [
        {
          "output_type": "execute_result",
          "data": {
            "text/plain": [
              "    X1    X2     X3    X4\n",
              "0   93  85.0  100.0  96.0\n",
              "1  120  45.0   75.0  58.0\n",
              "2   65  80.0   65.0  95.0\n",
              "3  105  28.0   40.0  90.0\n",
              "4  115  75.0   73.0  65.0"
            ],
            "text/html": [
              "\n",
              "  <div id=\"df-864a58d9-ac08-438d-8b22-49f2509049c8\">\n",
              "    <div class=\"colab-df-container\">\n",
              "      <div>\n",
              "<style scoped>\n",
              "    .dataframe tbody tr th:only-of-type {\n",
              "        vertical-align: middle;\n",
              "    }\n",
              "\n",
              "    .dataframe tbody tr th {\n",
              "        vertical-align: top;\n",
              "    }\n",
              "\n",
              "    .dataframe thead th {\n",
              "        text-align: right;\n",
              "    }\n",
              "</style>\n",
              "<table border=\"1\" class=\"dataframe\">\n",
              "  <thead>\n",
              "    <tr style=\"text-align: right;\">\n",
              "      <th></th>\n",
              "      <th>X1</th>\n",
              "      <th>X2</th>\n",
              "      <th>X3</th>\n",
              "      <th>X4</th>\n",
              "    </tr>\n",
              "  </thead>\n",
              "  <tbody>\n",
              "    <tr>\n",
              "      <th>0</th>\n",
              "      <td>93</td>\n",
              "      <td>85.0</td>\n",
              "      <td>100.0</td>\n",
              "      <td>96.0</td>\n",
              "    </tr>\n",
              "    <tr>\n",
              "      <th>1</th>\n",
              "      <td>120</td>\n",
              "      <td>45.0</td>\n",
              "      <td>75.0</td>\n",
              "      <td>58.0</td>\n",
              "    </tr>\n",
              "    <tr>\n",
              "      <th>2</th>\n",
              "      <td>65</td>\n",
              "      <td>80.0</td>\n",
              "      <td>65.0</td>\n",
              "      <td>95.0</td>\n",
              "    </tr>\n",
              "    <tr>\n",
              "      <th>3</th>\n",
              "      <td>105</td>\n",
              "      <td>28.0</td>\n",
              "      <td>40.0</td>\n",
              "      <td>90.0</td>\n",
              "    </tr>\n",
              "    <tr>\n",
              "      <th>4</th>\n",
              "      <td>115</td>\n",
              "      <td>75.0</td>\n",
              "      <td>73.0</td>\n",
              "      <td>65.0</td>\n",
              "    </tr>\n",
              "  </tbody>\n",
              "</table>\n",
              "</div>\n",
              "      <button class=\"colab-df-convert\" onclick=\"convertToInteractive('df-864a58d9-ac08-438d-8b22-49f2509049c8')\"\n",
              "              title=\"Convert this dataframe to an interactive table.\"\n",
              "              style=\"display:none;\">\n",
              "        \n",
              "  <svg xmlns=\"http://www.w3.org/2000/svg\" height=\"24px\"viewBox=\"0 0 24 24\"\n",
              "       width=\"24px\">\n",
              "    <path d=\"M0 0h24v24H0V0z\" fill=\"none\"/>\n",
              "    <path d=\"M18.56 5.44l.94 2.06.94-2.06 2.06-.94-2.06-.94-.94-2.06-.94 2.06-2.06.94zm-11 1L8.5 8.5l.94-2.06 2.06-.94-2.06-.94L8.5 2.5l-.94 2.06-2.06.94zm10 10l.94 2.06.94-2.06 2.06-.94-2.06-.94-.94-2.06-.94 2.06-2.06.94z\"/><path d=\"M17.41 7.96l-1.37-1.37c-.4-.4-.92-.59-1.43-.59-.52 0-1.04.2-1.43.59L10.3 9.45l-7.72 7.72c-.78.78-.78 2.05 0 2.83L4 21.41c.39.39.9.59 1.41.59.51 0 1.02-.2 1.41-.59l7.78-7.78 2.81-2.81c.8-.78.8-2.07 0-2.86zM5.41 20L4 18.59l7.72-7.72 1.47 1.35L5.41 20z\"/>\n",
              "  </svg>\n",
              "      </button>\n",
              "      \n",
              "  <style>\n",
              "    .colab-df-container {\n",
              "      display:flex;\n",
              "      flex-wrap:wrap;\n",
              "      gap: 12px;\n",
              "    }\n",
              "\n",
              "    .colab-df-convert {\n",
              "      background-color: #E8F0FE;\n",
              "      border: none;\n",
              "      border-radius: 50%;\n",
              "      cursor: pointer;\n",
              "      display: none;\n",
              "      fill: #1967D2;\n",
              "      height: 32px;\n",
              "      padding: 0 0 0 0;\n",
              "      width: 32px;\n",
              "    }\n",
              "\n",
              "    .colab-df-convert:hover {\n",
              "      background-color: #E2EBFA;\n",
              "      box-shadow: 0px 1px 2px rgba(60, 64, 67, 0.3), 0px 1px 3px 1px rgba(60, 64, 67, 0.15);\n",
              "      fill: #174EA6;\n",
              "    }\n",
              "\n",
              "    [theme=dark] .colab-df-convert {\n",
              "      background-color: #3B4455;\n",
              "      fill: #D2E3FC;\n",
              "    }\n",
              "\n",
              "    [theme=dark] .colab-df-convert:hover {\n",
              "      background-color: #434B5C;\n",
              "      box-shadow: 0px 1px 3px 1px rgba(0, 0, 0, 0.15);\n",
              "      filter: drop-shadow(0px 1px 2px rgba(0, 0, 0, 0.3));\n",
              "      fill: #FFFFFF;\n",
              "    }\n",
              "  </style>\n",
              "\n",
              "      <script>\n",
              "        const buttonEl =\n",
              "          document.querySelector('#df-864a58d9-ac08-438d-8b22-49f2509049c8 button.colab-df-convert');\n",
              "        buttonEl.style.display =\n",
              "          google.colab.kernel.accessAllowed ? 'block' : 'none';\n",
              "\n",
              "        async function convertToInteractive(key) {\n",
              "          const element = document.querySelector('#df-864a58d9-ac08-438d-8b22-49f2509049c8');\n",
              "          const dataTable =\n",
              "            await google.colab.kernel.invokeFunction('convertToInteractive',\n",
              "                                                     [key], {});\n",
              "          if (!dataTable) return;\n",
              "\n",
              "          const docLinkHtml = 'Like what you see? Visit the ' +\n",
              "            '<a target=\"_blank\" href=https://colab.research.google.com/notebooks/data_table.ipynb>data table notebook</a>'\n",
              "            + ' to learn more about interactive tables.';\n",
              "          element.innerHTML = '';\n",
              "          dataTable['output_type'] = 'display_data';\n",
              "          await google.colab.output.renderOutput(dataTable, element);\n",
              "          const docLink = document.createElement('div');\n",
              "          docLink.innerHTML = docLinkHtml;\n",
              "          element.appendChild(docLink);\n",
              "        }\n",
              "      </script>\n",
              "    </div>\n",
              "  </div>\n",
              "  "
            ]
          },
          "metadata": {},
          "execution_count": 3
        }
      ],
      "source": [
        "#ĐỌc dữ liệu\n",
        "df = pd.read_csv(\"owan01.csv\")\n",
        "df.head()"
      ]
    },
    {
      "cell_type": "code",
      "source": [
        "#sàng lọc dữ liệu\n",
        "x1=df['X1'].dropna()\n",
        "x2=df['X2'].dropna()\n",
        "x3=df['X3'].dropna()\n",
        "x4=df['X4'].dropna()\n",
        "print(x1)\n",
        "print(x2)\n",
        "print(x3)\n",
        "print(x4)"
      ],
      "metadata": {
        "id": "nA7iIeRMZvJ5",
        "outputId": "2fb565ba-b126-4512-b341-328eeab660e7",
        "colab": {
          "base_uri": "https://localhost:8080/"
        }
      },
      "execution_count": 4,
      "outputs": [
        {
          "output_type": "stream",
          "name": "stdout",
          "text": [
            "0      93\n",
            "1     120\n",
            "2      65\n",
            "3     105\n",
            "4     115\n",
            "5      82\n",
            "6      99\n",
            "7      87\n",
            "8     100\n",
            "9      90\n",
            "10     78\n",
            "11     95\n",
            "12     93\n",
            "13     88\n",
            "14    110\n",
            "Name: X1, dtype: int64\n",
            "0    85.0\n",
            "1    45.0\n",
            "2    80.0\n",
            "3    28.0\n",
            "4    75.0\n",
            "5    70.0\n",
            "6    65.0\n",
            "7    55.0\n",
            "8    50.0\n",
            "9    40.0\n",
            "Name: X2, dtype: float64\n",
            "0     100.0\n",
            "1      75.0\n",
            "2      65.0\n",
            "3      40.0\n",
            "4      73.0\n",
            "5      65.0\n",
            "6      50.0\n",
            "7      30.0\n",
            "8      45.0\n",
            "9      50.0\n",
            "10     45.0\n",
            "11     55.0\n",
            "Name: X3, dtype: float64\n",
            "0    96.0\n",
            "1    58.0\n",
            "2    95.0\n",
            "3    90.0\n",
            "4    65.0\n",
            "5    80.0\n",
            "6    85.0\n",
            "7    95.0\n",
            "8    82.0\n",
            "Name: X4, dtype: float64\n"
          ]
        }
      ]
    },
    {
      "cell_type": "markdown",
      "source": [
        "\n",
        "\n",
        "*Giả thuyết*\n",
        " * $H_0$: Các mẫu có cùng phương sai:\n",
        "\n",
        "  $σ_1^2=σ_2^2=σ_3^2=σ_4^2$\n",
        " * $H_a$: Tồn tại một cặp khác phương sai "
      ],
      "metadata": {
        "id": "Hy3LG-v5hCeY"
      }
    },
    {
      "cell_type": "markdown",
      "source": [
        " \n",
        " *Giả thuyết*\n",
        "  * $H_0$: Các mẫu tuân theo phân phối chuẩn\n",
        "  * $H_a$: Các mẫu không tuân theo phân phỗi chuẩn"
      ],
      "metadata": {
        "id": "KfiQlC01touW"
      }
    },
    {
      "cell_type": "code",
      "source": [
        "from scipy.stats import levene\n",
        "_,p=levene(x1,x2,x3,x4)\n",
        "print(\"p=\" ,p)\n",
        "#kiểm tra phân phối chuẩn\n",
        "from scipy.stats import shapiro\n",
        "_,p1=shapiro(x1)\n",
        "print(\"p1:\",p1)\n",
        "_,p2=shapiro(x2)\n",
        "print(\"p2:\",p2)\n",
        "_,p3=shapiro(x3)\n",
        "print(\"p3:\",p3)\n",
        "_,p4=shapiro(x4)\n",
        "print(\"p4:\",p4)"
      ],
      "metadata": {
        "colab": {
          "base_uri": "https://localhost:8080/"
        },
        "id": "mh-dGBLpfN35",
        "outputId": "f5ecba04-e924-484a-f508-484735bf47ac"
      },
      "execution_count": 8,
      "outputs": [
        {
          "output_type": "stream",
          "name": "stdout",
          "text": [
            "p= 0.5020818274234007\n",
            "p1: 0.9960364103317261\n",
            "p2: 0.864689826965332\n",
            "p3: 0.601704478263855\n",
            "p4: 0.13579683005809784\n"
          ]
        }
      ]
    },
    {
      "cell_type": "code",
      "source": [
        "if p>0.05:\n",
        "  print(\"Với dữ liệu ta vừa thu thập để phân tích có thể thấy được các mẫu có cùng phương sai\")\n",
        "else:\n",
        "  print(\"Với dữ liệu ta vừa thu thập để phân tích có thể thấy được các mẫu không có cùng phương sai\")"
      ],
      "metadata": {
        "colab": {
          "base_uri": "https://localhost:8080/"
        },
        "id": "M6tlYY_lhDWB",
        "outputId": "dbc8cb4f-207f-4fc4-8efd-c73f26f5f83c"
      },
      "execution_count": 11,
      "outputs": [
        {
          "output_type": "stream",
          "name": "stdout",
          "text": [
            "Với dữ liệu ta vừa thu thập để phân tích có thể thấy được các mẫu có cùng phương sai\n"
          ]
        }
      ]
    },
    {
      "cell_type": "code",
      "source": [
        "if p1> 0.05:\n",
        "  print('Với dữ liệu ta vừa thu thập để phân tích có thể thấy được các mẫu có cùng phân phối chuẩn')\n",
        "else:\n",
        "  print('Với dữ liệu ta vừa thu thập để phân tích có thể thấy được các mẫu không có cùng phân phối chuẩn')\n",
        "if p2> 0.05:\n",
        "  print('Với dữ liệu ta vừa thu thập để phân tích có thể thấy được các mẫu có cùng phân phối chuẩn')\n",
        "else:\n",
        "  print('Với dữ liệu ta vừa thu thập để phân tích có thể thấy được các mẫu không có cùng phân phối chuẩn')\n",
        "if p3> 0.05:\n",
        "  print('Với dữ liệu ta vừa thu thập để phân tích có thể thấy được các mẫu có cùng phân phối chuẩn')\n",
        "else:\n",
        "  print('Với dữ liệu ta vừa thu thập để phân tích có thể thấy được các mẫu không có cùng phân phối chuẩn')\n",
        "if p4> 0.05:\n",
        "  print('Với dữ liệu ta vừa thu thập để phân tích có thể thấy được các mẫu có cùng phân phối chuẩn')\n",
        "else:\n",
        "  print('Với dữ liệu ta vừa thu thập để phân tích có thể thấy được các mẫu không có cùng phân phối chuẩn')"
      ],
      "metadata": {
        "id": "9dRbppvOfHba",
        "colab": {
          "base_uri": "https://localhost:8080/"
        },
        "outputId": "decaa952-816e-41ff-c6a8-96d4013a78a2"
      },
      "execution_count": 12,
      "outputs": [
        {
          "output_type": "stream",
          "name": "stdout",
          "text": [
            "Với dữ liệu ta vừa thu thập để phân tích có thể thấy được các mẫu có cùng phân phối chuẩn\n",
            "Với dữ liệu ta vừa thu thập để phân tích có thể thấy được các mẫu có cùng phân phối chuẩn\n",
            "Với dữ liệu ta vừa thu thập để phân tích có thể thấy được các mẫu có cùng phân phối chuẩn\n",
            "Với dữ liệu ta vừa thu thập để phân tích có thể thấy được các mẫu có cùng phân phối chuẩn\n"
          ]
        }
      ]
    },
    {
      "cell_type": "markdown",
      "source": [
        "* Giả thuyết \n",
        " * $H_0$: các địa điểm khảo cổ có độ sâu trung bình bằng nhau\n",
        "\n",
        "     $\\bar x_1=\\bar x_2=\\bar x_3=\\bar x_4$\n",
        " * $H_a$: Có sự khác nhau về độ sâu trung bình của các điểm khảo cổ"
      ],
      "metadata": {
        "id": "3zhr_mAqtraO"
      }
    },
    {
      "cell_type": "code",
      "source": [
        "#kiểm định anova oneway\n",
        "from scipy.stats import f_oneway\n",
        "_,p=f_oneway(x1,x2,x3,x4,)\n",
        "print(\"p=\" ,p)"
      ],
      "metadata": {
        "colab": {
          "base_uri": "https://localhost:8080/"
        },
        "id": "oQ8ZnaWVs2-m",
        "outputId": "bfc4d25c-7e30-42cb-9ce1-7136e1ebc409"
      },
      "execution_count": 13,
      "outputs": [
        {
          "output_type": "stream",
          "name": "stdout",
          "text": [
            "p= 7.99057539367343e-07\n"
          ]
        }
      ]
    },
    {
      "cell_type": "code",
      "source": [
        "if p> 0.05:\n",
        "  print('Với dữ liệu ta vừa thu thập để phân tích có thể thấy được các mẫu độ có sâu trung bình bằng nhau')\n",
        "else:\n",
        "  print('Với dữ liệu ta vừa thu thập để phân tích có thể thấy được các mẫu độ không có sâu trung bình bằng nhau')"
      ],
      "metadata": {
        "colab": {
          "base_uri": "https://localhost:8080/"
        },
        "id": "8x-fzUTIsywn",
        "outputId": "7b3f1f66-b1f1-4eb4-afd3-afbfc70d8a6e"
      },
      "execution_count": 14,
      "outputs": [
        {
          "output_type": "stream",
          "name": "stdout",
          "text": [
            "Với dữ liệu ta vừa thu thập để phân tích có thể thấy được các mẫu độ không có sâu trung bình bằng nhau\n"
          ]
        }
      ]
    },
    {
      "cell_type": "markdown",
      "source": [
        "Phân tích Apple Orchard Experiment"
      ],
      "metadata": {
        "id": "L_to-4N7z0Rp"
      }
    },
    {
      "cell_type": "code",
      "source": [
        "#ĐỌc dữ liệu\n",
        "df = pd.read_csv(\"owan02.csv\")\n",
        "df.head()"
      ],
      "metadata": {
        "colab": {
          "base_uri": "https://localhost:8080/",
          "height": 206
        },
        "id": "coUdnWjCz2sx",
        "outputId": "d09d71c2-2dcb-486d-e3a0-ae136a285a14"
      },
      "execution_count": 15,
      "outputs": [
        {
          "output_type": "execute_result",
          "data": {
            "text/plain": [
              "     X1    X2    X3    X4    X5\n",
              "0  2569  2074  2505  2838  1532\n",
              "1  2928  2885  2315  2351  2552\n",
              "2  2865  3378  2667  3001  3083\n",
              "3  3844  3906  2390  2439  2330\n",
              "4  3027  2782  3021  2199  2079"
            ],
            "text/html": [
              "\n",
              "  <div id=\"df-2e2ff821-1ef3-4fda-9c43-a26628783438\">\n",
              "    <div class=\"colab-df-container\">\n",
              "      <div>\n",
              "<style scoped>\n",
              "    .dataframe tbody tr th:only-of-type {\n",
              "        vertical-align: middle;\n",
              "    }\n",
              "\n",
              "    .dataframe tbody tr th {\n",
              "        vertical-align: top;\n",
              "    }\n",
              "\n",
              "    .dataframe thead th {\n",
              "        text-align: right;\n",
              "    }\n",
              "</style>\n",
              "<table border=\"1\" class=\"dataframe\">\n",
              "  <thead>\n",
              "    <tr style=\"text-align: right;\">\n",
              "      <th></th>\n",
              "      <th>X1</th>\n",
              "      <th>X2</th>\n",
              "      <th>X3</th>\n",
              "      <th>X4</th>\n",
              "      <th>X5</th>\n",
              "    </tr>\n",
              "  </thead>\n",
              "  <tbody>\n",
              "    <tr>\n",
              "      <th>0</th>\n",
              "      <td>2569</td>\n",
              "      <td>2074</td>\n",
              "      <td>2505</td>\n",
              "      <td>2838</td>\n",
              "      <td>1532</td>\n",
              "    </tr>\n",
              "    <tr>\n",
              "      <th>1</th>\n",
              "      <td>2928</td>\n",
              "      <td>2885</td>\n",
              "      <td>2315</td>\n",
              "      <td>2351</td>\n",
              "      <td>2552</td>\n",
              "    </tr>\n",
              "    <tr>\n",
              "      <th>2</th>\n",
              "      <td>2865</td>\n",
              "      <td>3378</td>\n",
              "      <td>2667</td>\n",
              "      <td>3001</td>\n",
              "      <td>3083</td>\n",
              "    </tr>\n",
              "    <tr>\n",
              "      <th>3</th>\n",
              "      <td>3844</td>\n",
              "      <td>3906</td>\n",
              "      <td>2390</td>\n",
              "      <td>2439</td>\n",
              "      <td>2330</td>\n",
              "    </tr>\n",
              "    <tr>\n",
              "      <th>4</th>\n",
              "      <td>3027</td>\n",
              "      <td>2782</td>\n",
              "      <td>3021</td>\n",
              "      <td>2199</td>\n",
              "      <td>2079</td>\n",
              "    </tr>\n",
              "  </tbody>\n",
              "</table>\n",
              "</div>\n",
              "      <button class=\"colab-df-convert\" onclick=\"convertToInteractive('df-2e2ff821-1ef3-4fda-9c43-a26628783438')\"\n",
              "              title=\"Convert this dataframe to an interactive table.\"\n",
              "              style=\"display:none;\">\n",
              "        \n",
              "  <svg xmlns=\"http://www.w3.org/2000/svg\" height=\"24px\"viewBox=\"0 0 24 24\"\n",
              "       width=\"24px\">\n",
              "    <path d=\"M0 0h24v24H0V0z\" fill=\"none\"/>\n",
              "    <path d=\"M18.56 5.44l.94 2.06.94-2.06 2.06-.94-2.06-.94-.94-2.06-.94 2.06-2.06.94zm-11 1L8.5 8.5l.94-2.06 2.06-.94-2.06-.94L8.5 2.5l-.94 2.06-2.06.94zm10 10l.94 2.06.94-2.06 2.06-.94-2.06-.94-.94-2.06-.94 2.06-2.06.94z\"/><path d=\"M17.41 7.96l-1.37-1.37c-.4-.4-.92-.59-1.43-.59-.52 0-1.04.2-1.43.59L10.3 9.45l-7.72 7.72c-.78.78-.78 2.05 0 2.83L4 21.41c.39.39.9.59 1.41.59.51 0 1.02-.2 1.41-.59l7.78-7.78 2.81-2.81c.8-.78.8-2.07 0-2.86zM5.41 20L4 18.59l7.72-7.72 1.47 1.35L5.41 20z\"/>\n",
              "  </svg>\n",
              "      </button>\n",
              "      \n",
              "  <style>\n",
              "    .colab-df-container {\n",
              "      display:flex;\n",
              "      flex-wrap:wrap;\n",
              "      gap: 12px;\n",
              "    }\n",
              "\n",
              "    .colab-df-convert {\n",
              "      background-color: #E8F0FE;\n",
              "      border: none;\n",
              "      border-radius: 50%;\n",
              "      cursor: pointer;\n",
              "      display: none;\n",
              "      fill: #1967D2;\n",
              "      height: 32px;\n",
              "      padding: 0 0 0 0;\n",
              "      width: 32px;\n",
              "    }\n",
              "\n",
              "    .colab-df-convert:hover {\n",
              "      background-color: #E2EBFA;\n",
              "      box-shadow: 0px 1px 2px rgba(60, 64, 67, 0.3), 0px 1px 3px 1px rgba(60, 64, 67, 0.15);\n",
              "      fill: #174EA6;\n",
              "    }\n",
              "\n",
              "    [theme=dark] .colab-df-convert {\n",
              "      background-color: #3B4455;\n",
              "      fill: #D2E3FC;\n",
              "    }\n",
              "\n",
              "    [theme=dark] .colab-df-convert:hover {\n",
              "      background-color: #434B5C;\n",
              "      box-shadow: 0px 1px 3px 1px rgba(0, 0, 0, 0.15);\n",
              "      filter: drop-shadow(0px 1px 2px rgba(0, 0, 0, 0.3));\n",
              "      fill: #FFFFFF;\n",
              "    }\n",
              "  </style>\n",
              "\n",
              "      <script>\n",
              "        const buttonEl =\n",
              "          document.querySelector('#df-2e2ff821-1ef3-4fda-9c43-a26628783438 button.colab-df-convert');\n",
              "        buttonEl.style.display =\n",
              "          google.colab.kernel.accessAllowed ? 'block' : 'none';\n",
              "\n",
              "        async function convertToInteractive(key) {\n",
              "          const element = document.querySelector('#df-2e2ff821-1ef3-4fda-9c43-a26628783438');\n",
              "          const dataTable =\n",
              "            await google.colab.kernel.invokeFunction('convertToInteractive',\n",
              "                                                     [key], {});\n",
              "          if (!dataTable) return;\n",
              "\n",
              "          const docLinkHtml = 'Like what you see? Visit the ' +\n",
              "            '<a target=\"_blank\" href=https://colab.research.google.com/notebooks/data_table.ipynb>data table notebook</a>'\n",
              "            + ' to learn more about interactive tables.';\n",
              "          element.innerHTML = '';\n",
              "          dataTable['output_type'] = 'display_data';\n",
              "          await google.colab.output.renderOutput(dataTable, element);\n",
              "          const docLink = document.createElement('div');\n",
              "          docLink.innerHTML = docLinkHtml;\n",
              "          element.appendChild(docLink);\n",
              "        }\n",
              "      </script>\n",
              "    </div>\n",
              "  </div>\n",
              "  "
            ]
          },
          "metadata": {},
          "execution_count": 15
        }
      ]
    },
    {
      "cell_type": "code",
      "source": [
        "#sàng lọc dữ liệu\n",
        "x1=df['X1'].dropna()\n",
        "x2=df['X2'].dropna()\n",
        "x3=df['X3'].dropna()\n",
        "x4=df['X4'].dropna()\n",
        "print(x1)\n",
        "print(x2)\n",
        "print(x3)\n",
        "print(x4)"
      ],
      "metadata": {
        "colab": {
          "base_uri": "https://localhost:8080/"
        },
        "id": "U6Z2_15Tz9Eg",
        "outputId": "d076f4ad-3305-4a18-a10b-74dc68c1c8f8"
      },
      "execution_count": 16,
      "outputs": [
        {
          "output_type": "stream",
          "name": "stdout",
          "text": [
            "0    2569\n",
            "1    2928\n",
            "2    2865\n",
            "3    3844\n",
            "4    3027\n",
            "5    2336\n",
            "6    3211\n",
            "7    3037\n",
            "Name: X1, dtype: int64\n",
            "0    2074\n",
            "1    2885\n",
            "2    3378\n",
            "3    3906\n",
            "4    2782\n",
            "5    3018\n",
            "6    3383\n",
            "7    3447\n",
            "Name: X2, dtype: int64\n",
            "0    2505\n",
            "1    2315\n",
            "2    2667\n",
            "3    2390\n",
            "4    3021\n",
            "5    3085\n",
            "6    3308\n",
            "7    3231\n",
            "Name: X3, dtype: int64\n",
            "0    2838\n",
            "1    2351\n",
            "2    3001\n",
            "3    2439\n",
            "4    2199\n",
            "5    3318\n",
            "6    3601\n",
            "7    3291\n",
            "Name: X4, dtype: int64\n"
          ]
        }
      ]
    },
    {
      "cell_type": "markdown",
      "source": [
        "*Giả thuyết*\n",
        " * $H_0$: Các mẫu có cùng phương sai:\n",
        "\n",
        "  $σ_1^2=σ_2^2=σ_3^2=σ_4^2$\n",
        " * $H_a$: Tồn tại một cặp khác phương sai \n",
        "\n",
        " \n",
        " *Giả thuyết*\n",
        "  * $H_0$: Các mẫu tuân theo phân phối chuẩn\n",
        "  * $H_a$: Các mẫu không tuân theo phân phỗi chuẩn"
      ],
      "metadata": {
        "id": "NthyHlgh0C7Z"
      }
    },
    {
      "cell_type": "code",
      "source": [
        "from scipy.stats import levene\n",
        "_,p=levene(x1,x2,x3,x4)\n",
        "print(\"p=\" ,p)\n",
        "#kiểm tra phân phối chuẩn\n",
        "from scipy.stats import shapiro\n",
        "_,p1=shapiro(x1)\n",
        "print(\"p1:\",p1)\n",
        "_,p2=shapiro(x2)\n",
        "print(\"p2:\",p2)\n",
        "_,p3=shapiro(x3)\n",
        "print(\"p3:\",p3)\n",
        "_,p4=shapiro(x4)\n",
        "print(\"p4:\",p4)"
      ],
      "metadata": {
        "colab": {
          "base_uri": "https://localhost:8080/"
        },
        "id": "ZWg0kL6xz-b_",
        "outputId": "c54f5f9b-1274-40c5-cc81-18dc0e249cc2"
      },
      "execution_count": 17,
      "outputs": [
        {
          "output_type": "stream",
          "name": "stdout",
          "text": [
            "p= 0.7650714581028858\n",
            "p1: 0.644533634185791\n",
            "p2: 0.7472830414772034\n",
            "p3: 0.3169650137424469\n",
            "p4: 0.5994704365730286\n"
          ]
        }
      ]
    },
    {
      "cell_type": "markdown",
      "source": [
        "* Giả thuyết \n",
        " * $H_0$: các địa điểm khảo cổ có độ sâu trung bình bằng nhau\n",
        "\n",
        "     $\\bar x_1=\\bar x_2=\\bar x_3=\\bar x_4$\n",
        " * $H_a$: Có sự khác nhau về độ sâu trung bình của các điểm khảo cổ"
      ],
      "metadata": {
        "id": "Juc6SZel0h9n"
      }
    },
    {
      "cell_type": "code",
      "source": [
        "#kiểm định anova oneway\n",
        "from scipy.stats import f_oneway\n",
        "_,p=f_oneway(x1,x2,x3,x4,)\n",
        "print(\"p=\" ,p)"
      ],
      "metadata": {
        "colab": {
          "base_uri": "https://localhost:8080/"
        },
        "id": "9GhA12fo0iab",
        "outputId": "3c3db907-4f71-48be-ff50-77d6382a04bd"
      },
      "execution_count": 18,
      "outputs": [
        {
          "output_type": "stream",
          "name": "stdout",
          "text": [
            "p= 0.6409257498820091\n"
          ]
        }
      ]
    },
    {
      "cell_type": "code",
      "source": [
        "if p> 0.05:\n",
        "  print('Với dữ liệu ta vừa thu thập để phân tích có thể thấy được các mẫu độ có sâu trung bình bằng nhau')\n",
        "else:\n",
        "  print('Với dữ liệu ta vừa thu thập để phân tích có thể thấy được các mẫu độ không có sâu trung bình bằng nhau')"
      ],
      "metadata": {
        "colab": {
          "base_uri": "https://localhost:8080/"
        },
        "id": "AcRjCP650lWf",
        "outputId": "d622d603-8d95-4259-e6d0-b8985fed7e28"
      },
      "execution_count": 19,
      "outputs": [
        {
          "output_type": "stream",
          "name": "stdout",
          "text": [
            "Với dữ liệu ta vừa thu thập để phân tích có thể thấy được các mẫu độ có sâu trung bình bằng nhau\n"
          ]
        }
      ]
    }
  ],
  "metadata": {
    "kernelspec": {
      "display_name": "Python 3",
      "language": "python",
      "name": "python3"
    },
    "language_info": {
      "codemirror_mode": {
        "name": "ipython",
        "version": 3
      },
      "file_extension": ".py",
      "mimetype": "text/x-python",
      "name": "python",
      "nbconvert_exporter": "python",
      "pygments_lexer": "ipython3",
      "version": "3.7.3"
    },
    "colab": {
      "name": " bai-tap-phan-tich-anova-1-chieu.ipynb",
      "provenance": [],
      "collapsed_sections": [],
      "include_colab_link": true
    }
  },
  "nbformat": 4,
  "nbformat_minor": 0
}