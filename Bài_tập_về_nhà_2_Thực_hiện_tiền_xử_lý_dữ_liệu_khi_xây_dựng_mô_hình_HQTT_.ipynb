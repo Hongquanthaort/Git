{
  "nbformat": 4,
  "nbformat_minor": 0,
  "metadata": {
    "colab": {
      "provenance": [],
      "authorship_tag": "ABX9TyNKg3FLCsWx9fO5X7wbZKF3",
      "include_colab_link": true
    },
    "kernelspec": {
      "name": "python3",
      "display_name": "Python 3"
    },
    "language_info": {
      "name": "python"
    }
  },
  "cells": [
    {
      "cell_type": "markdown",
      "metadata": {
        "id": "view-in-github",
        "colab_type": "text"
      },
      "source": [
        "<a href=\"https://colab.research.google.com/github/Hongquanthaort/Git/blob/main/B%C3%A0i_t%E1%BA%ADp_v%E1%BB%81_nh%C3%A0_2_Th%E1%BB%B1c_hi%E1%BB%87n_ti%E1%BB%81n_x%E1%BB%AD_l%C3%BD_d%E1%BB%AF_li%E1%BB%87u_khi_x%C3%A2y_d%E1%BB%B1ng_m%C3%B4_h%C3%ACnh_HQTT_.ipynb\" target=\"_parent\"><img src=\"https://colab.research.google.com/assets/colab-badge.svg\" alt=\"Open In Colab\"/></a>"
      ]
    },
    {
      "cell_type": "code",
      "source": [
        "import os\n",
        "import numpy as np\n",
        "from sklearn.preprocessing import MinMaxScaler"
      ],
      "metadata": {
        "id": "4_vesdgjf48V"
      },
      "execution_count": null,
      "outputs": []
    },
    {
      "cell_type": "code",
      "execution_count": null,
      "metadata": {
        "id": "1eqEWnWof2wz"
      },
      "outputs": [],
      "source": [
        "D = np.loadtxt(os.path.join(\"D:/tailieuhoc\", \"ex1data2.txt\"),\n",
        "delimiter=\",\")\n",
        "print('Kích thước của tập dữ liệu: ', D.shape)\n",
        "print('Giá trị của tập dữ liệu: ')\n",
        "print(D)\n",
        "print('Thực hiện MinMaxScaler')\n",
        "#Khởi tạo bộ điều chỉnh dữ liệu\n",
        "scaler = MinMaxScaler()\n",
        "#Phải thực hiện thao tác fit(data) trước khi điều chỉnh dữ liệu\n",
        "scaler.fit(D)\n",
        "#Thực hiện điều chỉnh dữ liệu\n",
        "D = scaler.transform(D)\n",
        "print('Kích thước của tập dữ liệu: ', D.shape)\n",
        "print('Giá trị của tập dữ liệu: ')\n",
        "print(D)\n",
        "print('Lấy ra tập dữ liệu X, y')\n",
        "X, y = D[:,:-1], D[:, -1]\n",
        "print('Kích thước tập X: ', X.shape)\n",
        "print('Kích thước vector y: ', y.shape)"
      ]
    }
  ]
}