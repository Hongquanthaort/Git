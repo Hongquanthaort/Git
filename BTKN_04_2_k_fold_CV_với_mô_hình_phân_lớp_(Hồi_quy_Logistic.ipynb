{
  "nbformat": 4,
  "nbformat_minor": 0,
  "metadata": {
    "colab": {
      "provenance": [],
      "include_colab_link": true
    },
    "kernelspec": {
      "name": "python3",
      "display_name": "Python 3"
    },
    "language_info": {
      "name": "python"
    }
  },
  "cells": [
    {
      "cell_type": "markdown",
      "metadata": {
        "id": "view-in-github",
        "colab_type": "text"
      },
      "source": [
        "<a href=\"https://colab.research.google.com/github/Hongquanthaort/Git/blob/main/BTKN_04_2_k_fold_CV_v%E1%BB%9Bi_m%C3%B4_h%C3%ACnh_ph%C3%A2n_l%E1%BB%9Bp_(H%E1%BB%93i_quy_Logistic.ipynb\" target=\"_parent\"><img src=\"https://colab.research.google.com/assets/colab-badge.svg\" alt=\"Open In Colab\"/></a>"
      ]
    },
    {
      "cell_type": "code",
      "source": [
        "import os\n",
        "import numpy as np\n",
        "from sklearn.model_selection import train_test_split\n",
        "from sklearn.model_selection import ShuffleSplit\n",
        "from sklearn.model_selection import cross_val_predict\n",
        "from sklearn.model_selection import cross_val_score\n",
        "from sklearn.preprocessing import MinMaxScaler\n",
        "from sklearn.linear_model import LogisticRegression\n",
        "from sklearn.model_selection import GridSearchCV\n",
        "from sklearn.metrics import accuracy_score\n",
        "from sklearn.linear_model import LogisticRegressionCV"
      ],
      "metadata": {
        "id": "JaI3VoW2qv3M"
      },
      "execution_count": null,
      "outputs": []
    },
    {
      "cell_type": "code",
      "source": [
        "D = np.loadtxt(os.path.join('/content/drive/MyDrive', 'ex2data2.txt'), delimiter=',')\n",
        "X, y = D[:, :-1], D[:, -1]\n",
        "scaler = MinMaxScaler()\n",
        "scaler.fit(X)\n",
        "X = scaler.transform(X)\n",
        "X_train, X_test, y_train, y_test = train_test_split(X, y, test_size=0.30, random_state=15)\n",
        "unique, counts = np.unique(y_train, return_counts=True)\n",
        "result = dict(zip(unique, counts))\n",
        "print(result)"
      ],
      "metadata": {
        "id": "zep3evInrDtf"
      },
      "execution_count": null,
      "outputs": []
    },
    {
      "cell_type": "markdown",
      "source": [
        "Bài 1:\n"
      ],
      "metadata": {
        "id": "csUOzkzunqfy"
      }
    },
    {
      "cell_type": "code",
      "source": [
        "model = LogisticRegression(solver='liblinear', max_iter=1500, multi_class='auto')\n",
        "scores = cross_val_score(model, X_train, y_train, cv=10, scoring='accuracy')\n",
        "print('Kết quả huấn luyên 10-fold cv')\n",
        "print('\\t', scores)"
      ],
      "metadata": {
        "colab": {
          "base_uri": "https://localhost:8080/"
        },
        "id": "Yjm_ITCOn8FO",
        "outputId": "30c03c19-8116-4bcc-b93c-6b511c3018f8"
      },
      "execution_count": null,
      "outputs": [
        {
          "output_type": "stream",
          "name": "stdout",
          "text": [
            "Kết quả huấn luyên 10-fold cv\n",
            "\t [0.66666667 0.55555556 0.125      0.25       0.625      0.625\n",
            " 0.375      0.625      0.75       0.75      ]\n"
          ]
        }
      ]
    },
    {
      "cell_type": "markdown",
      "source": [
        "Bài 2:\n"
      ],
      "metadata": {
        "id": "VzGypeKvqwQM"
      }
    },
    {
      "cell_type": "code",
      "source": [
        "model = LogisticRegression(solver='liblinear', max_iter=1500, multi_class='auto')\n",
        "cv = ShuffleSplit(n_splits=10, test_size=0.20, random_state=15)\n",
        "scores = cross_val_score(model, X_train, y_train, cv=cv, scoring='accuracy')\n",
        "print('Kết quả huấn luyên 10-fold cv')\n",
        "print('\\t', scores)"
      ],
      "metadata": {
        "colab": {
          "base_uri": "https://localhost:8080/"
        },
        "id": "-6BbMqaUoB92",
        "outputId": "6e5f4b83-bac1-4826-a590-f4d61361a3f7"
      },
      "execution_count": null,
      "outputs": [
        {
          "output_type": "stream",
          "name": "stdout",
          "text": [
            "Kết quả huấn luyên 10-fold cv\n",
            "\t [0.41176471 0.29411765 0.52941176 0.47058824 0.47058824 0.52941176\n",
            " 0.47058824 0.52941176 0.41176471 0.35294118]\n"
          ]
        }
      ]
    },
    {
      "cell_type": "markdown",
      "source": [
        "Bài 3:"
      ],
      "metadata": {
        "id": "JfgrbnaJrNw2"
      }
    },
    {
      "cell_type": "code",
      "source": [
        "model = LogisticRegression(solver='liblinear', max_iter=1500, multi_class='auto')\n",
        "y_hat = cross_val_predict(model, X_train, y_train, cv=10)\n",
        "print('Kết quả huấn luyên 10-fold cv')\n",
        "print('\\t', y_hat)"
      ],
      "metadata": {
        "colab": {
          "base_uri": "https://localhost:8080/"
        },
        "id": "4dqqmn8MrNf6",
        "outputId": "d0cbd508-f5e8-44ab-9480-7a2a33613767"
      },
      "execution_count": null,
      "outputs": [
        {
          "output_type": "stream",
          "name": "stdout",
          "text": [
            "Kết quả huấn luyên 10-fold cv\n",
            "\t [0. 0. 1. 1. 1. 1. 0. 0. 0. 1. 1. 0. 1. 1. 1. 1. 1. 0. 0. 1. 1. 1. 1. 1.\n",
            " 0. 1. 1. 0. 1. 0. 0. 0. 0. 0. 1. 1. 1. 0. 1. 0. 1. 0. 0. 1. 0. 1. 1. 1.\n",
            " 0. 1. 1. 1. 1. 1. 0. 0. 1. 1. 0. 0. 1. 0. 0. 0. 1. 0. 0. 1. 1. 1. 1. 1.\n",
            " 1. 1. 0. 0. 0. 1. 1. 1. 0. 0.]\n"
          ]
        }
      ]
    },
    {
      "cell_type": "markdown",
      "source": [
        "Bài 4:"
      ],
      "metadata": {
        "id": "i213Lrz_rma6"
      }
    },
    {
      "cell_type": "code",
      "source": [
        "model = LogisticRegression(solver='liblinear', max_iter=1500, multi_class='auto')\n",
        "parameters = {'C':[1, 10, 20, 50]}\n",
        "cv = GridSearchCV(model, parameters, cv=10)\n",
        "cv.fit(X_train, y_train)\n",
        "print('Kết quả huấn luyên 10-fold cv')\n",
        "print('\\t', cv.best_params_)\n",
        "y_hat = cv.predict(X_test)\n",
        "print('Hiệu năng mô hình acc: ', accuracy_score(y_hat, y_test))"
      ],
      "metadata": {
        "colab": {
          "base_uri": "https://localhost:8080/"
        },
        "id": "3bRZ_Zq2rp24",
        "outputId": "436aaf11-a2ac-4224-9276-e0db58373c12"
      },
      "execution_count": null,
      "outputs": [
        {
          "output_type": "stream",
          "name": "stdout",
          "text": [
            "Kết quả huấn luyên 10-fold cv\n",
            "\t {'C': 1}\n",
            "Hiệu năng mô hình acc:  0.5\n"
          ]
        }
      ]
    },
    {
      "cell_type": "markdown",
      "source": [
        "Bài 5: "
      ],
      "metadata": {
        "id": "PF3U5L5Nr3qt"
      }
    },
    {
      "cell_type": "code",
      "source": [
        "model = LogisticRegressionCV(cv=10, random_state=15).fit(X_train, y_train)\n",
        "y_hat = model.predict(X_test)\n",
        "print('Hiệu năng mô hình acc: ', accuracy_score(y_hat, y_test))"
      ],
      "metadata": {
        "colab": {
          "base_uri": "https://localhost:8080/"
        },
        "id": "T0fMAOHhsExX",
        "outputId": "67236b48-1df0-4f37-9c62-12807d11dd68"
      },
      "execution_count": null,
      "outputs": [
        {
          "output_type": "stream",
          "name": "stdout",
          "text": [
            "Hiệu năng mô hình acc:  0.5\n"
          ]
        }
      ]
    }
  ]
}