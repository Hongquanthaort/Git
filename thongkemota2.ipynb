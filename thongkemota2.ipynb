{
  "nbformat": 4,
  "nbformat_minor": 0,
  "metadata": {
    "colab": {
      "name": "BÀI TẬP THỐNG KÊ MÔ TẢ 2",
      "provenance": [],
      "include_colab_link": true
    },
    "kernelspec": {
      "name": "python3",
      "display_name": "Python 3"
    },
    "language_info": {
      "name": "python"
    }
  },
  "cells": [
    {
      "cell_type": "markdown",
      "metadata": {
        "id": "view-in-github",
        "colab_type": "text"
      },
      "source": [
        "<a href=\"https://colab.research.google.com/github/Hongquanthaort/Git/blob/main/thongkemota2.ipynb\" target=\"_parent\"><img src=\"https://colab.research.google.com/assets/colab-badge.svg\" alt=\"Open In Colab\"/></a>"
      ]
    },
    {
      "cell_type": "markdown",
      "source": [
        "To compute mean and median in Python"
      ],
      "metadata": {
        "id": "T1BULZzdCqhX"
      }
    },
    {
      "cell_type": "code",
      "execution_count": null,
      "metadata": {
        "colab": {
          "base_uri": "https://localhost:8080/"
        },
        "id": "XNNakKu0Bw7-",
        "outputId": "dfcf7d3d-ce19-4904-ace2-36cd732a4427"
      },
      "outputs": [
        {
          "output_type": "stream",
          "name": "stdout",
          "text": [
            "6162876.3\n",
            "4783697.125\n"
          ]
        },
        {
          "output_type": "execute_result",
          "data": {
            "text/plain": [
              "4436369.5"
            ]
          },
          "metadata": {},
          "execution_count": 42
        }
      ],
      "source": [
        "import pandas as pd\n",
        "import numpy as np\n",
        "from scipy import stats\n",
        "\n",
        "state = pd.read_csv('/content/state.csv')\n",
        "print(state['Population'].mean())\n",
        "print(stats.trim_mean(state['Population'], 0.1))\n",
        "state['Population'].median()"
      ]
    },
    {
      "cell_type": "markdown",
      "source": [
        "calculating standard deviation and\n",
        "quantiles."
      ],
      "metadata": {
        "id": "EW3ZIOmBKOVb"
      }
    },
    {
      "cell_type": "code",
      "source": [
        "import statsmodels as sm\n",
        "print(state['Population'].std())\n",
        "print(state['Population'].quantile(0.75) - state['Population'].quantile(0.25))\n",
        "print(sm.robust.scale.mad(state['Population']))"
      ],
      "metadata": {
        "colab": {
          "base_uri": "https://localhost:8080/"
        },
        "id": "xkbc7DjtKWob",
        "outputId": "1565c60a-6081-4b1e-d0e4-8e3d70c839ba"
      },
      "execution_count": null,
      "outputs": [
        {
          "output_type": "stream",
          "name": "stdout",
          "text": [
            "6848235.347401142\n",
            "4847308.0\n",
            "3849876.1459979336\n"
          ]
        }
      ]
    },
    {
      "cell_type": "markdown",
      "source": [
        "The pandas data frame method quantile provides it in Python\n"
      ],
      "metadata": {
        "id": "yMIihbcyLk8m"
      }
    },
    {
      "cell_type": "code",
      "source": [
        "state['Murder.Rate'].quantile([0.05, 0.25, 0.5, 0.75, 0.95])"
      ],
      "metadata": {
        "colab": {
          "base_uri": "https://localhost:8080/"
        },
        "id": "2GcnVkZjLxBJ",
        "outputId": "4def6e13-4dc6-4e2d-b5ce-6a7278d26162"
      },
      "execution_count": null,
      "outputs": [
        {
          "output_type": "execute_result",
          "data": {
            "text/plain": [
              "0.05    1.600\n",
              "0.25    2.425\n",
              "0.50    4.000\n",
              "0.75    5.550\n",
              "0.95    6.510\n",
              "Name: Murder.Rate, dtype: float64"
            ]
          },
          "metadata": {},
          "execution_count": 48
        }
      ]
    },
    {
      "cell_type": "markdown",
      "source": [
        "pandas provides a number of basic exploratory plots for data frame; one of them is\n",
        "boxplots:"
      ],
      "metadata": {
        "id": "dylxfl-kL0kF"
      }
    },
    {
      "cell_type": "code",
      "source": [
        "ax = (state['Population']/1_000_000).plot.box()\n",
        "ax.set_ylabel('Population (millions)')"
      ],
      "metadata": {
        "colab": {
          "base_uri": "https://localhost:8080/",
          "height": 283
        },
        "id": "pJRprouZL6dk",
        "outputId": "adf92c80-2721-4946-a5d9-209257a14b0b"
      },
      "execution_count": null,
      "outputs": [
        {
          "output_type": "execute_result",
          "data": {
            "text/plain": [
              "Text(0, 0.5, 'Population (millions)')"
            ]
          },
          "metadata": {},
          "execution_count": 49
        },
        {
          "output_type": "display_data",
          "data": {
            "text/plain": [
              "<Figure size 432x288 with 1 Axes>"
            ],
            "image/png": "[encoded data removed]"
          },
          "metadata": {
            "needs_background": "light"
          }
        }
      ]
    },
    {
      "cell_type": "markdown",
      "source": [
        "The function pandas.cut creates a series that maps the values into the segments.\n",
        "Using the method value_counts, we get the frequency table:"
      ],
      "metadata": {
        "id": "nheZHbTwL-3p"
      }
    },
    {
      "cell_type": "code",
      "source": [
        "binnedPopulation = pd.cut(state['Population'], 10)\n",
        "binnedPopulation.value_counts()"
      ],
      "metadata": {
        "colab": {
          "base_uri": "https://localhost:8080/"
        },
        "id": "GTCNMCPUMFeK",
        "outputId": "5ef51005-fe61-416a-c981-625970473147"
      },
      "execution_count": null,
      "outputs": [
        {
          "output_type": "execute_result",
          "data": {
            "text/plain": [
              "(526935.67, 4232659.0]      24\n",
              "(4232659.0, 7901692.0]      14\n",
              "(7901692.0, 11570725.0]      6\n",
              "(11570725.0, 15239758.0]     2\n",
              "(15239758.0, 18908791.0]     1\n",
              "(18908791.0, 22577824.0]     1\n",
              "(22577824.0, 26246857.0]     1\n",
              "(33584923.0, 37253956.0]     1\n",
              "(26246857.0, 29915890.0]     0\n",
              "(29915890.0, 33584923.0]     0\n",
              "Name: Population, dtype: int64"
            ]
          },
          "metadata": {},
          "execution_count": 50
        }
      ]
    },
    {
      "cell_type": "markdown",
      "source": [
        "pandas supports histograms for data frames with the DataFrame.plot.hist method."
      ],
      "metadata": {
        "id": "XrLW9pnZMIWl"
      }
    },
    {
      "cell_type": "code",
      "source": [
        "ax = (state['Population'] / 1_000_000).plot.hist(figsize=(4, 4))\n",
        "ax.set_xlabel('Population (millions)')"
      ],
      "metadata": {
        "colab": {
          "base_uri": "https://localhost:8080/",
          "height": 299
        },
        "id": "WOYWo-eaMR3J",
        "outputId": "6e931239-d128-4869-8444-e6223bc2f8be"
      },
      "execution_count": null,
      "outputs": [
        {
          "output_type": "execute_result",
          "data": {
            "text/plain": [
              "Text(0.5, 0, 'Population (millions)')"
            ]
          },
          "metadata": {},
          "execution_count": 51
        },
        {
          "output_type": "display_data",
          "data": {
            "text/plain": [
              "<Figure size 288x288 with 1 Axes>"
            ],
            "image/png": "[encoded data removed]"
          },
          "metadata": {
            "needs_background": "light"
          }
        }
      ]
    },
    {
      "cell_type": "markdown",
      "source": [
        "pandas provides the density method to create a density plot."
      ],
      "metadata": {
        "id": "IZTGRMV2MVe5"
      }
    },
    {
      "cell_type": "code",
      "source": [
        "ax = state['Murder.Rate'].plot.hist(density=True, xlim=[0,12], bins=range(1,12))\n",
        "state['Murder.Rate'].plot.density(ax=ax)\n",
        "ax.set_xlabel('Murder Rate (per 100,000)')"
      ],
      "metadata": {
        "colab": {
          "base_uri": "https://localhost:8080/",
          "height": 297
        },
        "id": "V2lcYZEdMa7X",
        "outputId": "78139317-b12d-4756-a05a-961136345069"
      },
      "execution_count": null,
      "outputs": [
        {
          "output_type": "execute_result",
          "data": {
            "text/plain": [
              "Text(0.5, 0, 'Murder Rate (per 100,000)')"
            ]
          },
          "metadata": {},
          "execution_count": 52
        },
        {
          "output_type": "display_data",
          "data": {
            "text/plain": [
              "<Figure size 432x288 with 1 Axes>"
            ],
            "image/png": "[encoded data removed]"
          },
          "metadata": {
            "needs_background": "light"
          }
        }
      ]
    },
    {
      "cell_type": "markdown",
      "source": [
        "pandas also supports bar charts for data frames:"
      ],
      "metadata": {
        "id": "ZfuMB4yfMkUc"
      }
    },
    {
      "cell_type": "code",
      "source": [
        "dfw = pd.read_csv('/content/dfw_airline.csv')\n",
        "ax = dfw.transpose().plot.bar(figsize=(4, 4), legend=False)\n",
        "ax.set_xlabel('Cause of delay')\n",
        "ax.set_ylabel('Count')"
      ],
      "metadata": {
        "colab": {
          "base_uri": "https://localhost:8080/",
          "height": 329
        },
        "id": "Is0N6S-0MlM4",
        "outputId": "cfbc0f9c-4621-4d27-bff7-769bec1da912"
      },
      "execution_count": null,
      "outputs": [
        {
          "output_type": "execute_result",
          "data": {
            "text/plain": [
              "Text(0, 0.5, 'Count')"
            ]
          },
          "metadata": {},
          "execution_count": 55
        },
        {
          "output_type": "display_data",
          "data": {
            "text/plain": [
              "<Figure size 288x288 with 1 Axes>"
            ],
            "image/png": "[encoded data removed]"
          },
          "metadata": {
            "needs_background": "light"
          }
        }
      ]
    },
    {
      "cell_type": "markdown",
      "source": [
        "The same graph can be generated in Python using the pandas scatter method:\n"
      ],
      "metadata": {
        "id": "0dNjFfPTNTqu"
      }
    },
    {
      "cell_type": "code",
      "source": [
        "telecom = pd.read_csv(\"/content/sp500_data.csv\")\n",
        "ax = telecom.plot.scatter(x='T', y='VZ', figsize=(4, 4), marker='$\\u25EF$')\n",
        "ax.set_xlabel('ATT (T)')\n",
        "ax.set_ylabel('Verizon (VZ)')\n",
        "ax.axhline(0, color='grey', lw=1)\n",
        "ax.axvline(0, color='grey', lw=1)"
      ],
      "metadata": {
        "colab": {
          "base_uri": "https://localhost:8080/",
          "height": 297
        },
        "id": "jk1c5xXbNffZ",
        "outputId": "171001ea-b26e-4438-928d-3fa260aaaaeb"
      },
      "execution_count": null,
      "outputs": [
        {
          "output_type": "execute_result",
          "data": {
            "text/plain": [
              "<matplotlib.lines.Line2D at 0x7f1443e88b10>"
            ]
          },
          "metadata": {},
          "execution_count": 74
        },
        {
          "output_type": "display_data",
          "data": {
            "text/plain": [
              "<Figure size 288x288 with 1 Axes>"
            ],
            "image/png": "[encoded data removed]"
          },
          "metadata": {
            "needs_background": "light"
          }
        }
      ]
    },
    {
      "cell_type": "markdown",
      "source": [
        "In pandas, we filter the data set as follows:"
      ],
      "metadata": {
        "id": "old50e0zPphF"
      }
    },
    {
      "cell_type": "code",
      "source": [
        "kc_tax = pd.read_csv('/content/kc_tax.csv')\n",
        "kc_tax0 = kc_tax.loc[(kc_tax.TaxAssessedValue < 750000) &\n",
        "                      (kc_tax.SqFtTotLiving > 100) &\n",
        "                      (kc_tax.SqFtTotLiving < 3500), :]\n",
        "kc_tax0.shape"
      ],
      "metadata": {
        "colab": {
          "base_uri": "https://localhost:8080/"
        },
        "id": "tZQgeQ4UPq6D",
        "outputId": "d82957de-41b0-47e0-ca49-2190f13a32c6"
      },
      "execution_count": null,
      "outputs": [
        {
          "output_type": "execute_result",
          "data": {
            "text/plain": [
              "(432693, 3)"
            ]
          },
          "metadata": {},
          "execution_count": 75
        }
      ]
    },
    {
      "cell_type": "markdown",
      "source": [
        "In Python, hexagonal binning plots are readily available using the pandas data frame\n",
        "method hexbin:"
      ],
      "metadata": {
        "id": "YYk0lH4gQITn"
      }
    },
    {
      "cell_type": "code",
      "source": [
        "ax = kc_tax0.plot.hexbin(x='SqFtTotLiving', y='TaxAssessedValue',\n",
        "gridsize=30, sharex=False, figsize=(5, 4))\n",
        "ax.set_xlabel('Finished Square Feet')\n",
        "ax.set_ylabel('Tax-Assessed Value')"
      ],
      "metadata": {
        "id": "k-iDGC6bQPH6"
      },
      "execution_count": null,
      "outputs": []
    },
    {
      "cell_type": "markdown",
      "source": [
        "The pandas boxplot method takes the by argument that splits the data set into groups\n",
        "and creates the individual boxplots:"
      ],
      "metadata": {
        "id": "pHdBqsWTXdXg"
      }
    },
    {
      "cell_type": "code",
      "source": [
        "airline_stats = pd.read_csv('/content/airline_stats.csv')\n",
        "ax = airline_stats.boxplot(by='airline', column='pct_carrier_delay')\n",
        "ax.set_xlabel('')\n",
        "ax.set_ylabel('Daily % of Delayed Flights')\n",
        "plt.suptitle('')"
      ],
      "metadata": {
        "id": "GWzArVK9QkQ9"
      },
      "execution_count": null,
      "outputs": []
    },
    {
      "cell_type": "markdown",
      "source": [
        "Violin plots are available with the violinplot method of the seaborn package:"
      ],
      "metadata": {
        "id": "ME_Bk7aBW11M"
      }
    },
    {
      "cell_type": "code",
      "source": [
        "import seaborn as sns \n",
        "ax = sns.violinplot(airline_stats.airline, airline_stats.pct_carrier_delay,\n",
        "inner='quartile', color='white')\n",
        "ax.set_xlabel('')\n",
        "ax.set_ylabel('Daily % of Delayed Flights')"
      ],
      "metadata": {
        "colab": {
          "base_uri": "https://localhost:8080/",
          "height": 337
        },
        "id": "EvP1gWbKRwxQ",
        "outputId": "fd779a66-ae4e-4333-851f-26d619850d2b"
      },
      "execution_count": null,
      "outputs": [
        {
          "output_type": "stream",
          "name": "stderr",
          "text": [
            "/usr/local/lib/python3.7/dist-packages/seaborn/_decorators.py:43: FutureWarning: Pass the following variables as keyword args: x, y. From version 0.12, the only valid positional argument will be `data`, and passing other arguments without an explicit keyword will result in an error or misinterpretation.\n",
            "  FutureWarning\n"
          ]
        },
        {
          "output_type": "execute_result",
          "data": {
            "text/plain": [
              "Text(0, 0.5, 'Daily % of Delayed Flights')"
            ]
          },
          "metadata": {},
          "execution_count": 71
        },
        {
          "output_type": "display_data",
          "data": {
            "text/plain": [
              "<Figure size 432x288 with 1 Axes>"
            ],
            "image/png": "[encoded data removed]"
          },
          "metadata": {
            "needs_background": "light"
          }
        }
      ]
    }
  ]
}