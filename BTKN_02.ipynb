{
  "nbformat": 4,
  "nbformat_minor": 0,
  "metadata": {
    "colab": {
      "provenance": [],
      "authorship_tag": "ABX9TyMqRC2pcXQAIBVoSVSYZ0BX",
      "include_colab_link": true
    },
    "kernelspec": {
      "name": "python3",
      "display_name": "Python 3"
    },
    "language_info": {
      "name": "python"
    }
  },
  "cells": [
    {
      "cell_type": "markdown",
      "metadata": {
        "id": "view-in-github",
        "colab_type": "text"
      },
      "source": [
        "<a href=\"https://colab.research.google.com/github/Hongquanthaort/Git/blob/main/BTKN_02.ipynb\" target=\"_parent\"><img src=\"https://colab.research.google.com/assets/colab-badge.svg\" alt=\"Open In Colab\"/></a>"
      ]
    },
    {
      "cell_type": "code",
      "source": [
        "import os\n",
        "import numpy as np\n",
        "from sklearn.model_selection import train_test_split\n",
        "from sklearn.metrics import mean_squared_error\n"
      ],
      "metadata": {
        "id": "bv6owXNlxNcf"
      },
      "execution_count": null,
      "outputs": []
    },
    {
      "cell_type": "code",
      "source": [
        "def read_scale_data(folder, filename):\n",
        "    D = np.loadtxt(os.path.join(folder, filename), delimiter=',')\n",
        "    X, y = D[:,:-1], D[:,-1]\n",
        "    X, y = scaleData(X, y)\n",
        "    x0 = np.ones((X.shape[0], 1))\n",
        "    X = np.column_stack([x0, X])\n",
        "    X_train, X_test, y_train, y_test = train_test_split(X, y,\n",
        "                                                        test_size=0.30, random_state=15)\n",
        "    y_train = np.reshape(y_train, (y_train.shape[0], 1))\n",
        "    y_test = np.reshape(y_test, (y_test.shape[0], 1))\n",
        "    return X_train, X_test, y_train, y_test\n"
      ],
      "metadata": {
        "id": "07rlE88FxRMQ"
      },
      "execution_count": null,
      "outputs": []
    },
    {
      "cell_type": "code",
      "source": [
        "def featureVectorScaling(data):\n",
        "    avg = np.mean(data)\n",
        "    sln = data.max()\n",
        "    snn = data.min()\n",
        "    data_scl = (data - avg)/(sln - snn)\n",
        "    return data_scl\n"
      ],
      "metadata": {
        "id": "uB6AazI5xSw_"
      },
      "execution_count": null,
      "outputs": []
    },
    {
      "cell_type": "code",
      "source": [
        "def scaleData(X, y):\n",
        "    X_scl = X[:, 0]\n",
        "    for i in range(1, X.shape[1]):\n",
        "        scl = featureVectorScaling(X[:, i])\n",
        "        X_scl = np.column_stack([X_scl, scl])\n",
        "    y_scl = featureVectorScaling(y)\n",
        "    return X_scl, y_scl\n"
      ],
      "metadata": {
        "id": "5lJ95yfJxUqX"
      },
      "execution_count": null,
      "outputs": []
    },
    {
      "cell_type": "code",
      "source": [
        "def computeLoss(X, y, w):\n",
        "    m = y.shape[0]\n",
        "    J = 0\n",
        "    h = np.dot(X, w)\n",
        "    J = (1/(2*m))*np.sum(np.square(h - y))\n",
        "    return J\n"
      ],
      "metadata": {
        "id": "6-Ru-owHxXC2"
      },
      "execution_count": null,
      "outputs": []
    },
    {
      "cell_type": "code",
      "source": [
        "def gradientDescent(X, y, w, alpha, n):\n",
        "    m = y.shape[0]\n",
        "    J_history = []\n",
        "    w_optimal = w.copy()\n",
        "    for i in range(n):\n",
        "        h = np.dot(X, w_optimal)\n",
        "        error = h - y\n",
        "        w_optimal = w_optimal - (alpha/m)*np.dot(X.T, error)\n",
        "        J_history.append(computeLoss(X, y, w_optimal))\n",
        "    return w_optimal, J_history\n"
      ],
      "metadata": {
        "id": "m6JS3p1bxZWO"
      },
      "execution_count": null,
      "outputs": []
    },
    {
      "cell_type": "code",
      "execution_count": null,
      "metadata": {
        "id": "Lp5b_JT1xGiH"
      },
      "outputs": [],
      "source": [
        "def mse(y, y_hat):\n",
        "    m = y.shape[0]\n",
        "    result = (1/m)*np.sum(np.square(y - y_hat))\n",
        "    return result\n",
        "\n"
      ]
    },
    {
      "cell_type": "code",
      "source": [
        "def main():\n",
        "    n = 1500\n",
        "    alpha = 0.01\n",
        "    X_train, X_test, y_train, y_test = read_scale_data(\"D:/tailieuhoc/hocmay\", \"ex1data2.txt\")\n",
        "    X_train, y_train = scaleData(X_train, y_train)\n",
        "    X_test, y_test = scaleData(X_test, y_test)\n",
        "    print('Huấn luyện mô hình trên tập dữ liệu train')\n",
        "    w = np.zeros((X_train.shape[1], 1))\n",
        "    w, J_history = gradientDescent(X_train, y_train, w, alpha, n)\n",
        "    print(\"\\t\\tOptimal weights are: \", w)\n",
        "    print(\"\\t\\tLoss function: \", J_history[-1])\n",
        "    print('Đánh giá mô hình trên tập dữ liệu test')\n",
        "    y_hat = np.dot(X_test, w)\n",
        "    print(\"\\t\\tMSE: \", mse(y_test, y_hat))\n",
        "    print('\\t\\tSử dụng sklearn MSE: ', mean_squared_error(y_test, y_hat))\n",
        "if __name__ == '__main__':\n",
        "    main()"
      ],
      "metadata": {
        "id": "e28NkcMrxK-P"
      },
      "execution_count": null,
      "outputs": []
    }
  ]
}